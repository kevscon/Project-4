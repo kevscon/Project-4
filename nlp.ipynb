{
 "cells": [
  {
   "cell_type": "markdown",
   "metadata": {},
   "source": [
    "# NLP\n",
    "Examine important phrases in addresses using Pointwise Mutual Information (PMI)"
   ]
  },
  {
   "cell_type": "code",
   "execution_count": 1,
   "metadata": {},
   "outputs": [],
   "source": [
    "import pandas as pd\n",
    "import nltk"
   ]
  },
  {
   "cell_type": "markdown",
   "metadata": {},
   "source": [
    "# Data"
   ]
  },
  {
   "cell_type": "code",
   "execution_count": 2,
   "metadata": {
    "scrolled": true
   },
   "outputs": [
    {
     "data": {
      "text/html": [
       "<div>\n",
       "<style scoped>\n",
       "    .dataframe tbody tr th:only-of-type {\n",
       "        vertical-align: middle;\n",
       "    }\n",
       "\n",
       "    .dataframe tbody tr th {\n",
       "        vertical-align: top;\n",
       "    }\n",
       "\n",
       "    .dataframe thead th {\n",
       "        text-align: right;\n",
       "    }\n",
       "</style>\n",
       "<table border=\"1\" class=\"dataframe\">\n",
       "  <thead>\n",
       "    <tr style=\"text-align: right;\">\n",
       "      <th></th>\n",
       "      <th>Title</th>\n",
       "      <th>Date</th>\n",
       "      <th>President</th>\n",
       "      <th>Type</th>\n",
       "      <th>Transcript</th>\n",
       "    </tr>\n",
       "  </thead>\n",
       "  <tbody>\n",
       "    <tr>\n",
       "      <th>0</th>\n",
       "      <td>April 30, 1789: First Inaugural Address</td>\n",
       "      <td>1789-04-30</td>\n",
       "      <td>George Washington</td>\n",
       "      <td>inauguration</td>\n",
       "      <td>Fellow Citizens of the Senate and the House of...</td>\n",
       "    </tr>\n",
       "    <tr>\n",
       "      <th>1</th>\n",
       "      <td>October 3, 1789: Thanksgiving Proclamation</td>\n",
       "      <td>1789-10-03</td>\n",
       "      <td>George Washington</td>\n",
       "      <td>other</td>\n",
       "      <td>Whereas it is the duty of all Nations to ackno...</td>\n",
       "    </tr>\n",
       "    <tr>\n",
       "      <th>2</th>\n",
       "      <td>January 8, 1790: First Annual Message to Congress</td>\n",
       "      <td>1790-01-08</td>\n",
       "      <td>George Washington</td>\n",
       "      <td>state_union</td>\n",
       "      <td>Fellow Citizens of the Senate and House of Rep...</td>\n",
       "    </tr>\n",
       "    <tr>\n",
       "      <th>3</th>\n",
       "      <td>December 8, 1790: Second Annual Message to Con...</td>\n",
       "      <td>1790-12-08</td>\n",
       "      <td>George Washington</td>\n",
       "      <td>state_union</td>\n",
       "      <td>Fellow citizens of the Senate and House of Rep...</td>\n",
       "    </tr>\n",
       "    <tr>\n",
       "      <th>4</th>\n",
       "      <td>December 29, 1790: Talk to the Chiefs and Coun...</td>\n",
       "      <td>1790-12-29</td>\n",
       "      <td>George Washington</td>\n",
       "      <td>other</td>\n",
       "      <td>I the President of the United States, by my ow...</td>\n",
       "    </tr>\n",
       "  </tbody>\n",
       "</table>\n",
       "</div>"
      ],
      "text/plain": [
       "                                               Title       Date  \\\n",
       "0            April 30, 1789: First Inaugural Address 1789-04-30   \n",
       "1         October 3, 1789: Thanksgiving Proclamation 1789-10-03   \n",
       "2  January 8, 1790: First Annual Message to Congress 1790-01-08   \n",
       "3  December 8, 1790: Second Annual Message to Con... 1790-12-08   \n",
       "4  December 29, 1790: Talk to the Chiefs and Coun... 1790-12-29   \n",
       "\n",
       "           President          Type  \\\n",
       "0  George Washington  inauguration   \n",
       "1  George Washington         other   \n",
       "2  George Washington   state_union   \n",
       "3  George Washington   state_union   \n",
       "4  George Washington         other   \n",
       "\n",
       "                                          Transcript  \n",
       "0  Fellow Citizens of the Senate and the House of...  \n",
       "1  Whereas it is the duty of all Nations to ackno...  \n",
       "2  Fellow Citizens of the Senate and House of Rep...  \n",
       "3  Fellow citizens of the Senate and House of Rep...  \n",
       "4  I the President of the United States, by my ow...  "
      ]
     },
     "execution_count": 2,
     "metadata": {},
     "output_type": "execute_result"
    }
   ],
   "source": [
    "transcripts = pd.read_csv('data/cln_transcripts.csv', index_col=0)\n",
    "# formate date column\n",
    "transcripts['Date'] = pd.to_datetime(transcripts['Date'])\n",
    "transcripts.head()"
   ]
  },
  {
   "cell_type": "markdown",
   "metadata": {},
   "source": [
    "# Extract Phrases\n",
    "Extract insightful phrases from addresses"
   ]
  },
  {
   "cell_type": "markdown",
   "metadata": {},
   "source": [
    "## Filter Address Function\n",
    "Filter addresses by speaker and date range "
   ]
  },
  {
   "cell_type": "code",
   "execution_count": 3,
   "metadata": {},
   "outputs": [],
   "source": [
    "def filt_docs(address_df, pres, start_date, end_date):\n",
    "    \n",
    "    # index of filtered addresses\n",
    "    idx = address_df[\n",
    "        (address_df['President'] == pres) & \n",
    "        (address_df['Date'] >= start_date) & \n",
    "        (address_df['Date'] <= end_date)\n",
    "    ].index\n",
    "    \n",
    "    # combine address text into one document\n",
    "    doc = address_df.iloc[idx, :]['Transcript'].str.cat(sep=' ').lower()\n",
    "    \n",
    "    return(doc)"
   ]
  },
  {
   "cell_type": "markdown",
   "metadata": {},
   "source": [
    "## Top Phrases Function\n",
    "Return top phrases from given document"
   ]
  },
  {
   "cell_type": "code",
   "execution_count": 16,
   "metadata": {},
   "outputs": [],
   "source": [
    "def bigram_finder(document, m=1, n=3):\n",
    "    '''\n",
    "    document : text data\n",
    "    m : number of top phrases to return\n",
    "    n : amount of times phrase appears in document\n",
    "    '''\n",
    "    # create tokenizer that ignores punctuation\n",
    "    tokenizer = nltk.tokenize.RegexpTokenizer(r'\\w+')\n",
    "    # tokenize document\n",
    "    words = tokenizer.tokenize(document)\n",
    "    # create method to find trigram co-occurences in document\n",
    "    bigram_measures = nltk.collocations.BigramAssocMeasures()\n",
    "    # create ntlk co-occurence object\n",
    "    finder = nltk.collocations.BigramCollocationFinder.from_words(words)\n",
    "    # filter to trigrams that appear n times\n",
    "    finder.apply_freq_filter(n)\n",
    "    # return trigram with the most importance (highest PMI)\n",
    "    try:\n",
    "        top_phrases = finder.nbest(bigram_measures.pmi, m)\n",
    "    except:\n",
    "        top_phrases = ''\n",
    "    # return top phrase as string\n",
    "    return([' '.join(phrase) for phrase in top_phrases])"
   ]
  },
  {
   "cell_type": "code",
   "execution_count": 10,
   "metadata": {},
   "outputs": [],
   "source": [
    "def trigram_finder(document, m=1, n=3):\n",
    "    '''\n",
    "    document : text data\n",
    "    m : number of top phrases to return\n",
    "    n : amount of times phrase appears in document\n",
    "    '''\n",
    "    # create tokenizer that ignores punctuation\n",
    "    tokenizer = nltk.tokenize.RegexpTokenizer(r'\\w+')\n",
    "    # tokenize document\n",
    "    words = tokenizer.tokenize(document)\n",
    "    # create method to find trigram co-occurences in document\n",
    "    trigram_measures = nltk.collocations.TrigramAssocMeasures()\n",
    "    # create ntlk co-occurence object\n",
    "    finder = nltk.collocations.TrigramCollocationFinder.from_words(words)\n",
    "    # filter to trigrams that appear n times\n",
    "    finder.apply_freq_filter(n)\n",
    "    # return trigram with the most importance (highest PMI)\n",
    "    try:\n",
    "        top_phrases = finder.nbest(trigram_measures.pmi, m)\n",
    "    except:\n",
    "        top_phrases = ''\n",
    "    # return top phrase as string\n",
    "    return([' '.join(phrase) for phrase in top_phrases])"
   ]
  },
  {
   "cell_type": "markdown",
   "metadata": {},
   "source": [
    "# Civil War"
   ]
  },
  {
   "cell_type": "markdown",
   "metadata": {},
   "source": [
    "## Lincoln"
   ]
  },
  {
   "cell_type": "code",
   "execution_count": 11,
   "metadata": {},
   "outputs": [],
   "source": [
    "start_date = '1861-04-12'\n",
    "end_date = '1865-04-09'\n",
    "pres = 'Abraham Lincoln'"
   ]
  },
  {
   "cell_type": "code",
   "execution_count": 12,
   "metadata": {},
   "outputs": [],
   "source": [
    "doc = filt_docs(transcripts, pres, start_date, end_date)"
   ]
  },
  {
   "cell_type": "code",
   "execution_count": 18,
   "metadata": {},
   "outputs": [
    {
     "data": {
      "text/plain": [
       "['inaugural address',\n",
       " 'per cent',\n",
       " 'post office',\n",
       " 'annual message',\n",
       " 'supreme court',\n",
       " 'fort sumter',\n",
       " 'lee s',\n",
       " 'four years',\n",
       " 'years ago',\n",
       " 'interior region',\n",
       " 'slave trade',\n",
       " 'south carolina',\n",
       " 'compensated emancipation',\n",
       " 'fellow citizens',\n",
       " 'new york',\n",
       " 'postmaster general',\n",
       " 'invite your',\n",
       " '1st day',\n",
       " 'fiscal year',\n",
       " 'great britain']"
      ]
     },
     "execution_count": 18,
     "metadata": {},
     "output_type": "execute_result"
    }
   ],
   "source": [
    "# bigram phrases\n",
    "bigram_finder(doc, m=20, n=5)"
   ]
  },
  {
   "cell_type": "code",
   "execution_count": 19,
   "metadata": {},
   "outputs": [
    {
     "data": {
      "text/plain": [
       "['post office department',\n",
       " 'last annual message',\n",
       " 'lee s army',\n",
       " 'house of representatives',\n",
       " 'the inaugural address',\n",
       " 'leaving a balance',\n",
       " 'senate and house',\n",
       " 'the post office',\n",
       " 'from all sources',\n",
       " 'day of january',\n",
       " 'receipts and disbursements',\n",
       " 'fellow citizens of',\n",
       " 'our relations with',\n",
       " '1st day of',\n",
       " 'so far as',\n",
       " 'the postmaster general',\n",
       " 'upon this subject',\n",
       " 'the 1st day',\n",
       " 'it is hoped',\n",
       " 'if you are']"
      ]
     },
     "execution_count": 19,
     "metadata": {},
     "output_type": "execute_result"
    }
   ],
   "source": [
    "# trigram phrases\n",
    "trigram_finder(doc, m=20, n=5)"
   ]
  },
  {
   "cell_type": "markdown",
   "metadata": {},
   "source": [
    "# World War 2"
   ]
  },
  {
   "cell_type": "markdown",
   "metadata": {},
   "source": [
    "## FDR"
   ]
  },
  {
   "cell_type": "code",
   "execution_count": 22,
   "metadata": {},
   "outputs": [],
   "source": [
    "start_date = '1939-09-01'\n",
    "end_date = '1945-09-02'\n",
    "pres = 'Franklin D. Roosevelt'"
   ]
  },
  {
   "cell_type": "code",
   "execution_count": 23,
   "metadata": {},
   "outputs": [],
   "source": [
    "doc = filt_docs(transcripts, pres, start_date, end_date)"
   ]
  },
  {
   "cell_type": "code",
   "execution_count": 24,
   "metadata": {},
   "outputs": [
    {
     "data": {
      "text/plain": [
       "['dumbarton oaks',\n",
       " 'chiang kai',\n",
       " 'kai shek',\n",
       " 'prime minister',\n",
       " 'san francisco',\n",
       " 'generalissimo chiang',\n",
       " 'dr wassell',\n",
       " 'white house',\n",
       " 'marshal stalin',\n",
       " 'unconditional surrender',\n",
       " 'pearl harbor',\n",
       " 'billion dollars',\n",
       " 'raw materials',\n",
       " 'overwhelming majority',\n",
       " 'indian ocean',\n",
       " 'polish provisional',\n",
       " 'selective service',\n",
       " 'mr churchill',\n",
       " 'general macarthur',\n",
       " 'farm products']"
      ]
     },
     "execution_count": 24,
     "metadata": {},
     "output_type": "execute_result"
    }
   ],
   "source": [
    "bigram_finder(doc, m=20, n=5)"
   ]
  },
  {
   "cell_type": "code",
   "execution_count": 25,
   "metadata": {},
   "outputs": [
    {
     "data": {
      "text/plain": [
       "['chiang kai shek',\n",
       " 'generalissimo chiang kai',\n",
       " 'polish provisional government',\n",
       " 'plain common sense',\n",
       " 'at pearl harbor',\n",
       " 'united mine workers',\n",
       " 'my fellow americans',\n",
       " 'times greater than',\n",
       " 'on pearl harbor',\n",
       " 'war labor board',\n",
       " 'here back home',\n",
       " 'woman and child',\n",
       " 'commander in chief',\n",
       " 'does not mean',\n",
       " 'i am confident',\n",
       " 'two years ago',\n",
       " 'let us remember',\n",
       " 'than ever before',\n",
       " 'cairo and teheran',\n",
       " 'the white house']"
      ]
     },
     "execution_count": 25,
     "metadata": {},
     "output_type": "execute_result"
    }
   ],
   "source": [
    "trigram_finder(doc, m=20, n=5)"
   ]
  },
  {
   "cell_type": "markdown",
   "metadata": {},
   "source": [
    "# Vietnam War"
   ]
  },
  {
   "cell_type": "markdown",
   "metadata": {},
   "source": [
    "## Johnson"
   ]
  },
  {
   "cell_type": "code",
   "execution_count": 26,
   "metadata": {},
   "outputs": [],
   "source": [
    "start_date = '1964-08-02'\n",
    "end_date = '1975-04-30'\n",
    "pres = 'Lyndon B. Johnson'"
   ]
  },
  {
   "cell_type": "code",
   "execution_count": 27,
   "metadata": {},
   "outputs": [],
   "source": [
    "doc = filt_docs(transcripts, pres, start_date, end_date)"
   ]
  },
  {
   "cell_type": "code",
   "execution_count": 28,
   "metadata": {},
   "outputs": [
    {
     "data": {
      "text/plain": [
       "['los angeles',\n",
       " 'chi minh',\n",
       " 'ho chi',\n",
       " 'abraham lincoln',\n",
       " 'andrew jackson',\n",
       " 'de gaulle',\n",
       " 'infant mortality',\n",
       " 'johns hopkins',\n",
       " 'random selection',\n",
       " 'o clock',\n",
       " 'rent supplements',\n",
       " 'core unemployed',\n",
       " 'cuban missile',\n",
       " 'guerrilla warfare',\n",
       " 'sam rayburn',\n",
       " 'san antonio',\n",
       " 'san francisco',\n",
       " 'broadly based',\n",
       " 'constituent assembly',\n",
       " 'ranks 15th']"
      ]
     },
     "execution_count": 28,
     "metadata": {},
     "output_type": "execute_result"
    }
   ],
   "source": [
    "bigram_finder(doc, m=20, n=5)"
   ]
  },
  {
   "cell_type": "code",
   "execution_count": 29,
   "metadata": {},
   "outputs": [
    {
     "data": {
      "text/plain": [
       "['ho chi minh',\n",
       " 'cuban missile crisis',\n",
       " 'infant mortality rate',\n",
       " 'hard core unemployed',\n",
       " 'ranks 15th among',\n",
       " 'gross national product',\n",
       " 'john f kennedy',\n",
       " 'test ban treaty',\n",
       " 'asian development bank',\n",
       " 'international monetary system',\n",
       " 'earliest possible date',\n",
       " 'at johns hopkins',\n",
       " 'harry s truman',\n",
       " 'safe streets act',\n",
       " 'fiscal 1969 budget',\n",
       " 'federal reserve board',\n",
       " 'earliest possible moment',\n",
       " 'extending back through',\n",
       " 'good afternoon ladies',\n",
       " 'foreign relations committee']"
      ]
     },
     "execution_count": 29,
     "metadata": {},
     "output_type": "execute_result"
    }
   ],
   "source": [
    "trigram_finder(doc, m=20, n=5)"
   ]
  },
  {
   "cell_type": "markdown",
   "metadata": {},
   "source": [
    "## Nixon"
   ]
  },
  {
   "cell_type": "code",
   "execution_count": 30,
   "metadata": {},
   "outputs": [],
   "source": [
    "pres = 'Richard M. Nixon'"
   ]
  },
  {
   "cell_type": "code",
   "execution_count": 31,
   "metadata": {},
   "outputs": [],
   "source": [
    "doc = filt_docs(transcripts, pres, start_date, end_date)"
   ]
  },
  {
   "cell_type": "code",
   "execution_count": 32,
   "metadata": {},
   "outputs": [
    {
     "data": {
      "text/plain": [
       "['internationally supervised',\n",
       " 'st clair',\n",
       " 'abraham lincoln',\n",
       " 'impeachable offense',\n",
       " 'd c',\n",
       " 'revenue sharing',\n",
       " 'supreme court',\n",
       " '200th anniversary',\n",
       " 'final analysis',\n",
       " 'grand jury',\n",
       " 'dr kissinger',\n",
       " 'treaty commitments',\n",
       " 'cease fire',\n",
       " 'march 21',\n",
       " 'conference table',\n",
       " 'middle east',\n",
       " 'super powers',\n",
       " 'southeast asia',\n",
       " 'attorney general',\n",
       " 'special prosecutor']"
      ]
     },
     "execution_count": 32,
     "metadata": {},
     "output_type": "execute_result"
    }
   ],
   "source": [
    "bigram_finder(doc, m=20, n=5)"
   ]
  },
  {
   "cell_type": "code",
   "execution_count": 33,
   "metadata": {},
   "outputs": [
    {
     "data": {
      "text/plain": [
       "['washington d c',\n",
       " 'mr st clair',\n",
       " '5 1 2',\n",
       " 'an impeachable offense',\n",
       " 'white house staff',\n",
       " 'white house counsel',\n",
       " 'house judiciary committee',\n",
       " 'prosperity without inflation',\n",
       " 'our treaty commitments',\n",
       " 'on march 21',\n",
       " 'turning away from',\n",
       " 'mr speaker mr',\n",
       " 'commander in chief',\n",
       " '1 2 years',\n",
       " 'go forward together',\n",
       " 'new attorney general',\n",
       " 'q mr president',\n",
       " 'a cease fire',\n",
       " 'the supreme court',\n",
       " 'my fellow americans']"
      ]
     },
     "execution_count": 33,
     "metadata": {},
     "output_type": "execute_result"
    }
   ],
   "source": [
    "trigram_finder(doc, m=20, n=5)"
   ]
  },
  {
   "cell_type": "markdown",
   "metadata": {},
   "source": [
    "# War on Terror"
   ]
  },
  {
   "cell_type": "markdown",
   "metadata": {},
   "source": [
    "## Bush"
   ]
  },
  {
   "cell_type": "code",
   "execution_count": 34,
   "metadata": {},
   "outputs": [],
   "source": [
    "start_date = '2001-09-11'\n",
    "end_date = '2011-09-11'\n",
    "pres = 'George W. Bush'"
   ]
  },
  {
   "cell_type": "code",
   "execution_count": 35,
   "metadata": {},
   "outputs": [],
   "source": [
    "doc = filt_docs(transcripts, pres, start_date, end_date)"
   ]
  },
  {
   "cell_type": "code",
   "execution_count": 36,
   "metadata": {},
   "outputs": [
    {
     "data": {
      "text/plain": [
       "['bin laden',\n",
       " 'pell grants',\n",
       " 'torture chambers',\n",
       " 'ronald reagan',\n",
       " 'red cross',\n",
       " 'sustainable cease',\n",
       " 'saudi arabia',\n",
       " 'prime minister',\n",
       " 'wall street',\n",
       " 'palestinian territories',\n",
       " 'distinguished guests',\n",
       " 'elect obama',\n",
       " 'auto industry',\n",
       " 'd c',\n",
       " 'holy land',\n",
       " 'loved ones',\n",
       " 'embryonic stem',\n",
       " 'oval office',\n",
       " 'less dependent',\n",
       " 'speaker vice']"
      ]
     },
     "execution_count": 36,
     "metadata": {},
     "output_type": "execute_result"
    }
   ],
   "source": [
    "bigram_finder(doc, m=20, n=5)"
   ]
  },
  {
   "cell_type": "code",
   "execution_count": 37,
   "metadata": {},
   "outputs": [
    {
     "data": {
      "text/plain": [
       "['sustainable cease fire',\n",
       " 'washington d c',\n",
       " 'embryonic stem cell',\n",
       " 'mr speaker vice',\n",
       " 'embryonic stem cells',\n",
       " 'vice president cheney',\n",
       " 'stem cell research',\n",
       " 'temporary worker program',\n",
       " 'president elect obama',\n",
       " 'u n inspectors',\n",
       " 'speaker vice president',\n",
       " 'medical liability reform',\n",
       " 'usa freedom corps',\n",
       " 'both political parties',\n",
       " 'border patrol agents',\n",
       " 'may god bless',\n",
       " 'health savings accounts',\n",
       " 'prescription drug coverage',\n",
       " 'child left behind',\n",
       " 'security council resolutions']"
      ]
     },
     "execution_count": 37,
     "metadata": {},
     "output_type": "execute_result"
    }
   ],
   "source": [
    "trigram_finder(doc, m=20, n=5)"
   ]
  },
  {
   "cell_type": "markdown",
   "metadata": {},
   "source": [
    "## Obama"
   ]
  },
  {
   "cell_type": "code",
   "execution_count": 38,
   "metadata": {},
   "outputs": [],
   "source": [
    "pres = 'Barack Obama'"
   ]
  },
  {
   "cell_type": "code",
   "execution_count": 39,
   "metadata": {},
   "outputs": [],
   "source": [
    "doc = filt_docs(transcripts, pres, start_date, end_date)"
   ]
  },
  {
   "cell_type": "code",
   "execution_count": 40,
   "metadata": {},
   "outputs": [
    {
     "data": {
      "text/plain": [
       "['greenhouse gases',\n",
       " 'mitch mcconnell',\n",
       " 'holy koran',\n",
       " 'natural gas',\n",
       " 'status quo',\n",
       " 'eastern europe',\n",
       " 'bottom line',\n",
       " 'supreme court',\n",
       " 'judge sotomayor',\n",
       " 'u n',\n",
       " 'violent extremism',\n",
       " '9 11',\n",
       " 'bin laden',\n",
       " 'loved ones',\n",
       " 'osama bin',\n",
       " 'gulf coast',\n",
       " 'safe havens',\n",
       " 'preexisting conditions',\n",
       " 'audience member',\n",
       " 'wall street']"
      ]
     },
     "execution_count": 40,
     "metadata": {},
     "output_type": "execute_result"
    }
   ],
   "source": [
    "bigram_finder(doc, m=20, n=5)"
   ]
  },
  {
   "cell_type": "code",
   "execution_count": 41,
   "metadata": {},
   "outputs": [
    {
     "data": {
      "text/plain": [
       "['osama bin laden',\n",
       " 'vice president biden',\n",
       " 'congressional budget office',\n",
       " 'small business owner',\n",
       " 'muslim majority countries',\n",
       " 'small business owners',\n",
       " 'may god bless',\n",
       " 'after 9 11',\n",
       " 'middle class families',\n",
       " 'innocent men women',\n",
       " 'commander in chief',\n",
       " 'round of applause',\n",
       " 'afghan security forces',\n",
       " 'hire new workers',\n",
       " 'taliban s momentum',\n",
       " 'be held accountable',\n",
       " 'and mitch mcconnell',\n",
       " 'against al qaeda',\n",
       " 'boehner and mitch',\n",
       " 'make no mistake']"
      ]
     },
     "execution_count": 41,
     "metadata": {},
     "output_type": "execute_result"
    }
   ],
   "source": [
    "trigram_finder(doc, m=20, n=5)"
   ]
  },
  {
   "cell_type": "code",
   "execution_count": null,
   "metadata": {},
   "outputs": [],
   "source": []
  }
 ],
 "metadata": {
  "kernelspec": {
   "display_name": "Python 3",
   "language": "python",
   "name": "python3"
  },
  "language_info": {
   "codemirror_mode": {
    "name": "ipython",
    "version": 3
   },
   "file_extension": ".py",
   "mimetype": "text/x-python",
   "name": "python",
   "nbconvert_exporter": "python",
   "pygments_lexer": "ipython3",
   "version": "3.6.5"
  }
 },
 "nbformat": 4,
 "nbformat_minor": 2
}
