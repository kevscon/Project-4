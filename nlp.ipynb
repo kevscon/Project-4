{
 "cells": [
  {
   "cell_type": "code",
   "execution_count": 1,
   "metadata": {},
   "outputs": [],
   "source": [
    "import pandas as pd"
   ]
  },
  {
   "cell_type": "markdown",
   "metadata": {},
   "source": [
    "# Data"
   ]
  },
  {
   "cell_type": "code",
   "execution_count": 2,
   "metadata": {
    "scrolled": true
   },
   "outputs": [
    {
     "data": {
      "text/html": [
       "<div>\n",
       "<style scoped>\n",
       "    .dataframe tbody tr th:only-of-type {\n",
       "        vertical-align: middle;\n",
       "    }\n",
       "\n",
       "    .dataframe tbody tr th {\n",
       "        vertical-align: top;\n",
       "    }\n",
       "\n",
       "    .dataframe thead th {\n",
       "        text-align: right;\n",
       "    }\n",
       "</style>\n",
       "<table border=\"1\" class=\"dataframe\">\n",
       "  <thead>\n",
       "    <tr style=\"text-align: right;\">\n",
       "      <th></th>\n",
       "      <th>Title</th>\n",
       "      <th>Date</th>\n",
       "      <th>President</th>\n",
       "      <th>Type</th>\n",
       "      <th>Transcript</th>\n",
       "    </tr>\n",
       "  </thead>\n",
       "  <tbody>\n",
       "    <tr>\n",
       "      <th>0</th>\n",
       "      <td>April 30, 1789: First Inaugural Address</td>\n",
       "      <td>1789-04-30</td>\n",
       "      <td>George Washington</td>\n",
       "      <td>inauguration</td>\n",
       "      <td>Fellow Citizens of the Senate and the House of...</td>\n",
       "    </tr>\n",
       "    <tr>\n",
       "      <th>1</th>\n",
       "      <td>October 3, 1789: Thanksgiving Proclamation</td>\n",
       "      <td>1789-10-03</td>\n",
       "      <td>George Washington</td>\n",
       "      <td>other</td>\n",
       "      <td>Whereas it is the duty of all Nations to ackno...</td>\n",
       "    </tr>\n",
       "    <tr>\n",
       "      <th>2</th>\n",
       "      <td>January 8, 1790: First Annual Message to Congress</td>\n",
       "      <td>1790-01-08</td>\n",
       "      <td>George Washington</td>\n",
       "      <td>state_union</td>\n",
       "      <td>Fellow Citizens of the Senate and House of Rep...</td>\n",
       "    </tr>\n",
       "    <tr>\n",
       "      <th>3</th>\n",
       "      <td>December 8, 1790: Second Annual Message to Con...</td>\n",
       "      <td>1790-12-08</td>\n",
       "      <td>George Washington</td>\n",
       "      <td>state_union</td>\n",
       "      <td>Fellow citizens of the Senate and House of Rep...</td>\n",
       "    </tr>\n",
       "    <tr>\n",
       "      <th>4</th>\n",
       "      <td>December 29, 1790: Talk to the Chiefs and Coun...</td>\n",
       "      <td>1790-12-29</td>\n",
       "      <td>George Washington</td>\n",
       "      <td>other</td>\n",
       "      <td>I the President of the United States, by my ow...</td>\n",
       "    </tr>\n",
       "  </tbody>\n",
       "</table>\n",
       "</div>"
      ],
      "text/plain": [
       "                                               Title        Date  \\\n",
       "0            April 30, 1789: First Inaugural Address  1789-04-30   \n",
       "1         October 3, 1789: Thanksgiving Proclamation  1789-10-03   \n",
       "2  January 8, 1790: First Annual Message to Congress  1790-01-08   \n",
       "3  December 8, 1790: Second Annual Message to Con...  1790-12-08   \n",
       "4  December 29, 1790: Talk to the Chiefs and Coun...  1790-12-29   \n",
       "\n",
       "           President          Type  \\\n",
       "0  George Washington  inauguration   \n",
       "1  George Washington         other   \n",
       "2  George Washington   state_union   \n",
       "3  George Washington   state_union   \n",
       "4  George Washington         other   \n",
       "\n",
       "                                          Transcript  \n",
       "0  Fellow Citizens of the Senate and the House of...  \n",
       "1  Whereas it is the duty of all Nations to ackno...  \n",
       "2  Fellow Citizens of the Senate and House of Rep...  \n",
       "3  Fellow citizens of the Senate and House of Rep...  \n",
       "4  I the President of the United States, by my ow...  "
      ]
     },
     "execution_count": 2,
     "metadata": {},
     "output_type": "execute_result"
    }
   ],
   "source": [
    "transcripts = pd.read_csv('data/cln_transcripts.csv', index_col=0)\n",
    "transcripts.head()"
   ]
  },
  {
   "cell_type": "code",
   "execution_count": 3,
   "metadata": {},
   "outputs": [],
   "source": [
    "# text data\n",
    "documents = transcripts['Transcript']"
   ]
  },
  {
   "cell_type": "code",
   "execution_count": 4,
   "metadata": {},
   "outputs": [],
   "source": [
    "doc = documents[950]"
   ]
  },
  {
   "cell_type": "markdown",
   "metadata": {},
   "source": [
    "# Extract Phrases\n",
    "Extract most common phrases from addresses"
   ]
  },
  {
   "cell_type": "code",
   "execution_count": 5,
   "metadata": {},
   "outputs": [],
   "source": [
    "import nltk"
   ]
  },
  {
   "cell_type": "code",
   "execution_count": 64,
   "metadata": {},
   "outputs": [],
   "source": [
    "def top_phrase(document, n=3):\n",
    "    # create tokenizer that ignores punctuation\n",
    "    tokenizer = nltk.tokenize.RegexpTokenizer(r'\\w+')\n",
    "    # tokenize document\n",
    "    words = tokenizer.tokenize(document)\n",
    "    # create method to find trigram co-occurences in document\n",
    "    trigram_measures = nltk.collocations.TrigramAssocMeasures()\n",
    "    # create ntlk co-occurence object\n",
    "    finder = nltk.collocations.TrigramCollocationFinder.from_words(words)\n",
    "    # filter to trigrams that appear n times\n",
    "    finder.apply_freq_filter(n)\n",
    "    # return trigram with the most importance (highest PMI)\n",
    "    try:\n",
    "        top_phrase = finder.nbest(trigram_measures.pmi, 1)[0]\n",
    "    except:\n",
    "        top_phrase = ''\n",
    "    # return top phrase as string\n",
    "    return(' '.join(top_phrase))"
   ]
  },
  {
   "cell_type": "code",
   "execution_count": 65,
   "metadata": {},
   "outputs": [
    {
     "data": {
      "text/plain": [
       "'middle class families'"
      ]
     },
     "execution_count": 65,
     "metadata": {},
     "output_type": "execute_result"
    }
   ],
   "source": [
    "top_phrase(doc)"
   ]
  },
  {
   "cell_type": "code",
   "execution_count": 54,
   "metadata": {},
   "outputs": [],
   "source": [
    "def phrase_finder(document, n=3, m=1):\n",
    "    # create tokenizer that ignores punctuation\n",
    "    tokenizer = nltk.tokenize.RegexpTokenizer(r'\\w+')\n",
    "    # tokenize document\n",
    "    words = tokenizer.tokenize(document)\n",
    "    # create method to find trigram co-occurences in document\n",
    "    trigram_measures = nltk.collocations.TrigramAssocMeasures()\n",
    "    # create ntlk co-occurence object\n",
    "    finder = nltk.collocations.TrigramCollocationFinder.from_words(words)\n",
    "    # filter to trigrams that appear n times\n",
    "    finder.apply_freq_filter(n)\n",
    "    # return trigram with the most importance (highest PMI)\n",
    "    try:\n",
    "        top_phrases = finder.nbest(trigram_measures.pmi, m)\n",
    "    except:\n",
    "        top_phrases = ''\n",
    "    # return top phrase as string\n",
    "    return([' '.join(phrase) for phrase in top_phrases])"
   ]
  },
  {
   "cell_type": "code",
   "execution_count": 60,
   "metadata": {},
   "outputs": [
    {
     "data": {
      "text/plain": [
       "['middle class families']"
      ]
     },
     "execution_count": 60,
     "metadata": {},
     "output_type": "execute_result"
    }
   ],
   "source": [
    "phrase_finder(doc)"
   ]
  },
  {
   "cell_type": "markdown",
   "metadata": {},
   "source": [
    "## Extraction"
   ]
  },
  {
   "cell_type": "code",
   "execution_count": 51,
   "metadata": {},
   "outputs": [
    {
     "data": {
      "text/plain": [
       "0                       in which I\n",
       "1                    the People of\n",
       "2                the United States\n",
       "3         House of Representatives\n",
       "4                    to treat with\n",
       "5                  laid before you\n",
       "6                    of the States\n",
       "7                  laid before you\n",
       "8                the United States\n",
       "9                                 \n",
       "10               the United States\n",
       "11        House of Representatives\n",
       "12             to their respective\n",
       "13               the United States\n",
       "14        House of Representatives\n",
       "15              against the United\n",
       "16                  be laid before\n",
       "17              advice and consent\n",
       "18            general or principal\n",
       "19                     when we may\n",
       "20            his Catholic Majesty\n",
       "21                     it shall be\n",
       "22        House of Representatives\n",
       "23     The commissioners appointed\n",
       "24                 which they have\n",
       "25        House of Representatives\n",
       "26     the commissioners appointed\n",
       "27               the United States\n",
       "28               the United States\n",
       "29        House of Representatives\n",
       "                  ...             \n",
       "968                  at Sandy Hook\n",
       "969                   doesn t mean\n",
       "970             student loan rates\n",
       "971                     as well as\n",
       "972                  never be able\n",
       "973                nation on Earth\n",
       "974                 get right with\n",
       "975              tight knit family\n",
       "976              Voting Rights Act\n",
       "977           alleged killer could\n",
       "978            my fellow Americans\n",
       "979                     You see it\n",
       "980               re talking about\n",
       "981                     I had told\n",
       "982              Will Make America\n",
       "983                   not too much\n",
       "984              the United States\n",
       "985                  CROWD USA USA\n",
       "986              take ownership of\n",
       "987                very much Thank\n",
       "988              since my election\n",
       "989                    it If there\n",
       "990                 period of time\n",
       "991                               \n",
       "992              West Side Highway\n",
       "993       law enforcement officers\n",
       "994                   World War II\n",
       "995                    That is why\n",
       "996              the United States\n",
       "997                 First Step Act\n",
       "Name: Transcript, Length: 998, dtype: object"
      ]
     },
     "execution_count": 51,
     "metadata": {},
     "output_type": "execute_result"
    }
   ],
   "source": [
    "transcripts['Transcript'].apply(top_phrase)"
   ]
  },
  {
   "cell_type": "code",
   "execution_count": null,
   "metadata": {},
   "outputs": [],
   "source": []
  },
  {
   "cell_type": "code",
   "execution_count": null,
   "metadata": {},
   "outputs": [],
   "source": []
  },
  {
   "cell_type": "markdown",
   "metadata": {},
   "source": [
    "# Parts of Speech"
   ]
  },
  {
   "cell_type": "code",
   "execution_count": 61,
   "metadata": {},
   "outputs": [],
   "source": [
    "import spacy"
   ]
  },
  {
   "cell_type": "code",
   "execution_count": 62,
   "metadata": {},
   "outputs": [],
   "source": [
    "nlp = spacy.load('en')"
   ]
  },
  {
   "cell_type": "code",
   "execution_count": 71,
   "metadata": {},
   "outputs": [],
   "source": [
    "def phrase_parts(phrase):\n",
    "    return([token.pos_ for token in nlp(phrase)])"
   ]
  },
  {
   "cell_type": "code",
   "execution_count": 73,
   "metadata": {},
   "outputs": [
    {
     "data": {
      "text/plain": [
       "['ADJ', 'NOUN', 'NOUN']"
      ]
     },
     "execution_count": 73,
     "metadata": {},
     "output_type": "execute_result"
    }
   ],
   "source": [
    "phrase_parts(top_phrase(doc))"
   ]
  },
  {
   "cell_type": "code",
   "execution_count": 70,
   "metadata": {},
   "outputs": [
    {
     "data": {
      "text/html": [
       "<svg xmlns=\"http://www.w3.org/2000/svg\" xmlns:xlink=\"http://www.w3.org/1999/xlink\" xml:lang=\"en\" id=\"2aed7d6dab294226b58ce67dadb71742-0\" class=\"displacy\" width=\"575\" height=\"224.5\" direction=\"ltr\" style=\"max-width: none; height: 224.5px; color: #000000; background: #ffffff; font-family: Arial; direction: ltr\">\n",
       "<text class=\"displacy-token\" fill=\"currentColor\" text-anchor=\"middle\" y=\"134.5\">\n",
       "    <tspan class=\"displacy-word\" fill=\"currentColor\" x=\"50\">middle</tspan>\n",
       "    <tspan class=\"displacy-tag\" dy=\"2em\" fill=\"currentColor\" x=\"50\">ADJ</tspan>\n",
       "</text>\n",
       "\n",
       "<text class=\"displacy-token\" fill=\"currentColor\" text-anchor=\"middle\" y=\"134.5\">\n",
       "    <tspan class=\"displacy-word\" fill=\"currentColor\" x=\"225\">class</tspan>\n",
       "    <tspan class=\"displacy-tag\" dy=\"2em\" fill=\"currentColor\" x=\"225\">NOUN</tspan>\n",
       "</text>\n",
       "\n",
       "<text class=\"displacy-token\" fill=\"currentColor\" text-anchor=\"middle\" y=\"134.5\">\n",
       "    <tspan class=\"displacy-word\" fill=\"currentColor\" x=\"400\">families</tspan>\n",
       "    <tspan class=\"displacy-tag\" dy=\"2em\" fill=\"currentColor\" x=\"400\">NOUN</tspan>\n",
       "</text>\n",
       "\n",
       "<g class=\"displacy-arrow\">\n",
       "    <path class=\"displacy-arc\" id=\"arrow-2aed7d6dab294226b58ce67dadb71742-0-0\" stroke-width=\"2px\" d=\"M70,89.5 C70,2.0 225.0,2.0 225.0,89.5\" fill=\"none\" stroke=\"currentColor\"/>\n",
       "    <text dy=\"1.25em\" style=\"font-size: 0.8em; letter-spacing: 1px\">\n",
       "        <textPath xlink:href=\"#arrow-2aed7d6dab294226b58ce67dadb71742-0-0\" class=\"displacy-label\" startOffset=\"50%\" side=\"left\" fill=\"currentColor\" text-anchor=\"middle\">amod</textPath>\n",
       "    </text>\n",
       "    <path class=\"displacy-arrowhead\" d=\"M70,91.5 L62,79.5 78,79.5\" fill=\"currentColor\"/>\n",
       "</g>\n",
       "\n",
       "<g class=\"displacy-arrow\">\n",
       "    <path class=\"displacy-arc\" id=\"arrow-2aed7d6dab294226b58ce67dadb71742-0-1\" stroke-width=\"2px\" d=\"M245,89.5 C245,2.0 400.0,2.0 400.0,89.5\" fill=\"none\" stroke=\"currentColor\"/>\n",
       "    <text dy=\"1.25em\" style=\"font-size: 0.8em; letter-spacing: 1px\">\n",
       "        <textPath xlink:href=\"#arrow-2aed7d6dab294226b58ce67dadb71742-0-1\" class=\"displacy-label\" startOffset=\"50%\" side=\"left\" fill=\"currentColor\" text-anchor=\"middle\">compound</textPath>\n",
       "    </text>\n",
       "    <path class=\"displacy-arrowhead\" d=\"M245,91.5 L237,79.5 253,79.5\" fill=\"currentColor\"/>\n",
       "</g>\n",
       "</svg>"
      ],
      "text/plain": [
       "<IPython.core.display.HTML object>"
      ]
     },
     "metadata": {},
     "output_type": "display_data"
    }
   ],
   "source": [
    "spacy.displacy.render(nlp(phrase), style='dep')"
   ]
  },
  {
   "cell_type": "code",
   "execution_count": null,
   "metadata": {},
   "outputs": [],
   "source": []
  },
  {
   "cell_type": "code",
   "execution_count": null,
   "metadata": {},
   "outputs": [],
   "source": []
  },
  {
   "cell_type": "code",
   "execution_count": null,
   "metadata": {},
   "outputs": [],
   "source": []
  },
  {
   "cell_type": "code",
   "execution_count": 74,
   "metadata": {},
   "outputs": [
    {
     "name": "stdout",
     "output_type": "stream",
     "text": [
      "middle JJ class amod\n",
      "class NN families compound\n",
      "families NNS families ROOT\n"
     ]
    }
   ],
   "source": [
    "text = 'middle class families'\n",
    "text_doc = nlp(text)\n",
    "for token in text_doc:\n",
    "    print (token.text, token.tag_, token.head.text, token.dep_) # fine-grained tagging"
   ]
  },
  {
   "cell_type": "code",
   "execution_count": null,
   "metadata": {},
   "outputs": [],
   "source": []
  },
  {
   "cell_type": "code",
   "execution_count": null,
   "metadata": {},
   "outputs": [],
   "source": []
  },
  {
   "cell_type": "code",
   "execution_count": null,
   "metadata": {},
   "outputs": [],
   "source": []
  }
 ],
 "metadata": {
  "kernelspec": {
   "display_name": "Python 3",
   "language": "python",
   "name": "python3"
  },
  "language_info": {
   "codemirror_mode": {
    "name": "ipython",
    "version": 3
   },
   "file_extension": ".py",
   "mimetype": "text/x-python",
   "name": "python",
   "nbconvert_exporter": "python",
   "pygments_lexer": "ipython3",
   "version": "3.6.5"
  }
 },
 "nbformat": 4,
 "nbformat_minor": 2
}
