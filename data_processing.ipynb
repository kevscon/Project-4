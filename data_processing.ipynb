{
 "cells": [
  {
   "cell_type": "markdown",
   "metadata": {},
   "source": [
    "# Transcript Data Processing\n",
    "This notebook processes presidential address transcript files. This includes filtering, cleaning and exporting the dataframe for topic modeling."
   ]
  },
  {
   "cell_type": "code",
   "execution_count": 1,
   "metadata": {},
   "outputs": [],
   "source": [
    "import pandas as pd\n",
    "import re"
   ]
  },
  {
   "cell_type": "markdown",
   "metadata": {},
   "source": [
    "# Process Data"
   ]
  },
  {
   "cell_type": "code",
   "execution_count": 1,
   "metadata": {},
   "outputs": [],
   "source": [
    "import sys"
   ]
  },
  {
   "cell_type": "code",
   "execution_count": 2,
   "metadata": {},
   "outputs": [
    {
     "data": {
      "text/plain": [
       "'3.6.5 |Anaconda custom (64-bit)| (default, Apr 29 2018, 16:14:56) \\n[GCC 7.2.0]'"
      ]
     },
     "execution_count": 2,
     "metadata": {},
     "output_type": "execute_result"
    }
   ],
   "source": [
    "sys.version"
   ]
  },
  {
   "cell_type": "markdown",
   "metadata": {},
   "source": [
    "## Load Data"
   ]
  },
  {
   "cell_type": "code",
   "execution_count": 2,
   "metadata": {},
   "outputs": [
    {
     "data": {
      "text/html": [
       "<div>\n",
       "<style scoped>\n",
       "    .dataframe tbody tr th:only-of-type {\n",
       "        vertical-align: middle;\n",
       "    }\n",
       "\n",
       "    .dataframe tbody tr th {\n",
       "        vertical-align: top;\n",
       "    }\n",
       "\n",
       "    .dataframe thead th {\n",
       "        text-align: right;\n",
       "    }\n",
       "</style>\n",
       "<table border=\"1\" class=\"dataframe\">\n",
       "  <thead>\n",
       "    <tr style=\"text-align: right;\">\n",
       "      <th></th>\n",
       "      <th>Title</th>\n",
       "      <th>Date</th>\n",
       "      <th>President</th>\n",
       "      <th>Transcript</th>\n",
       "    </tr>\n",
       "  </thead>\n",
       "  <tbody>\n",
       "    <tr>\n",
       "      <th>0</th>\n",
       "      <td>February 5, 2019: State of the Union Address</td>\n",
       "      <td>February 05, 2019</td>\n",
       "      <td>Donald Trump</td>\n",
       "      <td>Transcript\\nMadam Speaker, Mr. Vice President,...</td>\n",
       "    </tr>\n",
       "    <tr>\n",
       "      <th>1</th>\n",
       "      <td>January 19, 2019: Remarks about the US Souther...</td>\n",
       "      <td>January 19, 2019</td>\n",
       "      <td>Donald Trump</td>\n",
       "      <td>Transcript\\nTHE PRESIDENT: Just a short time a...</td>\n",
       "    </tr>\n",
       "    <tr>\n",
       "      <th>2</th>\n",
       "      <td>September 25, 2018: Address at the 73rd Sessio...</td>\n",
       "      <td>September 25, 2018</td>\n",
       "      <td>Donald Trump</td>\n",
       "      <td>Transcript\\nTHE PRESIDENT: Madam President, Mr...</td>\n",
       "    </tr>\n",
       "    <tr>\n",
       "      <th>3</th>\n",
       "      <td>July 24, 2018: Speech at the Veterans of Forei...</td>\n",
       "      <td>July 24, 2018</td>\n",
       "      <td>Donald Trump</td>\n",
       "      <td>Transcript\\nTHE PRESIDENT: Thank you, Lee. Tha...</td>\n",
       "    </tr>\n",
       "    <tr>\n",
       "      <th>4</th>\n",
       "      <td>March 19, 2018: Remarks on Combating the Opioi...</td>\n",
       "      <td>March 19, 2018</td>\n",
       "      <td>Donald Trump</td>\n",
       "      <td>Transcript\\nTHE PRESIDENT: Thank you to our Fi...</td>\n",
       "    </tr>\n",
       "  </tbody>\n",
       "</table>\n",
       "</div>"
      ],
      "text/plain": [
       "                                               Title                Date  \\\n",
       "0       February 5, 2019: State of the Union Address   February 05, 2019   \n",
       "1  January 19, 2019: Remarks about the US Souther...    January 19, 2019   \n",
       "2  September 25, 2018: Address at the 73rd Sessio...  September 25, 2018   \n",
       "3  July 24, 2018: Speech at the Veterans of Forei...       July 24, 2018   \n",
       "4  March 19, 2018: Remarks on Combating the Opioi...      March 19, 2018   \n",
       "\n",
       "      President                                         Transcript  \n",
       "0  Donald Trump  Transcript\\nMadam Speaker, Mr. Vice President,...  \n",
       "1  Donald Trump  Transcript\\nTHE PRESIDENT: Just a short time a...  \n",
       "2  Donald Trump  Transcript\\nTHE PRESIDENT: Madam President, Mr...  \n",
       "3  Donald Trump  Transcript\\nTHE PRESIDENT: Thank you, Lee. Tha...  \n",
       "4  Donald Trump  Transcript\\nTHE PRESIDENT: Thank you to our Fi...  "
      ]
     },
     "execution_count": 2,
     "metadata": {},
     "output_type": "execute_result"
    }
   ],
   "source": [
    "trans_df = pd.read_csv('data/transcripts.csv', index_col=0)\n",
    "trans_df.head()"
   ]
  },
  {
   "cell_type": "code",
   "execution_count": 3,
   "metadata": {},
   "outputs": [],
   "source": [
    "# additional transcripts\n",
    "trans_add = pd.read_csv('data/transcripts_add.csv', index_col=0)"
   ]
  },
  {
   "cell_type": "code",
   "execution_count": 4,
   "metadata": {},
   "outputs": [],
   "source": [
    "# merge transcripts\n",
    "speech_df = pd.concat([trans_df, trans_add], axis=0, ignore_index=True).copy()"
   ]
  },
  {
   "cell_type": "code",
   "execution_count": 5,
   "metadata": {},
   "outputs": [
    {
     "data": {
      "text/plain": [
       "1012"
      ]
     },
     "execution_count": 5,
     "metadata": {},
     "output_type": "execute_result"
    }
   ],
   "source": [
    "# number of scraped speech transcripts\n",
    "len(speech_df)"
   ]
  },
  {
   "cell_type": "markdown",
   "metadata": {},
   "source": [
    "## Check Data\n",
    "Check for missing data and duplicates"
   ]
  },
  {
   "cell_type": "code",
   "execution_count": 8,
   "metadata": {},
   "outputs": [
    {
     "name": "stdout",
     "output_type": "stream",
     "text": [
      "empty dates: 0\n",
      "empty presidents: 0\n",
      "empty transcripts: 0\n"
     ]
    }
   ],
   "source": [
    "# check for missing data in columns\n",
    "print('empty dates:',speech_df['Date'].isnull().sum())\n",
    "print('empty presidents:', speech_df['President'].isnull().sum())\n",
    "print('empty transcripts:', speech_df['Transcript'].isnull().sum())"
   ]
  },
  {
   "cell_type": "code",
   "execution_count": 9,
   "metadata": {},
   "outputs": [
    {
     "data": {
      "text/html": [
       "<div>\n",
       "<style scoped>\n",
       "    .dataframe tbody tr th:only-of-type {\n",
       "        vertical-align: middle;\n",
       "    }\n",
       "\n",
       "    .dataframe tbody tr th {\n",
       "        vertical-align: top;\n",
       "    }\n",
       "\n",
       "    .dataframe thead th {\n",
       "        text-align: right;\n",
       "    }\n",
       "</style>\n",
       "<table border=\"1\" class=\"dataframe\">\n",
       "  <thead>\n",
       "    <tr style=\"text-align: right;\">\n",
       "      <th></th>\n",
       "      <th>Title</th>\n",
       "      <th>Date</th>\n",
       "      <th>President</th>\n",
       "      <th>Transcript</th>\n",
       "    </tr>\n",
       "  </thead>\n",
       "  <tbody>\n",
       "    <tr>\n",
       "      <th>623</th>\n",
       "      <td>June 12, 1895: Declaration of US Neutrality</td>\n",
       "      <td>June 12, 1895</td>\n",
       "      <td>Grover Cleveland</td>\n",
       "      <td>Transcript\\nBy the President of the United Sta...</td>\n",
       "    </tr>\n",
       "    <tr>\n",
       "      <th>624</th>\n",
       "      <td>June 12, 1895: Declaration of US Neutrality</td>\n",
       "      <td>June 12, 1895</td>\n",
       "      <td>Grover Cleveland</td>\n",
       "      <td>Transcript\\nBy the President of the United Sta...</td>\n",
       "    </tr>\n",
       "  </tbody>\n",
       "</table>\n",
       "</div>"
      ],
      "text/plain": [
       "                                           Title           Date  \\\n",
       "623  June 12, 1895: Declaration of US Neutrality  June 12, 1895   \n",
       "624  June 12, 1895: Declaration of US Neutrality  June 12, 1895   \n",
       "\n",
       "            President                                         Transcript  \n",
       "623  Grover Cleveland  Transcript\\nBy the President of the United Sta...  \n",
       "624  Grover Cleveland  Transcript\\nBy the President of the United Sta...  "
      ]
     },
     "execution_count": 9,
     "metadata": {},
     "output_type": "execute_result"
    }
   ],
   "source": [
    "# check for duplicates\n",
    "speech_df[speech_df.duplicated(keep=False)]"
   ]
  },
  {
   "cell_type": "code",
   "execution_count": 11,
   "metadata": {},
   "outputs": [],
   "source": [
    "# remove duplicates\n",
    "speech_df.drop_duplicates(inplace=True)"
   ]
  },
  {
   "cell_type": "code",
   "execution_count": 12,
   "metadata": {},
   "outputs": [
    {
     "data": {
      "text/plain": [
       "array(['Donald Trump', 'Barack Obama', 'George W. Bush', 'Bill Clinton',\n",
       "       'George H. W. Bush', 'Ronald Reagan', 'Chester A. Arthur',\n",
       "       'Jimmy Carter', 'Gerald Ford', 'Richard M. Nixon',\n",
       "       'Lyndon B. Johnson', 'John F. Kennedy', 'Dwight D. Eisenhower',\n",
       "       'Harry S. Truman', 'Franklin D. Roosevelt', 'Herbert Hoover',\n",
       "       'Calvin Coolidge', 'Warren G. Harding', 'Woodrow Wilson',\n",
       "       'William Taft', 'Theodore Roosevelt', 'William McKinley',\n",
       "       'Grover Cleveland', 'Benjamin Harrison', 'James A. Garfield',\n",
       "       'Rutherford B. Hayes', 'Ulysses S. Grant', 'Andrew Johnson',\n",
       "       'Abraham Lincoln', 'James Buchanan', 'Franklin Pierce',\n",
       "       'Millard Fillmore', 'Zachary Taylor', 'James K. Polk',\n",
       "       'John Tyler', 'William Harrison', 'John Quincy Adams',\n",
       "       'Martin Van Buren', 'Andrew Jackson', 'James Monroe',\n",
       "       'James Madison', 'Thomas Jefferson', 'John Adams',\n",
       "       'George Washington'], dtype=object)"
      ]
     },
     "execution_count": 12,
     "metadata": {},
     "output_type": "execute_result"
    }
   ],
   "source": [
    "# check speakers\n",
    "speech_df['President'].unique()"
   ]
  },
  {
   "cell_type": "markdown",
   "metadata": {},
   "source": [
    "## Filter/Format Data\n",
    "Remove undesired data types and sort data by date"
   ]
  },
  {
   "cell_type": "code",
   "execution_count": 13,
   "metadata": {},
   "outputs": [],
   "source": [
    "# filter out debate transcripts\n",
    "speech_df = speech_df[~speech_df['Title'].str.contains('Debate')]"
   ]
  },
  {
   "cell_type": "code",
   "execution_count": 14,
   "metadata": {},
   "outputs": [],
   "source": [
    "# reformat dates to datetime\n",
    "speech_df['Date'] = pd.to_datetime(speech_df['Date'])"
   ]
  },
  {
   "cell_type": "code",
   "execution_count": 15,
   "metadata": {},
   "outputs": [],
   "source": [
    "# sort by date\n",
    "speech_df.sort_values(by=['Date'], inplace=True)\n",
    "# reset index based on earliest date\n",
    "speech_df.reset_index(drop=True, inplace=True)"
   ]
  },
  {
   "cell_type": "code",
   "execution_count": 16,
   "metadata": {},
   "outputs": [
    {
     "data": {
      "text/html": [
       "<div>\n",
       "<style scoped>\n",
       "    .dataframe tbody tr th:only-of-type {\n",
       "        vertical-align: middle;\n",
       "    }\n",
       "\n",
       "    .dataframe tbody tr th {\n",
       "        vertical-align: top;\n",
       "    }\n",
       "\n",
       "    .dataframe thead th {\n",
       "        text-align: right;\n",
       "    }\n",
       "</style>\n",
       "<table border=\"1\" class=\"dataframe\">\n",
       "  <thead>\n",
       "    <tr style=\"text-align: right;\">\n",
       "      <th></th>\n",
       "      <th>Title</th>\n",
       "      <th>Date</th>\n",
       "      <th>President</th>\n",
       "      <th>Transcript</th>\n",
       "    </tr>\n",
       "  </thead>\n",
       "  <tbody>\n",
       "    <tr>\n",
       "      <th>0</th>\n",
       "      <td>April 30, 1789: First Inaugural Address</td>\n",
       "      <td>1789-04-30</td>\n",
       "      <td>George Washington</td>\n",
       "      <td>Transcript\\nFellow Citizens of the Senate and ...</td>\n",
       "    </tr>\n",
       "    <tr>\n",
       "      <th>1</th>\n",
       "      <td>October 3, 1789: Thanksgiving Proclamation</td>\n",
       "      <td>1789-10-03</td>\n",
       "      <td>George Washington</td>\n",
       "      <td>Transcript\\nWhereas it is the duty of all Nati...</td>\n",
       "    </tr>\n",
       "    <tr>\n",
       "      <th>2</th>\n",
       "      <td>January 8, 1790: First Annual Message to Congress</td>\n",
       "      <td>1790-01-08</td>\n",
       "      <td>George Washington</td>\n",
       "      <td>Transcript\\nFellow Citizens of the Senate and ...</td>\n",
       "    </tr>\n",
       "    <tr>\n",
       "      <th>3</th>\n",
       "      <td>December 8, 1790: Second Annual Message to Con...</td>\n",
       "      <td>1790-12-08</td>\n",
       "      <td>George Washington</td>\n",
       "      <td>Transcript\\nFellow citizens of the Senate and ...</td>\n",
       "    </tr>\n",
       "    <tr>\n",
       "      <th>4</th>\n",
       "      <td>December 29, 1790: Talk to the Chiefs and Coun...</td>\n",
       "      <td>1790-12-29</td>\n",
       "      <td>George Washington</td>\n",
       "      <td>Transcript\\nI the President of the United Stat...</td>\n",
       "    </tr>\n",
       "  </tbody>\n",
       "</table>\n",
       "</div>"
      ],
      "text/plain": [
       "                                               Title       Date  \\\n",
       "0            April 30, 1789: First Inaugural Address 1789-04-30   \n",
       "1         October 3, 1789: Thanksgiving Proclamation 1789-10-03   \n",
       "2  January 8, 1790: First Annual Message to Congress 1790-01-08   \n",
       "3  December 8, 1790: Second Annual Message to Con... 1790-12-08   \n",
       "4  December 29, 1790: Talk to the Chiefs and Coun... 1790-12-29   \n",
       "\n",
       "           President                                         Transcript  \n",
       "0  George Washington  Transcript\\nFellow Citizens of the Senate and ...  \n",
       "1  George Washington  Transcript\\nWhereas it is the duty of all Nati...  \n",
       "2  George Washington  Transcript\\nFellow Citizens of the Senate and ...  \n",
       "3  George Washington  Transcript\\nFellow citizens of the Senate and ...  \n",
       "4  George Washington  Transcript\\nI the President of the United Stat...  "
      ]
     },
     "execution_count": 16,
     "metadata": {},
     "output_type": "execute_result"
    }
   ],
   "source": [
    "speech_df.head()"
   ]
  },
  {
   "cell_type": "markdown",
   "metadata": {},
   "source": [
    "## Clean Text\n",
    "Remove unnecessary words throughout text data"
   ]
  },
  {
   "cell_type": "code",
   "execution_count": 17,
   "metadata": {},
   "outputs": [],
   "source": [
    "# function to clean transcript text\n",
    "def text_cleaner(drty_txt):\n",
    "    # remove newline characters (\"\\n\")\n",
    "    cln_txt = drty_txt.replace('\\n', ' ')\n",
    "    # remove leading \"Transcript\" text\n",
    "    if cln_txt.startswith('Transcript'):\n",
    "        cln_txt = cln_txt[len('Transcript '):]\n",
    "    # remove notes in parantheses throughout transcript\n",
    "    cln_txt = re.sub(r'\\([^)]*\\)', '', cln_txt)\n",
    "    # return cleansed text\n",
    "    return(cln_txt)"
   ]
  },
  {
   "cell_type": "code",
   "execution_count": 18,
   "metadata": {},
   "outputs": [],
   "source": [
    "# run transcripts through cleaner function\n",
    "speech_df['Transcript'] = speech_df['Transcript'].apply(lambda x: text_cleaner(x))"
   ]
  },
  {
   "cell_type": "code",
   "execution_count": 19,
   "metadata": {},
   "outputs": [
    {
     "data": {
      "text/html": [
       "<div>\n",
       "<style scoped>\n",
       "    .dataframe tbody tr th:only-of-type {\n",
       "        vertical-align: middle;\n",
       "    }\n",
       "\n",
       "    .dataframe tbody tr th {\n",
       "        vertical-align: top;\n",
       "    }\n",
       "\n",
       "    .dataframe thead th {\n",
       "        text-align: right;\n",
       "    }\n",
       "</style>\n",
       "<table border=\"1\" class=\"dataframe\">\n",
       "  <thead>\n",
       "    <tr style=\"text-align: right;\">\n",
       "      <th></th>\n",
       "      <th>Title</th>\n",
       "      <th>Date</th>\n",
       "      <th>President</th>\n",
       "      <th>Transcript</th>\n",
       "    </tr>\n",
       "  </thead>\n",
       "  <tbody>\n",
       "    <tr>\n",
       "      <th>0</th>\n",
       "      <td>April 30, 1789: First Inaugural Address</td>\n",
       "      <td>1789-04-30</td>\n",
       "      <td>George Washington</td>\n",
       "      <td>Fellow Citizens of the Senate and the House of...</td>\n",
       "    </tr>\n",
       "    <tr>\n",
       "      <th>1</th>\n",
       "      <td>October 3, 1789: Thanksgiving Proclamation</td>\n",
       "      <td>1789-10-03</td>\n",
       "      <td>George Washington</td>\n",
       "      <td>Whereas it is the duty of all Nations to ackno...</td>\n",
       "    </tr>\n",
       "    <tr>\n",
       "      <th>2</th>\n",
       "      <td>January 8, 1790: First Annual Message to Congress</td>\n",
       "      <td>1790-01-08</td>\n",
       "      <td>George Washington</td>\n",
       "      <td>Fellow Citizens of the Senate and House of Rep...</td>\n",
       "    </tr>\n",
       "    <tr>\n",
       "      <th>3</th>\n",
       "      <td>December 8, 1790: Second Annual Message to Con...</td>\n",
       "      <td>1790-12-08</td>\n",
       "      <td>George Washington</td>\n",
       "      <td>Fellow citizens of the Senate and House of Rep...</td>\n",
       "    </tr>\n",
       "    <tr>\n",
       "      <th>4</th>\n",
       "      <td>December 29, 1790: Talk to the Chiefs and Coun...</td>\n",
       "      <td>1790-12-29</td>\n",
       "      <td>George Washington</td>\n",
       "      <td>I the President of the United States, by my ow...</td>\n",
       "    </tr>\n",
       "  </tbody>\n",
       "</table>\n",
       "</div>"
      ],
      "text/plain": [
       "                                               Title       Date  \\\n",
       "0            April 30, 1789: First Inaugural Address 1789-04-30   \n",
       "1         October 3, 1789: Thanksgiving Proclamation 1789-10-03   \n",
       "2  January 8, 1790: First Annual Message to Congress 1790-01-08   \n",
       "3  December 8, 1790: Second Annual Message to Con... 1790-12-08   \n",
       "4  December 29, 1790: Talk to the Chiefs and Coun... 1790-12-29   \n",
       "\n",
       "           President                                         Transcript  \n",
       "0  George Washington  Fellow Citizens of the Senate and the House of...  \n",
       "1  George Washington  Whereas it is the duty of all Nations to ackno...  \n",
       "2  George Washington  Fellow Citizens of the Senate and House of Rep...  \n",
       "3  George Washington  Fellow citizens of the Senate and House of Rep...  \n",
       "4  George Washington  I the President of the United States, by my ow...  "
      ]
     },
     "execution_count": 19,
     "metadata": {},
     "output_type": "execute_result"
    }
   ],
   "source": [
    "speech_df.head()"
   ]
  },
  {
   "cell_type": "markdown",
   "metadata": {},
   "source": [
    "# Address Type\n",
    "Label addresses by type"
   ]
  },
  {
   "cell_type": "code",
   "execution_count": 32,
   "metadata": {},
   "outputs": [],
   "source": [
    "# create column for address type\n",
    "speech_df.insert(3, 'Type', 'other')"
   ]
  },
  {
   "cell_type": "code",
   "execution_count": 34,
   "metadata": {},
   "outputs": [],
   "source": [
    "# fireside chats\n",
    "speech_df.loc[speech_df['Title'].str.contains('fireside chat', case=False), 'Type'] \\\n",
    "= 'fireside'\n",
    "# address to nation\n",
    "speech_df.loc[speech_df['Title'].str.contains('to the nation ', case=False), 'Type'] \\\n",
    "= 'national'\n",
    "# convention\n",
    "speech_df.loc[speech_df['Title'].str.contains('convention', case=False), 'Type'] \\\n",
    "= 'convention'\n",
    "# inaugural\n",
    "speech_df.loc[speech_df['Title'].str.contains('inaugural', case=False), 'Type'] \\\n",
    "= 'inauguration'\n",
    "# state of the union\n",
    "speech_df.loc[speech_df['Title'].str.contains('annual message|state of the union', case=False), 'Type'] \\\n",
    "= 'state_union'"
   ]
  },
  {
   "cell_type": "code",
   "execution_count": 25,
   "metadata": {},
   "outputs": [
    {
     "data": {
      "text/plain": [
       "57"
      ]
     },
     "execution_count": 25,
     "metadata": {},
     "output_type": "execute_result"
    }
   ],
   "source": [
    "speech_df['Title'].str.contains('inaugural', case=False).sum()"
   ]
  },
  {
   "cell_type": "code",
   "execution_count": 28,
   "metadata": {},
   "outputs": [
    {
     "data": {
      "text/plain": [
       "201"
      ]
     },
     "execution_count": 28,
     "metadata": {},
     "output_type": "execute_result"
    }
   ],
   "source": [
    "speech_df['Title'].str.contains('annual message|state of the union', case=False).sum()"
   ]
  },
  {
   "cell_type": "code",
   "execution_count": 20,
   "metadata": {},
   "outputs": [
    {
     "data": {
      "text/plain": [
       "36"
      ]
     },
     "execution_count": 20,
     "metadata": {},
     "output_type": "execute_result"
    }
   ],
   "source": [
    "speech_df['Title'].str.contains('national convention|nomination', case=False).sum()"
   ]
  },
  {
   "cell_type": "code",
   "execution_count": 21,
   "metadata": {},
   "outputs": [
    {
     "data": {
      "text/plain": [
       "15"
      ]
     },
     "execution_count": 21,
     "metadata": {},
     "output_type": "execute_result"
    }
   ],
   "source": [
    "speech_df['Title'].str.contains('farewell', case=False).sum()"
   ]
  },
  {
   "cell_type": "code",
   "execution_count": 22,
   "metadata": {},
   "outputs": [
    {
     "data": {
      "text/plain": [
       "30"
      ]
     },
     "execution_count": 22,
     "metadata": {},
     "output_type": "execute_result"
    }
   ],
   "source": [
    "speech_df['Title'].str.contains('fireside chat', case=False).sum()"
   ]
  },
  {
   "cell_type": "code",
   "execution_count": 23,
   "metadata": {},
   "outputs": [
    {
     "data": {
      "text/plain": [
       "32"
      ]
     },
     "execution_count": 23,
     "metadata": {},
     "output_type": "execute_result"
    }
   ],
   "source": [
    "speech_df['Title'].str.contains('to the nation ', case=False).sum()"
   ]
  },
  {
   "cell_type": "markdown",
   "metadata": {},
   "source": [
    "# Export Clean Data"
   ]
  },
  {
   "cell_type": "code",
   "execution_count": 38,
   "metadata": {},
   "outputs": [
    {
     "data": {
      "text/html": [
       "<div>\n",
       "<style scoped>\n",
       "    .dataframe tbody tr th:only-of-type {\n",
       "        vertical-align: middle;\n",
       "    }\n",
       "\n",
       "    .dataframe tbody tr th {\n",
       "        vertical-align: top;\n",
       "    }\n",
       "\n",
       "    .dataframe thead th {\n",
       "        text-align: right;\n",
       "    }\n",
       "</style>\n",
       "<table border=\"1\" class=\"dataframe\">\n",
       "  <thead>\n",
       "    <tr style=\"text-align: right;\">\n",
       "      <th></th>\n",
       "      <th>Title</th>\n",
       "      <th>Date</th>\n",
       "      <th>President</th>\n",
       "      <th>Type</th>\n",
       "      <th>Transcript</th>\n",
       "    </tr>\n",
       "  </thead>\n",
       "  <tbody>\n",
       "    <tr>\n",
       "      <th>0</th>\n",
       "      <td>April 30, 1789: First Inaugural Address</td>\n",
       "      <td>1789-04-30</td>\n",
       "      <td>George Washington</td>\n",
       "      <td>inauguration</td>\n",
       "      <td>Fellow Citizens of the Senate and the House of...</td>\n",
       "    </tr>\n",
       "    <tr>\n",
       "      <th>1</th>\n",
       "      <td>October 3, 1789: Thanksgiving Proclamation</td>\n",
       "      <td>1789-10-03</td>\n",
       "      <td>George Washington</td>\n",
       "      <td>other</td>\n",
       "      <td>Whereas it is the duty of all Nations to ackno...</td>\n",
       "    </tr>\n",
       "    <tr>\n",
       "      <th>2</th>\n",
       "      <td>January 8, 1790: First Annual Message to Congress</td>\n",
       "      <td>1790-01-08</td>\n",
       "      <td>George Washington</td>\n",
       "      <td>state_union</td>\n",
       "      <td>Fellow Citizens of the Senate and House of Rep...</td>\n",
       "    </tr>\n",
       "    <tr>\n",
       "      <th>3</th>\n",
       "      <td>December 8, 1790: Second Annual Message to Con...</td>\n",
       "      <td>1790-12-08</td>\n",
       "      <td>George Washington</td>\n",
       "      <td>state_union</td>\n",
       "      <td>Fellow citizens of the Senate and House of Rep...</td>\n",
       "    </tr>\n",
       "    <tr>\n",
       "      <th>4</th>\n",
       "      <td>December 29, 1790: Talk to the Chiefs and Coun...</td>\n",
       "      <td>1790-12-29</td>\n",
       "      <td>George Washington</td>\n",
       "      <td>other</td>\n",
       "      <td>I the President of the United States, by my ow...</td>\n",
       "    </tr>\n",
       "  </tbody>\n",
       "</table>\n",
       "</div>"
      ],
      "text/plain": [
       "                                               Title       Date  \\\n",
       "0            April 30, 1789: First Inaugural Address 1789-04-30   \n",
       "1         October 3, 1789: Thanksgiving Proclamation 1789-10-03   \n",
       "2  January 8, 1790: First Annual Message to Congress 1790-01-08   \n",
       "3  December 8, 1790: Second Annual Message to Con... 1790-12-08   \n",
       "4  December 29, 1790: Talk to the Chiefs and Coun... 1790-12-29   \n",
       "\n",
       "           President          Type  \\\n",
       "0  George Washington  inauguration   \n",
       "1  George Washington         other   \n",
       "2  George Washington   state_union   \n",
       "3  George Washington   state_union   \n",
       "4  George Washington         other   \n",
       "\n",
       "                                          Transcript  \n",
       "0  Fellow Citizens of the Senate and the House of...  \n",
       "1  Whereas it is the duty of all Nations to ackno...  \n",
       "2  Fellow Citizens of the Senate and House of Rep...  \n",
       "3  Fellow citizens of the Senate and House of Rep...  \n",
       "4  I the President of the United States, by my ow...  "
      ]
     },
     "execution_count": 38,
     "metadata": {},
     "output_type": "execute_result"
    }
   ],
   "source": [
    "speech_df.head()"
   ]
  },
  {
   "cell_type": "code",
   "execution_count": 36,
   "metadata": {},
   "outputs": [
    {
     "data": {
      "text/plain": [
       "998"
      ]
     },
     "execution_count": 36,
     "metadata": {},
     "output_type": "execute_result"
    }
   ],
   "source": [
    "# total number of addresses\n",
    "len(speech_df)"
   ]
  },
  {
   "cell_type": "code",
   "execution_count": 37,
   "metadata": {},
   "outputs": [],
   "source": [
    "speech_df.to_csv('data/cln_transcripts.csv')"
   ]
  },
  {
   "cell_type": "code",
   "execution_count": null,
   "metadata": {},
   "outputs": [],
   "source": []
  }
 ],
 "metadata": {
  "kernelspec": {
   "display_name": "Python 3",
   "language": "python",
   "name": "python3"
  },
  "language_info": {
   "codemirror_mode": {
    "name": "ipython",
    "version": 3
   },
   "file_extension": ".py",
   "mimetype": "text/x-python",
   "name": "python",
   "nbconvert_exporter": "python",
   "pygments_lexer": "ipython3",
   "version": "3.6.5"
  }
 },
 "nbformat": 4,
 "nbformat_minor": 2
}
