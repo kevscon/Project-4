{
 "cells": [
  {
   "cell_type": "code",
   "execution_count": 1,
   "metadata": {},
   "outputs": [],
   "source": [
    "import pandas as pd\n",
    "import numpy as np"
   ]
  },
  {
   "cell_type": "markdown",
   "metadata": {},
   "source": [
    "## Load speech file"
   ]
  },
  {
   "cell_type": "code",
   "execution_count": 2,
   "metadata": {},
   "outputs": [],
   "source": [
    "# load data from pickle file\n",
    "import pickle\n",
    "\n",
    "pickle_in = open(\"speeches.pickle\", \"rb\")\n",
    "speech_df = pickle.load(pickle_in)"
   ]
  },
  {
   "cell_type": "code",
   "execution_count": 3,
   "metadata": {},
   "outputs": [
    {
     "data": {
      "text/html": [
       "<div>\n",
       "<style scoped>\n",
       "    .dataframe tbody tr th:only-of-type {\n",
       "        vertical-align: middle;\n",
       "    }\n",
       "\n",
       "    .dataframe tbody tr th {\n",
       "        vertical-align: top;\n",
       "    }\n",
       "\n",
       "    .dataframe thead th {\n",
       "        text-align: right;\n",
       "    }\n",
       "</style>\n",
       "<table border=\"1\" class=\"dataframe\">\n",
       "  <thead>\n",
       "    <tr style=\"text-align: right;\">\n",
       "      <th></th>\n",
       "      <th>type</th>\n",
       "      <th>speaker</th>\n",
       "      <th>date</th>\n",
       "      <th>speech</th>\n",
       "    </tr>\n",
       "  </thead>\n",
       "  <tbody>\n",
       "    <tr>\n",
       "      <th>0</th>\n",
       "      <td>convention</td>\n",
       "      <td>Hillary Clinton</td>\n",
       "      <td>2016</td>\n",
       "      <td>Thank you all for the great convention that we...</td>\n",
       "    </tr>\n",
       "    <tr>\n",
       "      <th>1</th>\n",
       "      <td>convention</td>\n",
       "      <td>Robert Dole</td>\n",
       "      <td>1996</td>\n",
       "      <td>The folks in Hollywood would be happy to know ...</td>\n",
       "    </tr>\n",
       "    <tr>\n",
       "      <th>2</th>\n",
       "      <td>convention</td>\n",
       "      <td>George W. Bush</td>\n",
       "      <td>2000</td>\n",
       "      <td>Thank you. Thank you for this honor. [,],Thank...</td>\n",
       "    </tr>\n",
       "    <tr>\n",
       "      <th>3</th>\n",
       "      <td>convention</td>\n",
       "      <td>George W. Bush</td>\n",
       "      <td>2004</td>\n",
       "      <td>When I said those words 4 years ago, none of u...</td>\n",
       "    </tr>\n",
       "    <tr>\n",
       "      <th>4</th>\n",
       "      <td>convention</td>\n",
       "      <td>John McCain</td>\n",
       "      <td>2008</td>\n",
       "      <td>Tonight, I have a privilege given few American...</td>\n",
       "    </tr>\n",
       "  </tbody>\n",
       "</table>\n",
       "</div>"
      ],
      "text/plain": [
       "         type          speaker  date  \\\n",
       "0  convention  Hillary Clinton  2016   \n",
       "1  convention      Robert Dole  1996   \n",
       "2  convention   George W. Bush  2000   \n",
       "3  convention   George W. Bush  2004   \n",
       "4  convention      John McCain  2008   \n",
       "\n",
       "                                              speech  \n",
       "0  Thank you all for the great convention that we...  \n",
       "1  The folks in Hollywood would be happy to know ...  \n",
       "2  Thank you. Thank you for this honor. [,],Thank...  \n",
       "3  When I said those words 4 years ago, none of u...  \n",
       "4  Tonight, I have a privilege given few American...  "
      ]
     },
     "execution_count": 3,
     "metadata": {},
     "output_type": "execute_result"
    }
   ],
   "source": [
    "speech_df.head()"
   ]
  },
  {
   "cell_type": "code",
   "execution_count": 4,
   "metadata": {},
   "outputs": [],
   "source": [
    "speech_text = speech_df['speech']"
   ]
  },
  {
   "cell_type": "markdown",
   "metadata": {},
   "source": [
    "## VC and LDA"
   ]
  },
  {
   "cell_type": "code",
   "execution_count": 5,
   "metadata": {},
   "outputs": [],
   "source": [
    "from sklearn.feature_extraction.text import CountVectorizer\n",
    "from sklearn.decomposition import LatentDirichletAllocation"
   ]
  },
  {
   "cell_type": "code",
   "execution_count": 6,
   "metadata": {},
   "outputs": [],
   "source": [
    "count_vectorizer = CountVectorizer(\n",
    "    stop_words=\"english\",\n",
    "    ngram_range=(1, 2),\n",
    "    token_pattern=\"\\\\b[a-z][a-z]+\\\\b\"\n",
    ")"
   ]
  },
  {
   "cell_type": "code",
   "execution_count": 7,
   "metadata": {},
   "outputs": [
    {
     "data": {
      "text/plain": [
       "CountVectorizer(analyzer='word', binary=False, decode_error='strict',\n",
       "        dtype=<class 'numpy.int64'>, encoding='utf-8', input='content',\n",
       "        lowercase=True, max_df=1.0, max_features=None, min_df=1,\n",
       "        ngram_range=(1, 2), preprocessor=None, stop_words='english',\n",
       "        strip_accents=None, token_pattern='\\\\b[a-z][a-z]+\\\\b',\n",
       "        tokenizer=None, vocabulary=None)"
      ]
     },
     "execution_count": 7,
     "metadata": {},
     "output_type": "execute_result"
    }
   ],
   "source": [
    "count_vectorizer.fit(speech_text)"
   ]
  },
  {
   "cell_type": "code",
   "execution_count": 8,
   "metadata": {},
   "outputs": [],
   "source": [
    "counts = count_vectorizer.transform(speech_text)"
   ]
  },
  {
   "cell_type": "code",
   "execution_count": 9,
   "metadata": {},
   "outputs": [],
   "source": [
    "from sklearn import decomposition"
   ]
  },
  {
   "cell_type": "code",
   "execution_count": 10,
   "metadata": {},
   "outputs": [
    {
     "name": "stdout",
     "output_type": "stream",
     "text": [
      "iteration: 1 of max_iter: 5\n",
      "iteration: 2 of max_iter: 5\n",
      "iteration: 3 of max_iter: 5\n",
      "iteration: 4 of max_iter: 5\n",
      "iteration: 5 of max_iter: 5\n"
     ]
    },
    {
     "data": {
      "text/plain": [
       "LatentDirichletAllocation(batch_size=128, doc_topic_prior=None,\n",
       "             evaluate_every=-1, learning_decay=0.7,\n",
       "             learning_method='online', learning_offset=10.0,\n",
       "             max_doc_update_iter=100, max_iter=5, mean_change_tol=0.001,\n",
       "             n_components=15, n_jobs=-1, n_topics=None, perp_tol=0.1,\n",
       "             random_state=None, topic_word_prior=None,\n",
       "             total_samples=1000000.0, verbose=1)"
      ]
     },
     "execution_count": 10,
     "metadata": {},
     "output_type": "execute_result"
    }
   ],
   "source": [
    "n_topics = 15\n",
    "\n",
    "lda = decomposition.LatentDirichletAllocation(\n",
    "    n_components=n_topics, \n",
    "    learning_method=\"online\", \n",
    "    verbose=1, \n",
    "    max_iter=5, \n",
    "    n_jobs=-1\n",
    ")\n",
    "\n",
    "lda.fit(counts)"
   ]
  },
  {
   "cell_type": "code",
   "execution_count": 11,
   "metadata": {},
   "outputs": [],
   "source": [
    "def print_top_words(model, feature_names, n_top_words):\n",
    "    for topic_idx, topic in enumerate(model.components_):\n",
    "        message = \"Topic #%d: \" % topic_idx\n",
    "        message += \" \".join([feature_names[i]\n",
    "                             for i in topic.argsort()[:-n_top_words - 1:-1]])\n",
    "        print(message)\n",
    "    print()"
   ]
  },
  {
   "cell_type": "code",
   "execution_count": 12,
   "metadata": {},
   "outputs": [
    {
     "name": "stdout",
     "output_type": "stream",
     "text": [
      "Topic #0: people new country government america great make states shall world united peace party public war\n",
      "Topic #1: people government great states public country america world nation american peace make new congress united states\n",
      "Topic #2: america people world government new country let great states american time americans party nation peace\n",
      "Topic #3: states government united states congress public united great shall state present country war subject people years\n",
      "Topic #4: people government nation world country american america peace great united states years new party states united\n",
      "Topic #5: people government world new america american congress year years nation states country time great work\n",
      "Topic #6: people government country world new years america american great states nation time war know president\n",
      "Topic #7: america world people new government country nation shall time american peace years great states party\n",
      "Topic #8: people america world nation states american government country united years great president new united states time\n",
      "Topic #9: people government world america new american nation peace country years great president time life states\n",
      "Topic #10: american america people years country great new world nation time know government president power let\n",
      "Topic #11: people country government nation america american great world new states know years time president shall\n",
      "Topic #12: people government america world states country president shall new american nation united great peace years\n",
      "Topic #13: states government united united states congress public country year great people time present general law war\n",
      "Topic #14: people government nation great peace years world time america new president shall country war party\n",
      "\n"
     ]
    }
   ],
   "source": [
    "print_top_words(lda, count_vectorizer.get_feature_names(), 15)"
   ]
  },
  {
   "cell_type": "markdown",
   "metadata": {},
   "source": [
    "## TFIDF and NMF"
   ]
  },
  {
   "cell_type": "code",
   "execution_count": 13,
   "metadata": {},
   "outputs": [],
   "source": [
    "from sklearn.feature_extraction.text import TfidfVectorizer\n",
    "from sklearn.decomposition import NMF"
   ]
  },
  {
   "cell_type": "code",
   "execution_count": 14,
   "metadata": {},
   "outputs": [
    {
     "data": {
      "text/plain": [
       "TfidfVectorizer(analyzer='word', binary=False, decode_error='strict',\n",
       "        dtype=<class 'numpy.int64'>, encoding='utf-8', input='content',\n",
       "        lowercase=True, max_df=1.0, max_features=None, min_df=1,\n",
       "        ngram_range=(1, 2), norm='l2', preprocessor=None, smooth_idf=True,\n",
       "        stop_words='english', strip_accents=None, sublinear_tf=False,\n",
       "        token_pattern='\\\\b[a-z][a-z]+\\\\b', tokenizer=None, use_idf=True,\n",
       "        vocabulary=None)"
      ]
     },
     "execution_count": 14,
     "metadata": {},
     "output_type": "execute_result"
    }
   ],
   "source": [
    "t_vectorizer = TfidfVectorizer(\n",
    "    stop_words=\"english\",\n",
    "    ngram_range=(1, 2),\n",
    "    token_pattern=\"\\\\b[a-z][a-z]+\\\\b\"\n",
    ")\n",
    "\n",
    "t_vectorizer.fit(speech_text)"
   ]
  },
  {
   "cell_type": "code",
   "execution_count": 15,
   "metadata": {},
   "outputs": [],
   "source": [
    "t_counts = t_vectorizer.transform(speech_text)"
   ]
  },
  {
   "cell_type": "code",
   "execution_count": 16,
   "metadata": {},
   "outputs": [
    {
     "data": {
      "text/plain": [
       "NMF(alpha=0.0, beta_loss='frobenius', init=None, l1_ratio=0.0, max_iter=5,\n",
       "  n_components=15, random_state=None, shuffle=False, solver='cd',\n",
       "  tol=0.0001, verbose=0)"
      ]
     },
     "execution_count": 16,
     "metadata": {},
     "output_type": "execute_result"
    }
   ],
   "source": [
    "n_topics = 15\n",
    "\n",
    "nmf = decomposition.NMF(\n",
    "    n_components=n_topics,\n",
    "    max_iter=5\n",
    ")\n",
    "\n",
    "nmf.fit(t_counts)"
   ]
  },
  {
   "cell_type": "code",
   "execution_count": 17,
   "metadata": {},
   "outputs": [
    {
     "name": "stdout",
     "output_type": "stream",
     "text": [
      "Topic #0: states government united states united congress year public subject country general\n",
      "Topic #1: america tonight ve americans people new jobs american children work\n",
      "Topic #2: government economic federal program world congress people national year new\n",
      "Topic #3: people world government nation freedom peace great shall nations power\n",
      "Topic #4: soviet oil energy programs world year billion percent united united states\n",
      "Topic #5: applause america iraq ve tonight let iraqi people terrorists applause let\n",
      "Topic #6: america world tonight americans peace let united president war american\n",
      "Topic #7: people government president constitution union federal energy strategic congress years\n",
      "Topic #8: congress tonight vietnam think years year commitments believe surtax kappel\n",
      "Topic #9: interstate law business corporations men conditions work interstate commerce man industrial\n",
      "Topic #10: party republican platform democratic democratic party republican party people nomination president convention\n",
      "Topic #11: war world united nations military fighting iraq ve weapons forces soviet\n",
      "Topic #12: public year treasury notes gold present silver banks government indians\n",
      "Topic #13: mexico war texas shall mexican men peace world people government\n",
      "Topic #14: shall war vessels peace necessary public militia fellow constitution citizens\n",
      "\n"
     ]
    }
   ],
   "source": [
    "print_top_words(nmf, t_vectorizer.get_feature_names(), 10)"
   ]
  },
  {
   "cell_type": "markdown",
   "metadata": {},
   "source": [
    "## LDA - Max Features"
   ]
  },
  {
   "cell_type": "code",
   "execution_count": 18,
   "metadata": {},
   "outputs": [],
   "source": [
    "count_vectorizer = CountVectorizer(\n",
    "    stop_words=\"english\",\n",
    "    ngram_range=(1, 2),\n",
    "    token_pattern=\"\\\\b[a-z][a-z]+\\\\b\",\n",
    "    max_df = 0.8\n",
    ")"
   ]
  },
  {
   "cell_type": "code",
   "execution_count": 19,
   "metadata": {},
   "outputs": [
    {
     "data": {
      "text/plain": [
       "CountVectorizer(analyzer='word', binary=False, decode_error='strict',\n",
       "        dtype=<class 'numpy.int64'>, encoding='utf-8', input='content',\n",
       "        lowercase=True, max_df=0.8, max_features=None, min_df=1,\n",
       "        ngram_range=(1, 2), preprocessor=None, stop_words='english',\n",
       "        strip_accents=None, token_pattern='\\\\b[a-z][a-z]+\\\\b',\n",
       "        tokenizer=None, vocabulary=None)"
      ]
     },
     "execution_count": 19,
     "metadata": {},
     "output_type": "execute_result"
    }
   ],
   "source": [
    "count_vectorizer.fit(speech_text)"
   ]
  },
  {
   "cell_type": "code",
   "execution_count": 20,
   "metadata": {},
   "outputs": [],
   "source": [
    "counts = count_vectorizer.transform(speech_text)"
   ]
  },
  {
   "cell_type": "code",
   "execution_count": 21,
   "metadata": {},
   "outputs": [
    {
     "name": "stdout",
     "output_type": "stream",
     "text": [
      "iteration: 1 of max_iter: 5\n",
      "iteration: 2 of max_iter: 5\n",
      "iteration: 3 of max_iter: 5\n",
      "iteration: 4 of max_iter: 5\n",
      "iteration: 5 of max_iter: 5\n"
     ]
    },
    {
     "data": {
      "text/plain": [
       "LatentDirichletAllocation(batch_size=128, doc_topic_prior=None,\n",
       "             evaluate_every=-1, learning_decay=0.7,\n",
       "             learning_method='online', learning_offset=10.0,\n",
       "             max_doc_update_iter=100, max_iter=5, mean_change_tol=0.001,\n",
       "             n_components=15, n_jobs=-1, n_topics=None, perp_tol=0.1,\n",
       "             random_state=None, topic_word_prior=None,\n",
       "             total_samples=1000000.0, verbose=1)"
      ]
     },
     "execution_count": 21,
     "metadata": {},
     "output_type": "execute_result"
    }
   ],
   "source": [
    "n_topics = 15\n",
    "\n",
    "lda = decomposition.LatentDirichletAllocation(\n",
    "    n_components=n_topics, \n",
    "    learning_method=\"online\", \n",
    "    verbose=1, \n",
    "    max_iter=5, \n",
    "    n_jobs=-1\n",
    ")\n",
    "\n",
    "lda.fit(counts)"
   ]
  },
  {
   "cell_type": "code",
   "execution_count": 22,
   "metadata": {},
   "outputs": [
    {
     "name": "stdout",
     "output_type": "stream",
     "text": [
      "Topic #0: america shall party president union let know business believe constitution freedom americans republican home come\n",
      "Topic #1: america business party president freedom let know americans shall man need today spirit administration better\n",
      "Topic #2: america americans president party freedom let know say shall help tonight want today man better\n",
      "Topic #3: america trump audience donald president donald trump audience president today know americans let ve jobs children better\n",
      "Topic #4: america americans know shall president freedom breeze home today let children better new breeze party believe\n",
      "Topic #5: america shall party president know let americans need say believe administration constitution business foreign laws\n",
      "Topic #6: america president know freedom americans say help today want god party security children economic believe\n",
      "Topic #7: america president shall freedom party let know administration come say believe union illegal liquor better home\n",
      "Topic #8: america shall president let americans know business home say party administration want ve man believe\n",
      "Topic #9: america shall party let fellow freedom constitution business americans know man foreign say president union\n",
      "Topic #10: america president shall know say americans freedom let party spirit believe better tonight help business\n",
      "Topic #11: present shall america general act service foreign necessary subject laws department federal business duty legislation\n",
      "Topic #12: party let shall president america republican republican party believe freedom know man party future administration office trust\n",
      "Topic #13: america party shall believe let president know americans today republican committal tonight spirit want liberty\n",
      "Topic #14: america president shall party americans let know say tonight freedom need fellow better republican god\n",
      "\n"
     ]
    }
   ],
   "source": [
    "print_top_words(lda, count_vectorizer.get_feature_names(), 15)"
   ]
  },
  {
   "cell_type": "code",
   "execution_count": null,
   "metadata": {},
   "outputs": [],
   "source": []
  },
  {
   "cell_type": "markdown",
   "metadata": {},
   "source": [
    "## NMF - Max Features"
   ]
  },
  {
   "cell_type": "code",
   "execution_count": 23,
   "metadata": {},
   "outputs": [],
   "source": [
    "# define lemmatization function\n"
   ]
  },
  {
   "cell_type": "code",
   "execution_count": 24,
   "metadata": {
    "scrolled": true
   },
   "outputs": [
    {
     "data": {
      "text/plain": [
       "TfidfVectorizer(analyzer='word', binary=False, decode_error='strict',\n",
       "        dtype=<class 'numpy.int64'>, encoding='utf-8', input='content',\n",
       "        lowercase=True, max_df=0.9, max_features=None, min_df=0.05,\n",
       "        ngram_range=(1, 1), norm='l2', preprocessor=None, smooth_idf=True,\n",
       "        stop_words='english', strip_accents=None, sublinear_tf=False,\n",
       "        token_pattern='\\\\b[a-z][a-z]+\\\\b', tokenizer=None, use_idf=True,\n",
       "        vocabulary=None)"
      ]
     },
     "execution_count": 24,
     "metadata": {},
     "output_type": "execute_result"
    }
   ],
   "source": [
    "t_vectorizer = TfidfVectorizer(\n",
    "    stop_words=\"english\",\n",
    "    token_pattern=\"\\\\b[a-z][a-z]+\\\\b\",\n",
    "    max_df=0.9,\n",
    "    min_df=0.05\n",
    ")\n",
    "\n",
    "t_vectorizer.fit(speech_text)"
   ]
  },
  {
   "cell_type": "code",
   "execution_count": 25,
   "metadata": {},
   "outputs": [
    {
     "data": {
      "text/plain": [
       "(356, 5573)"
      ]
     },
     "execution_count": 25,
     "metadata": {},
     "output_type": "execute_result"
    }
   ],
   "source": [
    "t_counts = t_vectorizer.transform(speech_text)\n",
    "t_counts.shape"
   ]
  },
  {
   "cell_type": "code",
   "execution_count": 26,
   "metadata": {},
   "outputs": [
    {
     "data": {
      "text/plain": [
       "NMF(alpha=0.0, beta_loss='frobenius', init=None, l1_ratio=0.0, max_iter=5,\n",
       "  n_components=30, random_state=None, shuffle=False, solver='cd',\n",
       "  tol=0.0001, verbose=0)"
      ]
     },
     "execution_count": 26,
     "metadata": {},
     "output_type": "execute_result"
    }
   ],
   "source": [
    "n_topics = 30\n",
    "\n",
    "nmf = decomposition.NMF(\n",
    "    n_components=n_topics,\n",
    "    max_iter=5\n",
    ")\n",
    "\n",
    "nmf.fit(t_counts)"
   ]
  },
  {
   "cell_type": "code",
   "execution_count": 27,
   "metadata": {},
   "outputs": [],
   "source": [
    "rand_var = nmf.transform(t_counts)"
   ]
  },
  {
   "cell_type": "code",
   "execution_count": 28,
   "metadata": {},
   "outputs": [
    {
     "data": {
      "text/plain": [
       "array([ 9, 29, 29, 13,  9,  1,  1, 21,  8,  8,  3,  3, 27,  8,  8,  8, 28,\n",
       "       16, 28, 17, 17,  5, 20, 27,  5, 28, 28,  8, 15,  3, 26,  8,  1, 26,\n",
       "        1,  1,  1, 18, 29,  9,  1,  8, 19,  1,  1,  8,  9, 29,  1,  1,  1,\n",
       "        1,  1,  1,  9,  7,  4,  4, 20, 20,  7,  7,  7, 15, 20, 27, 27, 27,\n",
       "       27, 21, 21,  1, 24, 24,  3, 24,  1,  1, 29,  3, 24,  3, 29, 27, 24,\n",
       "       24,  3,  3,  3,  3, 15,  3,  3,  5,  3, 26, 16, 24,  7, 24,  7,  7,\n",
       "       22, 22, 29,  7,  7,  7, 15,  7,  7,  7,  7, 20,  9, 19,  3, 14, 13,\n",
       "       29, 29, 18, 29, 29,  7,  9, 29, 14,  4, 14, 14,  4,  4,  4,  4,  4,\n",
       "        4,  4,  4,  4, 22, 22,  4,  1,  1,  9,  9,  1,  1,  9,  1,  6, 26,\n",
       "        6,  6, 13, 13, 13, 13, 13, 12, 12, 12,  1,  1,  1,  1, 12, 12,  1,\n",
       "        1,  1,  1,  6,  6,  6,  1,  1,  1, 18,  2, 18, 18,  9, 18, 18, 18,\n",
       "       18, 18, 18,  1, 18, 19, 19, 19, 19, 19, 24,  2,  2,  2,  2,  2,  2,\n",
       "        2,  2,  2,  2,  2,  2,  2,  2,  2,  2,  2,  2,  2, 14,  3, 14, 15,\n",
       "        3, 27, 24, 24, 27, 27, 27, 27, 10, 10, 10,  2,  2,  2,  5,  5,  5,\n",
       "        5, 27, 27, 10,  5, 21, 16, 16, 21, 21, 16, 28, 28, 28, 28,  5,  5,\n",
       "        5,  5,  5, 22,  5,  5, 17, 17, 22, 17, 17, 17,  0,  0, 17, 17, 17,\n",
       "        0,  0, 10,  0,  0,  0,  0, 16,  0,  0,  0,  0, 10,  0,  0,  0,  0,\n",
       "        0, 22, 22, 22, 10,  7,  7,  7,  0,  0,  0,  0,  7, 11, 11, 11,  7,\n",
       "        7, 11,  7, 11, 11, 11, 11, 11, 11, 11, 11, 11, 11, 14, 14, 14, 10,\n",
       "       14, 14, 14, 14, 14, 25,  4, 23, 14, 20, 20, 23, 23, 23, 23, 23,  4,\n",
       "        4,  4, 23,  4, 23, 25, 25, 25, 25, 25, 16, 22, 16, 16, 14,  4])"
      ]
     },
     "execution_count": 28,
     "metadata": {},
     "output_type": "execute_result"
    }
   ],
   "source": [
    "# greatest topic per document\n",
    "np.argmax(rand_var, axis=1)"
   ]
  },
  {
   "cell_type": "code",
   "execution_count": 29,
   "metadata": {
    "scrolled": true
   },
   "outputs": [
    {
     "name": "stdout",
     "output_type": "stream",
     "text": [
      "Topic #0: congress year department report secretary general subject service attention present\n",
      "Topic #1: america tonight americans let jobs work world children years help\n",
      "Topic #2: program economic world federal congress year programs farm development defense\n",
      "Topic #3: world freedom free men democracy know life man human let\n",
      "Topic #4: public commerce powers object debt spain present vessels citizens tribes\n",
      "Topic #5: law business interstate public conditions ought tariff work corporations necessary\n",
      "Topic #6: applause ve america let budget tonight congress iraq laughter year\n",
      "Topic #7: constitution union shall citizens public state laws powers slavery constitutional\n",
      "Topic #8: party republican democratic platform nomination president convention say campaign leadership\n",
      "Topic #9: ve ll don soviet jobs oil know world didn fight\n",
      "Topic #10: banks public treasury year notes currency gold silver expenditures circulation\n",
      "Topic #11: mexico texas congress treaty mexican minister territory treasury act annexation\n",
      "Topic #12: year billion budget help congress tax percent children health million\n",
      "Topic #13: iraq america terrorists terror terrorist freedom afghanistan weapons homeland americans\n",
      "Topic #14: bank general public subject means paper notes currency military indians\n",
      "Topic #15: shall oath america witnesses magistrate presence arrive execute entertain solemn\n",
      "Topic #16: congress shall session action public commission measures executive provision law\n",
      "Topic #17: gold spain tariff silver notes cuba products cent trade islands\n",
      "Topic #18: energy programs federal president oil strategic congress percent years inflation\n",
      "Topic #19: vietnam tonight congress think years year commitments billion believe president\n",
      "Topic #20: british enemy honorable public rights prisoners savages savage spirit confidence\n",
      "Topic #21: men counsel shall tasks thought ready life set purpose things\n",
      "Topic #22: spain savages british territory enemy treaty having spanish cuba state\n",
      "Topic #23: british orders congress decrees minister neutral council ports french commerce\n",
      "Topic #24: today generation journey man learned oath god creed land believe\n",
      "Topic #25: gentlemen commissioners treaty article france commerce philadelphia amity french majesty\n",
      "Topic #26: republicans republican freedom remind jobs congress cause aims tomorrow seek\n",
      "Topic #27: world civilization america industrial international relationship today recovery seek restoration\n",
      "Topic #28: convention shall nomination tariff canal position measures department banks state\n",
      "Topic #29: president presidency reagan office years family prayers thank friends say\n",
      "\n"
     ]
    }
   ],
   "source": [
    "print_top_words(nmf, t_vectorizer.get_feature_names(), 10)"
   ]
  },
  {
   "cell_type": "markdown",
   "metadata": {},
   "source": [
    "Topic #0: government admin  \n",
    "congress year department report general secretary subject service attention present  \n",
    "\n",
    "Topic #1: american people  \n",
    "america tonight americans let jobs world work years children help  \n",
    "\n",
    "Topic #2: econonmy  \n",
    "economic program world federal congress farm development year programs military  \n",
    "\n",
    "Topic #3: freedom  \n",
    "world freedom free men let know life human man america  \n",
    "\n",
    "Topic #4: noise  \n",
    "public commerce powers object present spain effect debt objects vessels  \n",
    "\n",
    "Topic #5: business  \n",
    "business law interstate public ought conditions tariff work necessary corporations  \n",
    "\n",
    "Topic #6: noise  \n",
    "applause ve america let budget tonight congress iraq laughter year  \n",
    "\n",
    "Topic #7: national unity  \n",
    "constitution union shall citizens public laws powers state congress slavery  \n",
    "\n",
    "Topic #8: campaign  \n",
    "party republican platform democratic nomination convention republicans campaign say president  \n",
    "\n",
    "Topic #9: noise  \n",
    "ve ll soviet don jobs oil know world didn fight  \n",
    "\n",
    "Topic #10: finance  \n",
    "banks public treasury year currency notes credit congress banking recovery  \n",
    "\n",
    "Topic #11: southwest territory  \n",
    "mexico texas congress treaty mexican minister territory treasury act duties  \n",
    "\n",
    "Topic #12: budget  \n",
    "year billion budget help congress children tax percent health million  \n",
    "\n",
    "Topic #13: war on terror  \n",
    "iraq america terrorists terror terrorist freedom afghanistan world weapons americans  \n",
    "\n",
    "Topic #14: noise  \n",
    "bank general public paper subject notes means currency state indians  \n",
    "\n",
    "Topic #15: noise  \n",
    "shall oath america fighting japanese witnesses magistrate arrive men presence  \n",
    "\n",
    "Topic #16: government action  \n",
    "shall congress action measures session provision necessary regard executive public  \n",
    "\n",
    "Topic #17: currency  \n",
    "gold tariff silver notes cent products bonds cuba currency spain  \n",
    "\n",
    "Topic #18: energy/econonmy  \n",
    "energy programs federal percent oil spending congress strategic inflation years  \n",
    "\n",
    "Topic #19: commitment  \n",
    "vietnam tonight congress think years year commitments billion believe america  \n",
    "\n",
    "Topic #20: enemy name-calling  \n",
    "british enemy savages honorable prisoners savage rights public cruel proofs  \n",
    "\n",
    "Topic #21: positive readiness  \n",
    "freedom story seek men ready tasks help god courage hope  \n",
    "\n",
    "Topic #22: spain territory  \n",
    "spain treaty spanish islands catholic territory article cuba island state  \n",
    "\n",
    "Topic #23: waterway issues  \n",
    "british militia orders congress decrees harbors neutral vessels commerce ensuing  \n",
    "\n",
    "Topic #24: achievement  \n",
    "today generation learned journey let work achieve words democracy voices  \n",
    "\n",
    "Topic #25: business  \n",
    "democracy president business democratic reagan labor capital trade tariff laws  \n",
    "\n",
    "Topic #26: treaty  \n",
    "gentlemen commissioners france treaty philadelphia article french amity congress representatives  \n",
    "\n",
    "Topic #27: people/society  \n",
    "world continue agriculture civilization restoration citizens relationship economic want armaments  \n",
    "\n",
    "Topic #28: nomination  \n",
    "convention nomination measures foreign happiness public duties fellow nominated republican  \n",
    "\n",
    "Topic #29: president  \n",
    "president presidency friends office love prayers thank house family god"
   ]
  },
  {
   "cell_type": "markdown",
   "metadata": {},
   "source": [
    "## TSNE"
   ]
  },
  {
   "cell_type": "code",
   "execution_count": 27,
   "metadata": {},
   "outputs": [
    {
     "name": "stdout",
     "output_type": "stream",
     "text": [
      "Populating the interactive namespace from numpy and matplotlib\n"
     ]
    }
   ],
   "source": [
    "%pylab inline"
   ]
  },
  {
   "cell_type": "code",
   "execution_count": 28,
   "metadata": {},
   "outputs": [],
   "source": [
    "doc_top = nmf.fit_transform(t_counts)"
   ]
  },
  {
   "cell_type": "code",
   "execution_count": 29,
   "metadata": {},
   "outputs": [],
   "source": [
    "doc_max_top = np.argmax(doc_top, axis=1)"
   ]
  },
  {
   "cell_type": "code",
   "execution_count": 30,
   "metadata": {},
   "outputs": [
    {
     "name": "stdout",
     "output_type": "stream",
     "text": [
      "[t-SNE] Computing 91 nearest neighbors...\n",
      "[t-SNE] Indexed 356 samples in 0.000s...\n",
      "[t-SNE] Computed neighbors for 356 samples in 0.005s...\n",
      "[t-SNE] Computed conditional probabilities for sample 356 / 356\n",
      "[t-SNE] Mean sigma: 0.360969\n",
      "[t-SNE] KL divergence after 250 iterations with early exaggeration: 62.571407\n",
      "[t-SNE] Error after 1000 iterations: 0.489405\n"
     ]
    }
   ],
   "source": [
    "from sklearn.manifold import TSNE\n",
    "\n",
    "doc_plot = TSNE(verbose=1, metric=\"cosine\").fit_transform(doc_top)"
   ]
  },
  {
   "cell_type": "code",
   "execution_count": 31,
   "metadata": {},
   "outputs": [
    {
     "data": {
      "text/plain": [
       "(356, 2)"
      ]
     },
     "execution_count": 31,
     "metadata": {},
     "output_type": "execute_result"
    }
   ],
   "source": [
    "doc_plot.shape"
   ]
  },
  {
   "cell_type": "code",
   "execution_count": 32,
   "metadata": {},
   "outputs": [
    {
     "data": {
      "image/png": "[encoded data removed]",
      "text/plain": [
       "<Figure size 432x288 with 1 Axes>"
      ]
     },
     "metadata": {},
     "output_type": "display_data"
    }
   ],
   "source": [
    "plt.scatter(doc_plot[:,0],doc_plot[:,1], c=doc_max_top, alpha=.4)\n",
    "plt.title(\"tsne with max topic labels\");\n",
    "# plt.savefig(\"tsne w cosine.pdf\")"
   ]
  },
  {
   "cell_type": "code",
   "execution_count": null,
   "metadata": {},
   "outputs": [],
   "source": []
  },
  {
   "cell_type": "code",
   "execution_count": null,
   "metadata": {},
   "outputs": [],
   "source": []
  }
 ],
 "metadata": {
  "kernelspec": {
   "display_name": "Python 3",
   "language": "python",
   "name": "python3"
  },
  "language_info": {
   "codemirror_mode": {
    "name": "ipython",
    "version": 3
   },
   "file_extension": ".py",
   "mimetype": "text/x-python",
   "name": "python",
   "nbconvert_exporter": "python",
   "pygments_lexer": "ipython3",
   "version": "3.6.4"
  }
 },
 "nbformat": 4,
 "nbformat_minor": 2
}
