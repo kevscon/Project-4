{
 "cells": [
  {
   "cell_type": "code",
   "execution_count": 5,
   "metadata": {},
   "outputs": [],
   "source": [
    "import pandas as pd\n",
    "import numpy as np\n",
    "import matplotlib.pyplot as plt"
   ]
  },
  {
   "cell_type": "markdown",
   "metadata": {},
   "source": [
    "## Load speech file"
   ]
  },
  {
   "cell_type": "code",
   "execution_count": 6,
   "metadata": {},
   "outputs": [],
   "source": [
    "# load data from pickle file\n",
    "import pickle\n",
    "\n",
    "pickle_in = open(\"speeches.pickle\", \"rb\")\n",
    "speeches_df = pickle.load(pickle_in)"
   ]
  },
  {
   "cell_type": "code",
   "execution_count": 7,
   "metadata": {},
   "outputs": [
    {
     "data": {
      "text/html": [
       "<div>\n",
       "<style scoped>\n",
       "    .dataframe tbody tr th:only-of-type {\n",
       "        vertical-align: middle;\n",
       "    }\n",
       "\n",
       "    .dataframe tbody tr th {\n",
       "        vertical-align: top;\n",
       "    }\n",
       "\n",
       "    .dataframe thead th {\n",
       "        text-align: right;\n",
       "    }\n",
       "</style>\n",
       "<table border=\"1\" class=\"dataframe\">\n",
       "  <thead>\n",
       "    <tr style=\"text-align: right;\">\n",
       "      <th></th>\n",
       "      <th>type</th>\n",
       "      <th>speaker</th>\n",
       "      <th>date</th>\n",
       "      <th>speech</th>\n",
       "    </tr>\n",
       "  </thead>\n",
       "  <tbody>\n",
       "    <tr>\n",
       "      <th>1789 inauguration George Washington</th>\n",
       "      <td>inauguration</td>\n",
       "      <td>George Washington</td>\n",
       "      <td>1789</td>\n",
       "      <td>Fellow-Citizens of the Senate and of the House...</td>\n",
       "    </tr>\n",
       "    <tr>\n",
       "      <th>1790 state_union George Washington</th>\n",
       "      <td>state_union</td>\n",
       "      <td>George Washington</td>\n",
       "      <td>1790</td>\n",
       "      <td>I embrace with great satisfaction the opportun...</td>\n",
       "    </tr>\n",
       "    <tr>\n",
       "      <th>1790 state_union George Washington</th>\n",
       "      <td>state_union</td>\n",
       "      <td>George Washington</td>\n",
       "      <td>1790</td>\n",
       "      <td>In meeting you again I feel much satisfaction ...</td>\n",
       "    </tr>\n",
       "    <tr>\n",
       "      <th>1791 state_union George Washington</th>\n",
       "      <td>state_union</td>\n",
       "      <td>George Washington</td>\n",
       "      <td>1791</td>\n",
       "      <td>I meet you upon the present occasion with the ...</td>\n",
       "    </tr>\n",
       "    <tr>\n",
       "      <th>1792 state_union George Washington</th>\n",
       "      <td>state_union</td>\n",
       "      <td>George Washington</td>\n",
       "      <td>1792</td>\n",
       "      <td>It is some abatement of the satisfaction with ...</td>\n",
       "    </tr>\n",
       "  </tbody>\n",
       "</table>\n",
       "</div>"
      ],
      "text/plain": [
       "                                             type            speaker  date  \\\n",
       "1789 inauguration George Washington  inauguration  George Washington  1789   \n",
       "1790 state_union George Washington    state_union  George Washington  1790   \n",
       "1790 state_union George Washington    state_union  George Washington  1790   \n",
       "1791 state_union George Washington    state_union  George Washington  1791   \n",
       "1792 state_union George Washington    state_union  George Washington  1792   \n",
       "\n",
       "                                                                                speech  \n",
       "1789 inauguration George Washington  Fellow-Citizens of the Senate and of the House...  \n",
       "1790 state_union George Washington   I embrace with great satisfaction the opportun...  \n",
       "1790 state_union George Washington   In meeting you again I feel much satisfaction ...  \n",
       "1791 state_union George Washington   I meet you upon the present occasion with the ...  \n",
       "1792 state_union George Washington   It is some abatement of the satisfaction with ...  "
      ]
     },
     "execution_count": 7,
     "metadata": {},
     "output_type": "execute_result"
    }
   ],
   "source": [
    "speeches_df.head()"
   ]
  },
  {
   "cell_type": "code",
   "execution_count": 8,
   "metadata": {},
   "outputs": [],
   "source": [
    "speech_text = speeches_df['speech']"
   ]
  },
  {
   "cell_type": "markdown",
   "metadata": {},
   "source": [
    "## Load topic matrix"
   ]
  },
  {
   "cell_type": "code",
   "execution_count": 9,
   "metadata": {},
   "outputs": [],
   "source": [
    "pickle_in = open(\"topics.pickle\", \"rb\")\n",
    "topics_df = pickle.load(pickle_in)"
   ]
  },
  {
   "cell_type": "code",
   "execution_count": 10,
   "metadata": {},
   "outputs": [],
   "source": [
    "topics_df.set_index(speeches_df.index, inplace=True)"
   ]
  },
  {
   "cell_type": "code",
   "execution_count": 11,
   "metadata": {},
   "outputs": [
    {
     "data": {
      "text/html": [
       "<div>\n",
       "<style scoped>\n",
       "    .dataframe tbody tr th:only-of-type {\n",
       "        vertical-align: middle;\n",
       "    }\n",
       "\n",
       "    .dataframe tbody tr th {\n",
       "        vertical-align: top;\n",
       "    }\n",
       "\n",
       "    .dataframe thead th {\n",
       "        text-align: right;\n",
       "    }\n",
       "</style>\n",
       "<table border=\"1\" class=\"dataframe\">\n",
       "  <thead>\n",
       "    <tr style=\"text-align: right;\">\n",
       "      <th></th>\n",
       "      <th>0</th>\n",
       "      <th>1</th>\n",
       "      <th>2</th>\n",
       "      <th>3</th>\n",
       "      <th>4</th>\n",
       "      <th>5</th>\n",
       "      <th>6</th>\n",
       "      <th>7</th>\n",
       "      <th>8</th>\n",
       "      <th>9</th>\n",
       "      <th>...</th>\n",
       "      <th>20</th>\n",
       "      <th>21</th>\n",
       "      <th>22</th>\n",
       "      <th>23</th>\n",
       "      <th>24</th>\n",
       "      <th>25</th>\n",
       "      <th>26</th>\n",
       "      <th>27</th>\n",
       "      <th>28</th>\n",
       "      <th>29</th>\n",
       "    </tr>\n",
       "  </thead>\n",
       "  <tbody>\n",
       "    <tr>\n",
       "      <th>1789 inauguration George Washington</th>\n",
       "      <td>0.000000</td>\n",
       "      <td>0.0</td>\n",
       "      <td>0.0</td>\n",
       "      <td>0.012555</td>\n",
       "      <td>0.027843</td>\n",
       "      <td>0.002302</td>\n",
       "      <td>0.0</td>\n",
       "      <td>0.058544</td>\n",
       "      <td>0.000000</td>\n",
       "      <td>0.0</td>\n",
       "      <td>...</td>\n",
       "      <td>0.070463</td>\n",
       "      <td>0.00000</td>\n",
       "      <td>0.0</td>\n",
       "      <td>0.000000</td>\n",
       "      <td>0.0</td>\n",
       "      <td>0.0</td>\n",
       "      <td>0.042177</td>\n",
       "      <td>0.000000</td>\n",
       "      <td>0.405272</td>\n",
       "      <td>0.007363</td>\n",
       "    </tr>\n",
       "    <tr>\n",
       "      <th>1790 state_union George Washington</th>\n",
       "      <td>0.000000</td>\n",
       "      <td>0.0</td>\n",
       "      <td>0.0</td>\n",
       "      <td>0.000000</td>\n",
       "      <td>0.105852</td>\n",
       "      <td>0.004067</td>\n",
       "      <td>0.0</td>\n",
       "      <td>0.032762</td>\n",
       "      <td>0.000000</td>\n",
       "      <td>0.0</td>\n",
       "      <td>...</td>\n",
       "      <td>0.000000</td>\n",
       "      <td>0.00000</td>\n",
       "      <td>0.0</td>\n",
       "      <td>0.000000</td>\n",
       "      <td>0.0</td>\n",
       "      <td>0.0</td>\n",
       "      <td>0.000000</td>\n",
       "      <td>0.000000</td>\n",
       "      <td>0.000000</td>\n",
       "      <td>0.000000</td>\n",
       "    </tr>\n",
       "    <tr>\n",
       "      <th>1790 state_union George Washington</th>\n",
       "      <td>0.000000</td>\n",
       "      <td>0.0</td>\n",
       "      <td>0.0</td>\n",
       "      <td>0.000000</td>\n",
       "      <td>0.140909</td>\n",
       "      <td>0.000000</td>\n",
       "      <td>0.0</td>\n",
       "      <td>0.000000</td>\n",
       "      <td>0.001995</td>\n",
       "      <td>0.0</td>\n",
       "      <td>...</td>\n",
       "      <td>0.000000</td>\n",
       "      <td>0.00105</td>\n",
       "      <td>0.0</td>\n",
       "      <td>0.070268</td>\n",
       "      <td>0.0</td>\n",
       "      <td>0.0</td>\n",
       "      <td>0.009993</td>\n",
       "      <td>0.049600</td>\n",
       "      <td>0.000000</td>\n",
       "      <td>0.000000</td>\n",
       "    </tr>\n",
       "    <tr>\n",
       "      <th>1791 state_union George Washington</th>\n",
       "      <td>0.000000</td>\n",
       "      <td>0.0</td>\n",
       "      <td>0.0</td>\n",
       "      <td>0.000000</td>\n",
       "      <td>0.121443</td>\n",
       "      <td>0.016540</td>\n",
       "      <td>0.0</td>\n",
       "      <td>0.000000</td>\n",
       "      <td>0.000000</td>\n",
       "      <td>0.0</td>\n",
       "      <td>...</td>\n",
       "      <td>0.000000</td>\n",
       "      <td>0.00000</td>\n",
       "      <td>0.0</td>\n",
       "      <td>0.000000</td>\n",
       "      <td>0.0</td>\n",
       "      <td>0.0</td>\n",
       "      <td>0.007991</td>\n",
       "      <td>0.000000</td>\n",
       "      <td>0.000000</td>\n",
       "      <td>0.000000</td>\n",
       "    </tr>\n",
       "    <tr>\n",
       "      <th>1792 state_union George Washington</th>\n",
       "      <td>0.015756</td>\n",
       "      <td>0.0</td>\n",
       "      <td>0.0</td>\n",
       "      <td>0.000000</td>\n",
       "      <td>0.081382</td>\n",
       "      <td>0.000000</td>\n",
       "      <td>0.0</td>\n",
       "      <td>0.000000</td>\n",
       "      <td>0.000000</td>\n",
       "      <td>0.0</td>\n",
       "      <td>...</td>\n",
       "      <td>0.000000</td>\n",
       "      <td>0.00000</td>\n",
       "      <td>0.0</td>\n",
       "      <td>0.043682</td>\n",
       "      <td>0.0</td>\n",
       "      <td>0.0</td>\n",
       "      <td>0.052675</td>\n",
       "      <td>0.000045</td>\n",
       "      <td>0.000000</td>\n",
       "      <td>0.000000</td>\n",
       "    </tr>\n",
       "  </tbody>\n",
       "</table>\n",
       "<p>5 rows × 30 columns</p>\n",
       "</div>"
      ],
      "text/plain": [
       "                                           0    1    2         3         4   \\\n",
       "1789 inauguration George Washington  0.000000  0.0  0.0  0.012555  0.027843   \n",
       "1790 state_union George Washington   0.000000  0.0  0.0  0.000000  0.105852   \n",
       "1790 state_union George Washington   0.000000  0.0  0.0  0.000000  0.140909   \n",
       "1791 state_union George Washington   0.000000  0.0  0.0  0.000000  0.121443   \n",
       "1792 state_union George Washington   0.015756  0.0  0.0  0.000000  0.081382   \n",
       "\n",
       "                                           5    6         7         8    9   \\\n",
       "1789 inauguration George Washington  0.002302  0.0  0.058544  0.000000  0.0   \n",
       "1790 state_union George Washington   0.004067  0.0  0.032762  0.000000  0.0   \n",
       "1790 state_union George Washington   0.000000  0.0  0.000000  0.001995  0.0   \n",
       "1791 state_union George Washington   0.016540  0.0  0.000000  0.000000  0.0   \n",
       "1792 state_union George Washington   0.000000  0.0  0.000000  0.000000  0.0   \n",
       "\n",
       "                                       ...           20       21   22  \\\n",
       "1789 inauguration George Washington    ...     0.070463  0.00000  0.0   \n",
       "1790 state_union George Washington     ...     0.000000  0.00000  0.0   \n",
       "1790 state_union George Washington     ...     0.000000  0.00105  0.0   \n",
       "1791 state_union George Washington     ...     0.000000  0.00000  0.0   \n",
       "1792 state_union George Washington     ...     0.000000  0.00000  0.0   \n",
       "\n",
       "                                           23   24   25        26        27  \\\n",
       "1789 inauguration George Washington  0.000000  0.0  0.0  0.042177  0.000000   \n",
       "1790 state_union George Washington   0.000000  0.0  0.0  0.000000  0.000000   \n",
       "1790 state_union George Washington   0.070268  0.0  0.0  0.009993  0.049600   \n",
       "1791 state_union George Washington   0.000000  0.0  0.0  0.007991  0.000000   \n",
       "1792 state_union George Washington   0.043682  0.0  0.0  0.052675  0.000045   \n",
       "\n",
       "                                           28        29  \n",
       "1789 inauguration George Washington  0.405272  0.007363  \n",
       "1790 state_union George Washington   0.000000  0.000000  \n",
       "1790 state_union George Washington   0.000000  0.000000  \n",
       "1791 state_union George Washington   0.000000  0.000000  \n",
       "1792 state_union George Washington   0.000000  0.000000  \n",
       "\n",
       "[5 rows x 30 columns]"
      ]
     },
     "execution_count": 11,
     "metadata": {},
     "output_type": "execute_result"
    }
   ],
   "source": [
    "topics_df.head()"
   ]
  },
  {
   "cell_type": "markdown",
   "metadata": {},
   "source": [
    "## Sentiment Analysis"
   ]
  },
  {
   "cell_type": "code",
   "execution_count": 12,
   "metadata": {},
   "outputs": [],
   "source": [
    "from textblob import TextBlob"
   ]
  },
  {
   "cell_type": "code",
   "execution_count": 13,
   "metadata": {},
   "outputs": [
    {
     "data": {
      "text/plain": [
       "1789 inauguration George Washington    Fellow-Citizens of the Senate and of the House...\n",
       "1790 state_union George Washington     I embrace with great satisfaction the opportun...\n",
       "1790 state_union George Washington     In meeting you again I feel much satisfaction ...\n",
       "Name: speech, dtype: object"
      ]
     },
     "execution_count": 13,
     "metadata": {},
     "output_type": "execute_result"
    }
   ],
   "source": [
    "speech_text[0:3]"
   ]
  },
  {
   "cell_type": "code",
   "execution_count": 14,
   "metadata": {},
   "outputs": [],
   "source": [
    "polarity_list = []\n",
    "subjectivity_list = []\n",
    "\n",
    "for speech in speech_text:\n",
    "    polarity_list.append(TextBlob(speech).sentiment[:][0])\n",
    "    subjectivity_list.append(TextBlob(speech).sentiment[:][1])"
   ]
  },
  {
   "cell_type": "code",
   "execution_count": 15,
   "metadata": {},
   "outputs": [
    {
     "data": {
      "image/png": "[encoded data removed]",
      "text/plain": [
       "<Figure size 432x288 with 1 Axes>"
      ]
     },
     "metadata": {},
     "output_type": "display_data"
    }
   ],
   "source": [
    "fig, ax = plt.subplots()\n",
    "ax.scatter(speeches_df['date'], polarity_list);"
   ]
  },
  {
   "cell_type": "code",
   "execution_count": 16,
   "metadata": {
    "scrolled": true
   },
   "outputs": [
    {
     "data": {
      "image/png": "[encoded data removed]",
      "text/plain": [
       "<Figure size 432x288 with 1 Axes>"
      ]
     },
     "metadata": {},
     "output_type": "display_data"
    }
   ],
   "source": [
    "fig, ax = plt.subplots()\n",
    "ax.scatter(speeches_df['date'], subjectivity_list);"
   ]
  },
  {
   "cell_type": "code",
   "execution_count": 17,
   "metadata": {},
   "outputs": [
    {
     "data": {
      "image/png": "[encoded data removed]",
      "text/plain": [
       "<Figure size 432x288 with 1 Axes>"
      ]
     },
     "metadata": {},
     "output_type": "display_data"
    }
   ],
   "source": [
    "fig, ax = plt.subplots()\n",
    "ax.scatter(speeches_df['type'], polarity_list);"
   ]
  },
  {
   "cell_type": "code",
   "execution_count": 18,
   "metadata": {},
   "outputs": [
    {
     "data": {
      "image/png": "[encoded data removed]",
      "text/plain": [
       "<Figure size 432x288 with 1 Axes>"
      ]
     },
     "metadata": {},
     "output_type": "display_data"
    }
   ],
   "source": [
    "fig, ax = plt.subplots()\n",
    "ax.scatter(speeches_df['type'], subjectivity_list);"
   ]
  },
  {
   "cell_type": "markdown",
   "metadata": {},
   "source": [
    "## Keyword searching\n"
   ]
  },
  {
   "cell_type": "code",
   "execution_count": 19,
   "metadata": {},
   "outputs": [],
   "source": [
    "import nltk\n",
    "from nltk.tokenize import wordpunct_tokenize"
   ]
  },
  {
   "cell_type": "markdown",
   "metadata": {},
   "source": [
    "Pattern of self vs collective references"
   ]
  },
  {
   "cell_type": "code",
   "execution_count": 20,
   "metadata": {},
   "outputs": [],
   "source": [
    "# define pronouns to search for\n",
    "\n",
    "i_words = ['i', 'me', 'my', 'mine', 'myself']\n",
    "we_words = ['we', 'us', 'our', 'ours', 'ourselves']\n",
    "u_words = ['you', 'your', 'yours', 'yourself', 'yourselves']\n",
    "third_words = ['he', 'him', 'his', 'himself', \n",
    "               'she', 'her', 'hers', 'herself', \n",
    "               'they', 'them', 'their', 'theirs', 'themselves']"
   ]
  },
  {
   "cell_type": "code",
   "execution_count": 21,
   "metadata": {},
   "outputs": [],
   "source": [
    "import collections"
   ]
  },
  {
   "cell_type": "code",
   "execution_count": 22,
   "metadata": {},
   "outputs": [],
   "source": [
    "# tfidf leave pronouns in \n",
    "\n",
    "remove = ['.', ',', '(', ')', \"'\", '\"', '?', '!', '.,', '...', 'applause', 'laughter']\n",
    "\n",
    "i_per = []\n",
    "we_per = []\n",
    "u_per = []\n",
    "third_per = []\n",
    "total_per = []\n",
    "\n",
    "for speech in speech_text:\n",
    "\n",
    "    words = wordpunct_tokenize(speech)\n",
    "    words = [w.lower() for w in words if w not in remove]\n",
    "    \n",
    "    freqs = collections.Counter()\n",
    "    \n",
    "    for word in words:\n",
    "        if word in i_words:\n",
    "            freqs['i_words'] += 1\n",
    "        elif word in we_words:\n",
    "            freqs['we_words'] += 1\n",
    "        elif word in u_words:\n",
    "            freqs['u_words'] += 1\n",
    "        elif word in third_words:\n",
    "            freqs['third_words'] += 1\n",
    "        else:\n",
    "            pass\n",
    "\n",
    "    i_per.append(freqs['i_words'] / len(words) * 100)\n",
    "    we_per.append(freqs['we_words'] / len(words) * 100)\n",
    "    u_per.append(freqs['u_words'] / len(words) * 100)\n",
    "    third_per.append(freqs['third_words'] / len(words) * 100)\n",
    "#     total_per.append((freqs['i_words'] + freqs['we_words'] + freqs['u_words'] + freqs['third_words']) / len(words) * 100)\n"
   ]
  },
  {
   "cell_type": "code",
   "execution_count": 23,
   "metadata": {},
   "outputs": [],
   "source": [
    "word_df = pd.DataFrame(list(zip(i_per, we_per, u_per, third_per)), columns = ['Me', 'Us', 'You', 'Them'])"
   ]
  },
  {
   "cell_type": "code",
   "execution_count": 24,
   "metadata": {
    "scrolled": true
   },
   "outputs": [
    {
     "data": {
      "text/html": [
       "<div>\n",
       "<style scoped>\n",
       "    .dataframe tbody tr th:only-of-type {\n",
       "        vertical-align: middle;\n",
       "    }\n",
       "\n",
       "    .dataframe tbody tr th {\n",
       "        vertical-align: top;\n",
       "    }\n",
       "\n",
       "    .dataframe thead th {\n",
       "        text-align: right;\n",
       "    }\n",
       "</style>\n",
       "<table border=\"1\" class=\"dataframe\">\n",
       "  <thead>\n",
       "    <tr style=\"text-align: right;\">\n",
       "      <th></th>\n",
       "      <th>Me</th>\n",
       "      <th>Us</th>\n",
       "      <th>You</th>\n",
       "      <th>Them</th>\n",
       "    </tr>\n",
       "  </thead>\n",
       "  <tbody>\n",
       "    <tr>\n",
       "      <th>0</th>\n",
       "      <td>3.941909</td>\n",
       "      <td>0.207469</td>\n",
       "      <td>0.968188</td>\n",
       "      <td>1.244813</td>\n",
       "    </tr>\n",
       "    <tr>\n",
       "      <th>1</th>\n",
       "      <td>1.364877</td>\n",
       "      <td>1.182894</td>\n",
       "      <td>1.819836</td>\n",
       "      <td>1.182894</td>\n",
       "    </tr>\n",
       "    <tr>\n",
       "      <th>2</th>\n",
       "      <td>1.084599</td>\n",
       "      <td>2.024584</td>\n",
       "      <td>1.446132</td>\n",
       "      <td>1.590745</td>\n",
       "    </tr>\n",
       "    <tr>\n",
       "      <th>3</th>\n",
       "      <td>0.400000</td>\n",
       "      <td>0.177778</td>\n",
       "      <td>1.155556</td>\n",
       "      <td>1.333333</td>\n",
       "    </tr>\n",
       "    <tr>\n",
       "      <th>4</th>\n",
       "      <td>1.438159</td>\n",
       "      <td>0.719080</td>\n",
       "      <td>0.814957</td>\n",
       "      <td>1.150527</td>\n",
       "    </tr>\n",
       "  </tbody>\n",
       "</table>\n",
       "</div>"
      ],
      "text/plain": [
       "         Me        Us       You      Them\n",
       "0  3.941909  0.207469  0.968188  1.244813\n",
       "1  1.364877  1.182894  1.819836  1.182894\n",
       "2  1.084599  2.024584  1.446132  1.590745\n",
       "3  0.400000  0.177778  1.155556  1.333333\n",
       "4  1.438159  0.719080  0.814957  1.150527"
      ]
     },
     "execution_count": 24,
     "metadata": {},
     "output_type": "execute_result"
    }
   ],
   "source": [
    "word_df.head()"
   ]
  },
  {
   "cell_type": "markdown",
   "metadata": {},
   "source": [
    "Normalize dataframe"
   ]
  },
  {
   "cell_type": "code",
   "execution_count": 25,
   "metadata": {},
   "outputs": [],
   "source": [
    "word4_df = word_df.loc[:,\"Me\":\"Them\"].div(word_df.sum(axis=1), axis=0)"
   ]
  },
  {
   "cell_type": "code",
   "execution_count": 27,
   "metadata": {
    "scrolled": true
   },
   "outputs": [
    {
     "data": {
      "text/html": [
       "<div>\n",
       "<style scoped>\n",
       "    .dataframe tbody tr th:only-of-type {\n",
       "        vertical-align: middle;\n",
       "    }\n",
       "\n",
       "    .dataframe tbody tr th {\n",
       "        vertical-align: top;\n",
       "    }\n",
       "\n",
       "    .dataframe thead th {\n",
       "        text-align: right;\n",
       "    }\n",
       "</style>\n",
       "<table border=\"1\" class=\"dataframe\">\n",
       "  <thead>\n",
       "    <tr style=\"text-align: right;\">\n",
       "      <th></th>\n",
       "      <th>Me</th>\n",
       "      <th>Us</th>\n",
       "      <th>You</th>\n",
       "      <th>Them</th>\n",
       "    </tr>\n",
       "  </thead>\n",
       "  <tbody>\n",
       "    <tr>\n",
       "      <th>0</th>\n",
       "      <td>0.619565</td>\n",
       "      <td>0.032609</td>\n",
       "      <td>0.152174</td>\n",
       "      <td>0.195652</td>\n",
       "    </tr>\n",
       "    <tr>\n",
       "      <th>1</th>\n",
       "      <td>0.245902</td>\n",
       "      <td>0.213115</td>\n",
       "      <td>0.327869</td>\n",
       "      <td>0.213115</td>\n",
       "    </tr>\n",
       "    <tr>\n",
       "      <th>2</th>\n",
       "      <td>0.176471</td>\n",
       "      <td>0.329412</td>\n",
       "      <td>0.235294</td>\n",
       "      <td>0.258824</td>\n",
       "    </tr>\n",
       "    <tr>\n",
       "      <th>3</th>\n",
       "      <td>0.130435</td>\n",
       "      <td>0.057971</td>\n",
       "      <td>0.376812</td>\n",
       "      <td>0.434783</td>\n",
       "    </tr>\n",
       "    <tr>\n",
       "      <th>4</th>\n",
       "      <td>0.348837</td>\n",
       "      <td>0.174419</td>\n",
       "      <td>0.197674</td>\n",
       "      <td>0.279070</td>\n",
       "    </tr>\n",
       "  </tbody>\n",
       "</table>\n",
       "</div>"
      ],
      "text/plain": [
       "         Me        Us       You      Them\n",
       "0  0.619565  0.032609  0.152174  0.195652\n",
       "1  0.245902  0.213115  0.327869  0.213115\n",
       "2  0.176471  0.329412  0.235294  0.258824\n",
       "3  0.130435  0.057971  0.376812  0.434783\n",
       "4  0.348837  0.174419  0.197674  0.279070"
      ]
     },
     "execution_count": 27,
     "metadata": {},
     "output_type": "execute_result"
    }
   ],
   "source": [
    "word4_df.head()"
   ]
  },
  {
   "cell_type": "markdown",
   "metadata": {},
   "source": [
    "# export keyword dataframe to pickle file\n",
    "pickle_out = open(\"keywords.pickle\", \"wb\")\n",
    "pickle.dump(word4_df, pickle_out)\n",
    "pickle_out.close()"
   ]
  },
  {
   "cell_type": "code",
   "execution_count": 69,
   "metadata": {},
   "outputs": [],
   "source": [
    "word2_df = word_df[['Us', 'Them']]"
   ]
  },
  {
   "cell_type": "code",
   "execution_count": 70,
   "metadata": {},
   "outputs": [],
   "source": [
    "word2_df = word2_df.div(word2_df.sum(axis=1), axis=0)"
   ]
  },
  {
   "cell_type": "code",
   "execution_count": 75,
   "metadata": {},
   "outputs": [
    {
     "data": {
      "text/html": [
       "<div>\n",
       "<style scoped>\n",
       "    .dataframe tbody tr th:only-of-type {\n",
       "        vertical-align: middle;\n",
       "    }\n",
       "\n",
       "    .dataframe tbody tr th {\n",
       "        vertical-align: top;\n",
       "    }\n",
       "\n",
       "    .dataframe thead th {\n",
       "        text-align: right;\n",
       "    }\n",
       "</style>\n",
       "<table border=\"1\" class=\"dataframe\">\n",
       "  <thead>\n",
       "    <tr style=\"text-align: right;\">\n",
       "      <th></th>\n",
       "      <th>Us</th>\n",
       "      <th>Them</th>\n",
       "    </tr>\n",
       "  </thead>\n",
       "  <tbody>\n",
       "    <tr>\n",
       "      <th>0</th>\n",
       "      <td>0.142857</td>\n",
       "      <td>0.857143</td>\n",
       "    </tr>\n",
       "    <tr>\n",
       "      <th>1</th>\n",
       "      <td>0.500000</td>\n",
       "      <td>0.500000</td>\n",
       "    </tr>\n",
       "    <tr>\n",
       "      <th>2</th>\n",
       "      <td>0.560000</td>\n",
       "      <td>0.440000</td>\n",
       "    </tr>\n",
       "    <tr>\n",
       "      <th>3</th>\n",
       "      <td>0.117647</td>\n",
       "      <td>0.882353</td>\n",
       "    </tr>\n",
       "    <tr>\n",
       "      <th>4</th>\n",
       "      <td>0.384615</td>\n",
       "      <td>0.615385</td>\n",
       "    </tr>\n",
       "  </tbody>\n",
       "</table>\n",
       "</div>"
      ],
      "text/plain": [
       "         Us      Them\n",
       "0  0.142857  0.857143\n",
       "1  0.500000  0.500000\n",
       "2  0.560000  0.440000\n",
       "3  0.117647  0.882353\n",
       "4  0.384615  0.615385"
      ]
     },
     "execution_count": 75,
     "metadata": {},
     "output_type": "execute_result"
    }
   ],
   "source": [
    "word2_df.head()"
   ]
  },
  {
   "cell_type": "code",
   "execution_count": 80,
   "metadata": {},
   "outputs": [],
   "source": [
    "word2_df.dropna(inplace=True)"
   ]
  },
  {
   "cell_type": "markdown",
   "metadata": {},
   "source": [
    "## Clustering"
   ]
  },
  {
   "cell_type": "code",
   "execution_count": 52,
   "metadata": {},
   "outputs": [],
   "source": [
    "from sklearn.cluster import KMeans"
   ]
  },
  {
   "cell_type": "markdown",
   "metadata": {},
   "source": [
    "cluster on 4 dimensions"
   ]
  },
  {
   "cell_type": "code",
   "execution_count": 53,
   "metadata": {},
   "outputs": [],
   "source": [
    "X = word4_df.values"
   ]
  },
  {
   "cell_type": "code",
   "execution_count": 54,
   "metadata": {},
   "outputs": [],
   "source": [
    "n = 10\n",
    "\n",
    "# for i in range(10):\n",
    "kmeans = KMeans(n_clusters = n).fit(X)"
   ]
  },
  {
   "cell_type": "code",
   "execution_count": 55,
   "metadata": {},
   "outputs": [
    {
     "data": {
      "text/plain": [
       "array([0, 4, 4, 5, 5, 6, 9, 7, 3, 6, 0, 6, 5, 8, 6, 8, 4, 2, 8, 8, 2, 2,\n",
       "       7, 2, 2, 6, 0, 8, 6, 8, 2, 2, 2, 7, 6, 8, 2, 7, 7, 2, 6, 7, 6, 2,\n",
       "       2, 2, 4, 2, 7, 2, 6, 5, 6, 6, 6, 4, 5, 6, 6, 6, 4, 7, 7, 7, 6, 7,\n",
       "       7, 6, 7, 6, 6, 7, 6, 7, 2, 7, 6, 0, 5, 6, 6, 6, 5, 6, 7, 7, 8, 7,\n",
       "       7, 7, 6, 5, 5, 8, 5, 0, 6, 2, 6, 2, 2, 2, 7, 0, 6, 5, 5, 5, 0, 5,\n",
       "       6, 5, 5, 5, 7, 7, 6, 8, 6, 8, 5, 5, 4, 7, 2, 6, 2, 6, 6, 8, 6, 6,\n",
       "       6, 8, 6, 6, 8, 6, 2, 2, 6, 3, 6, 6, 8, 6, 8, 2, 2, 2, 2, 1, 6, 7,\n",
       "       7, 7, 7, 6, 5, 5, 5, 6, 1, 6, 1, 8, 3, 8, 0, 2, 1, 6, 6, 5, 3, 1,\n",
       "       1, 1, 8, 8, 8, 8, 1, 8, 2, 8, 0, 8, 8, 4, 8, 8, 4, 0, 8, 8, 3, 3,\n",
       "       2, 6, 8, 1, 6, 1, 0, 1, 4, 1, 1, 8, 8, 8, 6, 3, 1, 1, 3, 3, 3, 5,\n",
       "       1, 8, 1, 1, 1, 1, 3, 0, 1, 0, 8, 1, 1, 1, 4, 1, 3, 1, 1, 1, 4, 1,\n",
       "       4, 1, 1, 1, 3, 1, 1, 3, 3, 1, 3, 3, 3, 3, 6, 4, 3, 4, 1, 4, 1, 8,\n",
       "       1, 3, 3, 1, 1, 3, 0, 0, 3, 4, 1, 3, 1, 3, 3, 1, 1, 1, 4, 8, 3, 3,\n",
       "       1, 8, 1, 4, 1, 8, 1, 1, 3, 3, 3, 4, 0, 4, 3, 3, 3, 1, 4, 4, 0, 1,\n",
       "       3, 4, 8, 8, 0, 4, 8, 1, 1, 8, 3, 0, 3, 4, 3, 1, 3, 3, 8, 8, 4, 4,\n",
       "       1, 8, 1, 8, 4, 8, 0, 1, 4, 3, 3, 8, 4, 4, 4, 8, 1, 8, 3, 8, 4, 4,\n",
       "       8, 3, 1, 8], dtype=int32)"
      ]
     },
     "execution_count": 55,
     "metadata": {},
     "output_type": "execute_result"
    }
   ],
   "source": [
    "kmeans.labels_"
   ]
  },
  {
   "cell_type": "code",
   "execution_count": 56,
   "metadata": {},
   "outputs": [
    {
     "data": {
      "text/plain": [
       "array([[0.45984541, 0.22863506, 0.12126711, 0.19025242],\n",
       "       [0.11296707, 0.70156993, 0.03512161, 0.15034139],\n",
       "       [0.09094602, 0.43061521, 0.03473474, 0.44370403],\n",
       "       [0.23206543, 0.55369916, 0.07686738, 0.13736803],\n",
       "       [0.28427683, 0.38898671, 0.11395428, 0.21278218],\n",
       "       [0.33973202, 0.20035289, 0.08258713, 0.37732796],\n",
       "       [0.22307123, 0.34208115, 0.05096936, 0.38387825],\n",
       "       [0.15357791, 0.26942332, 0.04226175, 0.53473702],\n",
       "       [0.15470617, 0.52632852, 0.04985294, 0.26911236],\n",
       "       [0.9       , 0.        , 0.1       , 0.        ]])"
      ]
     },
     "execution_count": 56,
     "metadata": {},
     "output_type": "execute_result"
    }
   ],
   "source": [
    "kmeans.cluster_centers_"
   ]
  },
  {
   "cell_type": "code",
   "execution_count": 57,
   "metadata": {},
   "outputs": [
    {
     "data": {
      "text/plain": [
       "(10, 4)"
      ]
     },
     "execution_count": 57,
     "metadata": {},
     "output_type": "execute_result"
    }
   ],
   "source": [
    "(kmeans.cluster_centers_).shape"
   ]
  },
  {
   "cell_type": "markdown",
   "metadata": {},
   "source": [
    "### 2-d clustering"
   ]
  },
  {
   "cell_type": "code",
   "execution_count": 81,
   "metadata": {},
   "outputs": [],
   "source": [
    "X = word2_df.values"
   ]
  },
  {
   "cell_type": "code",
   "execution_count": 85,
   "metadata": {},
   "outputs": [],
   "source": [
    "n = 5\n",
    "\n",
    "kmeans = KMeans(n_clusters = n).fit(X)"
   ]
  },
  {
   "cell_type": "code",
   "execution_count": 86,
   "metadata": {},
   "outputs": [
    {
     "data": {
      "text/plain": [
       "array([3, 4, 4, 3, 1, 1, 1, 2, 1, 1, 1, 3, 4, 4, 0, 4, 4, 0, 0, 4, 4, 1,\n",
       "       1, 4, 4, 1, 0, 4, 0, 1, 4, 1, 1, 1, 0, 4, 1, 3, 4, 4, 1, 1, 1, 4,\n",
       "       1, 0, 4, 3, 1, 1, 4, 1, 4, 4, 0, 1, 4, 1, 1, 0, 3, 3, 3, 1, 1, 3,\n",
       "       1, 3, 1, 1, 1, 4, 1, 1, 1, 4, 0, 1, 1, 1, 4, 1, 1, 3, 3, 4, 1, 1,\n",
       "       3, 1, 3, 3, 0, 1, 3, 1, 4, 4, 1, 1, 4, 3, 4, 4, 3, 3, 3, 1, 3, 4,\n",
       "       3, 4, 1, 1, 3, 4, 0, 1, 4, 1, 1, 4, 1, 4, 1, 1, 4, 1, 0, 4, 4, 1,\n",
       "       0, 4, 4, 0, 1, 4, 4, 4, 2, 4, 1, 2, 4, 0, 4, 4, 4, 1, 2, 1, 1, 1,\n",
       "       1, 3, 4, 3, 3, 3, 4, 2, 4, 2, 0, 2, 0, 4, 4, 2, 1, 1, 1, 2, 2, 2,\n",
       "       0, 0, 0, 0, 0, 0, 0, 4, 0, 4, 0, 0, 0, 0, 0, 0, 0, 0, 0, 0, 2, 4,\n",
       "       4, 0, 2, 4, 2, 1, 2, 4, 2, 2, 0, 0, 0, 4, 0, 2, 2, 0, 2, 2, 3, 2,\n",
       "       0, 2, 2, 2, 2, 2, 0, 2, 0, 0, 2, 2, 2, 0, 2, 2, 2, 2, 2, 4, 2, 0,\n",
       "       2, 2, 2, 2, 2, 0, 2, 2, 2, 2, 2, 2, 2, 4, 2, 2, 0, 2, 0, 2, 0, 2,\n",
       "       2, 2, 2, 2, 2, 0, 0, 2, 0, 2, 2, 2, 2, 2, 2, 2, 2, 0, 0, 2, 2, 2,\n",
       "       0, 2, 0, 2, 0, 2, 2, 2, 2, 2, 0, 0, 0, 2, 2, 2, 2, 0, 0, 4, 2, 2,\n",
       "       2, 0, 0, 4, 0, 0, 2, 2, 0, 2, 0, 2, 0, 2, 2, 2, 2, 0, 0, 0, 0, 2,\n",
       "       0, 2, 0, 0, 0, 4, 2, 0, 2, 0, 2, 0, 0, 4, 0, 2, 0, 2, 0, 0, 0, 0,\n",
       "       2, 2, 0], dtype=int32)"
      ]
     },
     "execution_count": 86,
     "metadata": {},
     "output_type": "execute_result"
    }
   ],
   "source": [
    "kmeans.labels_"
   ]
  },
  {
   "cell_type": "code",
   "execution_count": 91,
   "metadata": {},
   "outputs": [],
   "source": [
    "centers = kmeans.cluster_centers_"
   ]
  },
  {
   "cell_type": "code",
   "execution_count": 92,
   "metadata": {},
   "outputs": [
    {
     "data": {
      "text/plain": [
       "<matplotlib.collections.PathCollection at 0x7f204bfb33c8>"
      ]
     },
     "execution_count": 92,
     "metadata": {},
     "output_type": "execute_result"
    },
    {
     "data": {
      "image/png": "[encoded data removed]",
      "text/plain": [
       "<Figure size 432x288 with 1 Axes>"
      ]
     },
     "metadata": {},
     "output_type": "display_data"
    }
   ],
   "source": [
    "plt.scatter(centers[:, 0], centers[:, 1])"
   ]
  },
  {
   "cell_type": "code",
   "execution_count": null,
   "metadata": {},
   "outputs": [],
   "source": []
  }
 ],
 "metadata": {
  "kernelspec": {
   "display_name": "Python 3",
   "language": "python",
   "name": "python3"
  },
  "language_info": {
   "codemirror_mode": {
    "name": "ipython",
    "version": 3
   },
   "file_extension": ".py",
   "mimetype": "text/x-python",
   "name": "python",
   "nbconvert_exporter": "python",
   "pygments_lexer": "ipython3",
   "version": "3.6.4"
  }
 },
 "nbformat": 4,
 "nbformat_minor": 2
}
