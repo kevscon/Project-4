{
 "cells": [
  {
   "cell_type": "code",
   "execution_count": 57,
   "metadata": {},
   "outputs": [],
   "source": [
    "import pandas as pd\n",
    "import numpy as np\n",
    "import matplotlib.pyplot as plt"
   ]
  },
  {
   "cell_type": "markdown",
   "metadata": {},
   "source": [
    "## Load speech file"
   ]
  },
  {
   "cell_type": "code",
   "execution_count": 63,
   "metadata": {},
   "outputs": [],
   "source": [
    "# load data from pickle file\n",
    "import pickle\n",
    "\n",
    "pickle_in = open(\"speeches.pickle\", \"rb\")\n",
    "speech_df = pickle.load(pickle_in)"
   ]
  },
  {
   "cell_type": "code",
   "execution_count": 64,
   "metadata": {},
   "outputs": [
    {
     "data": {
      "text/html": [
       "<div>\n",
       "<style scoped>\n",
       "    .dataframe tbody tr th:only-of-type {\n",
       "        vertical-align: middle;\n",
       "    }\n",
       "\n",
       "    .dataframe tbody tr th {\n",
       "        vertical-align: top;\n",
       "    }\n",
       "\n",
       "    .dataframe thead th {\n",
       "        text-align: right;\n",
       "    }\n",
       "</style>\n",
       "<table border=\"1\" class=\"dataframe\">\n",
       "  <thead>\n",
       "    <tr style=\"text-align: right;\">\n",
       "      <th></th>\n",
       "      <th>type</th>\n",
       "      <th>speaker</th>\n",
       "      <th>date</th>\n",
       "      <th>speech</th>\n",
       "    </tr>\n",
       "  </thead>\n",
       "  <tbody>\n",
       "    <tr>\n",
       "      <th>0</th>\n",
       "      <td>convention</td>\n",
       "      <td>Hillary Clinton</td>\n",
       "      <td>2016</td>\n",
       "      <td>Thank you all for the great convention that we...</td>\n",
       "    </tr>\n",
       "    <tr>\n",
       "      <th>1</th>\n",
       "      <td>convention</td>\n",
       "      <td>Robert Dole</td>\n",
       "      <td>1996</td>\n",
       "      <td>The folks in Hollywood would be happy to know ...</td>\n",
       "    </tr>\n",
       "    <tr>\n",
       "      <th>2</th>\n",
       "      <td>convention</td>\n",
       "      <td>George W. Bush</td>\n",
       "      <td>2000</td>\n",
       "      <td>Thank you. Thank you for this honor. [,],Thank...</td>\n",
       "    </tr>\n",
       "    <tr>\n",
       "      <th>3</th>\n",
       "      <td>convention</td>\n",
       "      <td>George W. Bush</td>\n",
       "      <td>2004</td>\n",
       "      <td>When I said those words 4 years ago, none of u...</td>\n",
       "    </tr>\n",
       "    <tr>\n",
       "      <th>4</th>\n",
       "      <td>convention</td>\n",
       "      <td>John McCain</td>\n",
       "      <td>2008</td>\n",
       "      <td>Tonight, I have a privilege given few American...</td>\n",
       "    </tr>\n",
       "  </tbody>\n",
       "</table>\n",
       "</div>"
      ],
      "text/plain": [
       "         type          speaker  date  \\\n",
       "0  convention  Hillary Clinton  2016   \n",
       "1  convention      Robert Dole  1996   \n",
       "2  convention   George W. Bush  2000   \n",
       "3  convention   George W. Bush  2004   \n",
       "4  convention      John McCain  2008   \n",
       "\n",
       "                                              speech  \n",
       "0  Thank you all for the great convention that we...  \n",
       "1  The folks in Hollywood would be happy to know ...  \n",
       "2  Thank you. Thank you for this honor. [,],Thank...  \n",
       "3  When I said those words 4 years ago, none of u...  \n",
       "4  Tonight, I have a privilege given few American...  "
      ]
     },
     "execution_count": 64,
     "metadata": {},
     "output_type": "execute_result"
    }
   ],
   "source": [
    "speech_df.head()"
   ]
  },
  {
   "cell_type": "code",
   "execution_count": 65,
   "metadata": {},
   "outputs": [],
   "source": [
    "speech_text = speech_df['speech']"
   ]
  },
  {
   "cell_type": "code",
   "execution_count": 201,
   "metadata": {},
   "outputs": [],
   "source": [
    "speech_df['tag'] = speech_df['date'].apply(str) + ' ' + speech_df['type']"
   ]
  },
  {
   "cell_type": "code",
   "execution_count": 202,
   "metadata": {},
   "outputs": [
    {
     "data": {
      "text/html": [
       "<div>\n",
       "<style scoped>\n",
       "    .dataframe tbody tr th:only-of-type {\n",
       "        vertical-align: middle;\n",
       "    }\n",
       "\n",
       "    .dataframe tbody tr th {\n",
       "        vertical-align: top;\n",
       "    }\n",
       "\n",
       "    .dataframe thead th {\n",
       "        text-align: right;\n",
       "    }\n",
       "</style>\n",
       "<table border=\"1\" class=\"dataframe\">\n",
       "  <thead>\n",
       "    <tr style=\"text-align: right;\">\n",
       "      <th></th>\n",
       "      <th>type</th>\n",
       "      <th>speaker</th>\n",
       "      <th>date</th>\n",
       "      <th>speech</th>\n",
       "      <th>tag</th>\n",
       "    </tr>\n",
       "  </thead>\n",
       "  <tbody>\n",
       "    <tr>\n",
       "      <th>0</th>\n",
       "      <td>convention</td>\n",
       "      <td>Hillary Clinton</td>\n",
       "      <td>2016</td>\n",
       "      <td>Thank you all for the great convention that we...</td>\n",
       "      <td>2016 convention</td>\n",
       "    </tr>\n",
       "    <tr>\n",
       "      <th>1</th>\n",
       "      <td>convention</td>\n",
       "      <td>Robert Dole</td>\n",
       "      <td>1996</td>\n",
       "      <td>The folks in Hollywood would be happy to know ...</td>\n",
       "      <td>1996 convention</td>\n",
       "    </tr>\n",
       "    <tr>\n",
       "      <th>2</th>\n",
       "      <td>convention</td>\n",
       "      <td>George W. Bush</td>\n",
       "      <td>2000</td>\n",
       "      <td>Thank you. Thank you for this honor. [,],Thank...</td>\n",
       "      <td>2000 convention</td>\n",
       "    </tr>\n",
       "    <tr>\n",
       "      <th>3</th>\n",
       "      <td>convention</td>\n",
       "      <td>George W. Bush</td>\n",
       "      <td>2004</td>\n",
       "      <td>When I said those words 4 years ago, none of u...</td>\n",
       "      <td>2004 convention</td>\n",
       "    </tr>\n",
       "    <tr>\n",
       "      <th>4</th>\n",
       "      <td>convention</td>\n",
       "      <td>John McCain</td>\n",
       "      <td>2008</td>\n",
       "      <td>Tonight, I have a privilege given few American...</td>\n",
       "      <td>2008 convention</td>\n",
       "    </tr>\n",
       "  </tbody>\n",
       "</table>\n",
       "</div>"
      ],
      "text/plain": [
       "         type          speaker  date  \\\n",
       "0  convention  Hillary Clinton  2016   \n",
       "1  convention      Robert Dole  1996   \n",
       "2  convention   George W. Bush  2000   \n",
       "3  convention   George W. Bush  2004   \n",
       "4  convention      John McCain  2008   \n",
       "\n",
       "                                              speech              tag  \n",
       "0  Thank you all for the great convention that we...  2016 convention  \n",
       "1  The folks in Hollywood would be happy to know ...  1996 convention  \n",
       "2  Thank you. Thank you for this honor. [,],Thank...  2000 convention  \n",
       "3  When I said those words 4 years ago, none of u...  2004 convention  \n",
       "4  Tonight, I have a privilege given few American...  2008 convention  "
      ]
     },
     "execution_count": 202,
     "metadata": {},
     "output_type": "execute_result"
    }
   ],
   "source": [
    "speech_df.head()"
   ]
  },
  {
   "cell_type": "markdown",
   "metadata": {},
   "source": [
    "## Sentiment Analysis"
   ]
  },
  {
   "cell_type": "code",
   "execution_count": 21,
   "metadata": {},
   "outputs": [],
   "source": [
    "from textblob import TextBlob"
   ]
  },
  {
   "cell_type": "code",
   "execution_count": 36,
   "metadata": {},
   "outputs": [
    {
     "data": {
      "text/plain": [
       "0    Thank you all for the great convention that we...\n",
       "1    The folks in Hollywood would be happy to know ...\n",
       "2    Thank you. Thank you for this honor. [,],Thank...\n",
       "Name: speech, dtype: object"
      ]
     },
     "execution_count": 36,
     "metadata": {},
     "output_type": "execute_result"
    }
   ],
   "source": [
    "speech_text[0:3]"
   ]
  },
  {
   "cell_type": "code",
   "execution_count": 54,
   "metadata": {},
   "outputs": [],
   "source": [
    "polarity_list = []\n",
    "subjectivity_list = []\n",
    "\n",
    "for speech in speech_text:\n",
    "    polarity_list.append(TextBlob(speech).sentiment[:][0])\n",
    "    subjectivity_list.append(TextBlob(speech).sentiment[:][1])"
   ]
  },
  {
   "cell_type": "code",
   "execution_count": 67,
   "metadata": {},
   "outputs": [
    {
     "data": {
      "image/png": "[encoded data removed]",
      "text/plain": [
       "<matplotlib.figure.Figure at 0x1a12a31438>"
      ]
     },
     "metadata": {},
     "output_type": "display_data"
    }
   ],
   "source": [
    "fig, ax = plt.subplots()\n",
    "ax.scatter(speech_df['date'], polarity_list);"
   ]
  },
  {
   "cell_type": "code",
   "execution_count": 68,
   "metadata": {
    "scrolled": true
   },
   "outputs": [
    {
     "data": {
      "image/png": "[encoded data removed]",
      "text/plain": [
       "<matplotlib.figure.Figure at 0x1a1028ab00>"
      ]
     },
     "metadata": {},
     "output_type": "display_data"
    }
   ],
   "source": [
    "fig, ax = plt.subplots()\n",
    "ax.scatter(speech_df['date'], subjectivity_list);"
   ]
  },
  {
   "cell_type": "code",
   "execution_count": 69,
   "metadata": {},
   "outputs": [
    {
     "data": {
      "image/png": "[encoded data removed]",
      "text/plain": [
       "<matplotlib.figure.Figure at 0x1a0e092128>"
      ]
     },
     "metadata": {},
     "output_type": "display_data"
    }
   ],
   "source": [
    "fig, ax = plt.subplots()\n",
    "ax.scatter(speech_df['type'], polarity_list);"
   ]
  },
  {
   "cell_type": "code",
   "execution_count": 70,
   "metadata": {},
   "outputs": [
    {
     "data": {
      "image/png": "[encoded data removed]",
      "text/plain": [
       "<matplotlib.figure.Figure at 0x1a0f0e65f8>"
      ]
     },
     "metadata": {},
     "output_type": "display_data"
    }
   ],
   "source": [
    "fig, ax = plt.subplots()\n",
    "ax.scatter(speech_df['type'], subjectivity_list);"
   ]
  },
  {
   "cell_type": "markdown",
   "metadata": {},
   "source": [
    "## Keyword searching\n"
   ]
  },
  {
   "cell_type": "code",
   "execution_count": 112,
   "metadata": {},
   "outputs": [],
   "source": [
    "import nltk\n",
    "from nltk.tokenize import wordpunct_tokenize"
   ]
  },
  {
   "cell_type": "markdown",
   "metadata": {},
   "source": [
    "Pattern of self vs collective references"
   ]
  },
  {
   "cell_type": "code",
   "execution_count": 90,
   "metadata": {},
   "outputs": [],
   "source": [
    "# define pronouns to search for\n",
    "\n",
    "i_words = ['i', 'me', 'my', 'mine', 'myself']\n",
    "we_words = ['we', 'us', 'our', 'ours', 'ourselves']\n",
    "u_words = ['you', 'your', 'yours', 'yourself', 'yourselves']\n",
    "third_words = ['he', 'him', 'his', 'himself', \n",
    "               'she', 'her', 'hers', 'herself', \n",
    "               'they', 'them', 'their', 'theirs', 'themselves']"
   ]
  },
  {
   "cell_type": "code",
   "execution_count": 196,
   "metadata": {},
   "outputs": [],
   "source": [
    "# tfidf leave pronouns in \n",
    "\n",
    "remove = ['.', ',', '(', ')', \"'\", '\"', '?', '!', '.,', '...', 'applause', 'laughter']\n",
    "\n",
    "i_per = []\n",
    "we_per = []\n",
    "u_per = []\n",
    "third_per = []\n",
    "\n",
    "for speech in speech_text:\n",
    "\n",
    "    words = wordpunct_tokenize(speech)\n",
    "    words = [w.lower() for w in words if w not in remove]\n",
    "    \n",
    "    freqs = Counter()\n",
    "    \n",
    "    for word in words:\n",
    "        if word in i_words:\n",
    "            freqs['i_words'] += 1\n",
    "        elif word in we_words:\n",
    "            freqs['we_words'] += 1\n",
    "        elif word in u_words:\n",
    "            freqs['u_words'] += 1\n",
    "        elif word in third_words:\n",
    "            freqs['third_words'] += 1\n",
    "        else:\n",
    "            pass\n",
    "\n",
    "    i_per.append(freqs['i_words'] / len(words) * 100)\n",
    "    we_per.append(freqs['we_words'] / len(words) * 100)\n",
    "    u_per.append(freqs['u_words'] / len(words) * 100)\n",
    "    third_per.append(freqs['third_words'] / len(words) * 100)\n",
    "\n",
    "# print(i_per)\n",
    "# print(we_per)\n",
    "# print(u_per)\n",
    "# print(third_per)\n",
    "    "
   ]
  },
  {
   "cell_type": "code",
   "execution_count": 208,
   "metadata": {},
   "outputs": [],
   "source": [
    "df_words = pd.DataFrame({'speech': speech_df['tag'], 'i_words': i_per, 'we_words': we_per, 'u_words': u_per, 'third_words': third_per})"
   ]
  },
  {
   "cell_type": "code",
   "execution_count": 210,
   "metadata": {},
   "outputs": [
    {
     "data": {
      "text/html": [
       "<div>\n",
       "<style scoped>\n",
       "    .dataframe tbody tr th:only-of-type {\n",
       "        vertical-align: middle;\n",
       "    }\n",
       "\n",
       "    .dataframe tbody tr th {\n",
       "        vertical-align: top;\n",
       "    }\n",
       "\n",
       "    .dataframe thead th {\n",
       "        text-align: right;\n",
       "    }\n",
       "</style>\n",
       "<table border=\"1\" class=\"dataframe\">\n",
       "  <thead>\n",
       "    <tr style=\"text-align: right;\">\n",
       "      <th></th>\n",
       "      <th>i_words</th>\n",
       "      <th>speech</th>\n",
       "      <th>third_words</th>\n",
       "      <th>u_words</th>\n",
       "      <th>we_words</th>\n",
       "    </tr>\n",
       "  </thead>\n",
       "  <tbody>\n",
       "    <tr>\n",
       "      <th>82</th>\n",
       "      <td>6.759907</td>\n",
       "      <td>1974 inauguration</td>\n",
       "      <td>0.932401</td>\n",
       "      <td>1.981352</td>\n",
       "      <td>1.981352</td>\n",
       "    </tr>\n",
       "    <tr>\n",
       "      <th>63</th>\n",
       "      <td>6.569343</td>\n",
       "      <td>1793 inauguration</td>\n",
       "      <td>0.000000</td>\n",
       "      <td>0.729927</td>\n",
       "      <td>0.000000</td>\n",
       "    </tr>\n",
       "    <tr>\n",
       "      <th>4</th>\n",
       "      <td>5.506750</td>\n",
       "      <td>2008 convention</td>\n",
       "      <td>2.528391</td>\n",
       "      <td>1.457039</td>\n",
       "      <td>3.342618</td>\n",
       "    </tr>\n",
       "    <tr>\n",
       "      <th>122</th>\n",
       "      <td>4.547945</td>\n",
       "      <td>1974 farewell</td>\n",
       "      <td>0.821918</td>\n",
       "      <td>0.547945</td>\n",
       "      <td>2.191781</td>\n",
       "    </tr>\n",
       "    <tr>\n",
       "      <th>14</th>\n",
       "      <td>4.307869</td>\n",
       "      <td>1952 convention</td>\n",
       "      <td>1.033889</td>\n",
       "      <td>2.010339</td>\n",
       "      <td>2.354968</td>\n",
       "    </tr>\n",
       "  </tbody>\n",
       "</table>\n",
       "</div>"
      ],
      "text/plain": [
       "      i_words             speech  third_words   u_words  we_words\n",
       "82   6.759907  1974 inauguration     0.932401  1.981352  1.981352\n",
       "63   6.569343  1793 inauguration     0.000000  0.729927  0.000000\n",
       "4    5.506750    2008 convention     2.528391  1.457039  3.342618\n",
       "122  4.547945      1974 farewell     0.821918  0.547945  2.191781\n",
       "14   4.307869    1952 convention     1.033889  2.010339  2.354968"
      ]
     },
     "execution_count": 210,
     "metadata": {},
     "output_type": "execute_result"
    }
   ],
   "source": [
    "df_words.sort_values(by='i_words', ascending=False).head()"
   ]
  },
  {
   "cell_type": "code",
   "execution_count": 211,
   "metadata": {},
   "outputs": [
    {
     "data": {
      "text/html": [
       "<div>\n",
       "<style scoped>\n",
       "    .dataframe tbody tr th:only-of-type {\n",
       "        vertical-align: middle;\n",
       "    }\n",
       "\n",
       "    .dataframe tbody tr th {\n",
       "        vertical-align: top;\n",
       "    }\n",
       "\n",
       "    .dataframe thead th {\n",
       "        text-align: right;\n",
       "    }\n",
       "</style>\n",
       "<table border=\"1\" class=\"dataframe\">\n",
       "  <thead>\n",
       "    <tr style=\"text-align: right;\">\n",
       "      <th></th>\n",
       "      <th>i_words</th>\n",
       "      <th>speech</th>\n",
       "      <th>third_words</th>\n",
       "      <th>u_words</th>\n",
       "      <th>we_words</th>\n",
       "    </tr>\n",
       "  </thead>\n",
       "  <tbody>\n",
       "    <tr>\n",
       "      <th>72</th>\n",
       "      <td>0.298656</td>\n",
       "      <td>2013 inauguration</td>\n",
       "      <td>0.846192</td>\n",
       "      <td>0.199104</td>\n",
       "      <td>7.914385</td>\n",
       "    </tr>\n",
       "    <tr>\n",
       "      <th>77</th>\n",
       "      <td>0.962155</td>\n",
       "      <td>1993 inauguration</td>\n",
       "      <td>0.769724</td>\n",
       "      <td>0.705581</td>\n",
       "      <td>7.633098</td>\n",
       "    </tr>\n",
       "    <tr>\n",
       "      <th>81</th>\n",
       "      <td>1.420217</td>\n",
       "      <td>1977 inauguration</td>\n",
       "      <td>0.417711</td>\n",
       "      <td>0.584795</td>\n",
       "      <td>7.351713</td>\n",
       "    </tr>\n",
       "    <tr>\n",
       "      <th>94</th>\n",
       "      <td>0.099602</td>\n",
       "      <td>1905 inauguration</td>\n",
       "      <td>0.796813</td>\n",
       "      <td>0.000000</td>\n",
       "      <td>7.270916</td>\n",
       "    </tr>\n",
       "    <tr>\n",
       "      <th>90</th>\n",
       "      <td>1.374570</td>\n",
       "      <td>1945 inauguration</td>\n",
       "      <td>1.030928</td>\n",
       "      <td>0.171821</td>\n",
       "      <td>7.216495</td>\n",
       "    </tr>\n",
       "  </tbody>\n",
       "</table>\n",
       "</div>"
      ],
      "text/plain": [
       "     i_words             speech  third_words   u_words  we_words\n",
       "72  0.298656  2013 inauguration     0.846192  0.199104  7.914385\n",
       "77  0.962155  1993 inauguration     0.769724  0.705581  7.633098\n",
       "81  1.420217  1977 inauguration     0.417711  0.584795  7.351713\n",
       "94  0.099602  1905 inauguration     0.796813  0.000000  7.270916\n",
       "90  1.374570  1945 inauguration     1.030928  0.171821  7.216495"
      ]
     },
     "execution_count": 211,
     "metadata": {},
     "output_type": "execute_result"
    }
   ],
   "source": [
    "df_words.sort_values(by='we_words', ascending=False).head()"
   ]
  },
  {
   "cell_type": "code",
   "execution_count": 212,
   "metadata": {},
   "outputs": [
    {
     "data": {
      "text/html": [
       "<div>\n",
       "<style scoped>\n",
       "    .dataframe tbody tr th:only-of-type {\n",
       "        vertical-align: middle;\n",
       "    }\n",
       "\n",
       "    .dataframe tbody tr th {\n",
       "        vertical-align: top;\n",
       "    }\n",
       "\n",
       "    .dataframe thead th {\n",
       "        text-align: right;\n",
       "    }\n",
       "</style>\n",
       "<table border=\"1\" class=\"dataframe\">\n",
       "  <thead>\n",
       "    <tr style=\"text-align: right;\">\n",
       "      <th></th>\n",
       "      <th>i_words</th>\n",
       "      <th>speech</th>\n",
       "      <th>third_words</th>\n",
       "      <th>u_words</th>\n",
       "      <th>we_words</th>\n",
       "    </tr>\n",
       "  </thead>\n",
       "  <tbody>\n",
       "    <tr>\n",
       "      <th>16</th>\n",
       "      <td>2.790698</td>\n",
       "      <td>1864 convention</td>\n",
       "      <td>1.395349</td>\n",
       "      <td>2.325581</td>\n",
       "      <td>0.000000</td>\n",
       "    </tr>\n",
       "    <tr>\n",
       "      <th>125</th>\n",
       "      <td>1.742301</td>\n",
       "      <td>2017 farewell</td>\n",
       "      <td>0.850891</td>\n",
       "      <td>2.025932</td>\n",
       "      <td>4.801459</td>\n",
       "    </tr>\n",
       "    <tr>\n",
       "      <th>14</th>\n",
       "      <td>4.307869</td>\n",
       "      <td>1952 convention</td>\n",
       "      <td>1.033889</td>\n",
       "      <td>2.010339</td>\n",
       "      <td>2.354968</td>\n",
       "    </tr>\n",
       "    <tr>\n",
       "      <th>82</th>\n",
       "      <td>6.759907</td>\n",
       "      <td>1974 inauguration</td>\n",
       "      <td>0.932401</td>\n",
       "      <td>1.981352</td>\n",
       "      <td>1.981352</td>\n",
       "    </tr>\n",
       "    <tr>\n",
       "      <th>54</th>\n",
       "      <td>2.336350</td>\n",
       "      <td>2012 convention</td>\n",
       "      <td>1.894338</td>\n",
       "      <td>1.936434</td>\n",
       "      <td>3.788676</td>\n",
       "    </tr>\n",
       "  </tbody>\n",
       "</table>\n",
       "</div>"
      ],
      "text/plain": [
       "      i_words             speech  third_words   u_words  we_words\n",
       "16   2.790698    1864 convention     1.395349  2.325581  0.000000\n",
       "125  1.742301      2017 farewell     0.850891  2.025932  4.801459\n",
       "14   4.307869    1952 convention     1.033889  2.010339  2.354968\n",
       "82   6.759907  1974 inauguration     0.932401  1.981352  1.981352\n",
       "54   2.336350    2012 convention     1.894338  1.936434  3.788676"
      ]
     },
     "execution_count": 212,
     "metadata": {},
     "output_type": "execute_result"
    }
   ],
   "source": [
    "df_words.sort_values(by='u_words', ascending=False).head()"
   ]
  },
  {
   "cell_type": "code",
   "execution_count": 213,
   "metadata": {},
   "outputs": [
    {
     "data": {
      "text/html": [
       "<div>\n",
       "<style scoped>\n",
       "    .dataframe tbody tr th:only-of-type {\n",
       "        vertical-align: middle;\n",
       "    }\n",
       "\n",
       "    .dataframe tbody tr th {\n",
       "        vertical-align: top;\n",
       "    }\n",
       "\n",
       "    .dataframe thead th {\n",
       "        text-align: right;\n",
       "    }\n",
       "</style>\n",
       "<table border=\"1\" class=\"dataframe\">\n",
       "  <thead>\n",
       "    <tr style=\"text-align: right;\">\n",
       "      <th></th>\n",
       "      <th>i_words</th>\n",
       "      <th>speech</th>\n",
       "      <th>third_words</th>\n",
       "      <th>u_words</th>\n",
       "      <th>we_words</th>\n",
       "    </tr>\n",
       "  </thead>\n",
       "  <tbody>\n",
       "    <tr>\n",
       "      <th>60</th>\n",
       "      <td>1.678766</td>\n",
       "      <td>1805 inauguration</td>\n",
       "      <td>3.856624</td>\n",
       "      <td>0.362976</td>\n",
       "      <td>2.087114</td>\n",
       "    </tr>\n",
       "    <tr>\n",
       "      <th>13</th>\n",
       "      <td>2.500919</td>\n",
       "      <td>1948 convention</td>\n",
       "      <td>3.273262</td>\n",
       "      <td>0.478117</td>\n",
       "      <td>0.919456</td>\n",
       "    </tr>\n",
       "    <tr>\n",
       "      <th>143</th>\n",
       "      <td>0.808727</td>\n",
       "      <td>2018 state_union</td>\n",
       "      <td>2.557833</td>\n",
       "      <td>0.545420</td>\n",
       "      <td>4.589054</td>\n",
       "    </tr>\n",
       "    <tr>\n",
       "      <th>4</th>\n",
       "      <td>5.506750</td>\n",
       "      <td>2008 convention</td>\n",
       "      <td>2.528391</td>\n",
       "      <td>1.457039</td>\n",
       "      <td>3.342618</td>\n",
       "    </tr>\n",
       "    <tr>\n",
       "      <th>0</th>\n",
       "      <td>2.415202</td>\n",
       "      <td>2016 convention</td>\n",
       "      <td>2.503996</td>\n",
       "      <td>1.900195</td>\n",
       "      <td>4.120050</td>\n",
       "    </tr>\n",
       "  </tbody>\n",
       "</table>\n",
       "</div>"
      ],
      "text/plain": [
       "      i_words             speech  third_words   u_words  we_words\n",
       "60   1.678766  1805 inauguration     3.856624  0.362976  2.087114\n",
       "13   2.500919    1948 convention     3.273262  0.478117  0.919456\n",
       "143  0.808727   2018 state_union     2.557833  0.545420  4.589054\n",
       "4    5.506750    2008 convention     2.528391  1.457039  3.342618\n",
       "0    2.415202    2016 convention     2.503996  1.900195  4.120050"
      ]
     },
     "execution_count": 213,
     "metadata": {},
     "output_type": "execute_result"
    }
   ],
   "source": [
    "df_words.sort_values(by='third_words', ascending=False).head()"
   ]
  },
  {
   "cell_type": "code",
   "execution_count": null,
   "metadata": {},
   "outputs": [],
   "source": []
  },
  {
   "cell_type": "code",
   "execution_count": null,
   "metadata": {},
   "outputs": [],
   "source": []
  },
  {
   "cell_type": "code",
   "execution_count": null,
   "metadata": {},
   "outputs": [],
   "source": []
  },
  {
   "cell_type": "code",
   "execution_count": null,
   "metadata": {},
   "outputs": [],
   "source": []
  },
  {
   "cell_type": "code",
   "execution_count": null,
   "metadata": {},
   "outputs": [],
   "source": []
  },
  {
   "cell_type": "markdown",
   "metadata": {},
   "source": [
    "## Pre-processing"
   ]
  },
  {
   "cell_type": "code",
   "execution_count": 6,
   "metadata": {},
   "outputs": [
    {
     "name": "stdout",
     "output_type": "stream",
     "text": [
      "citizens united states 183\n",
      "      ending june 30 177\n",
      "government united states 175\n",
      "    year ending june 168\n",
      "people united states 161\n",
      "    last fiscal year 145\n",
      "  fiscal year ending 144\n",
      "last session congress 141\n",
      " last annual message 138\n",
      "president united states 132\n",
      "united states america 116\n",
      " united states great 104\n",
      "  part united states 100\n",
      "states great britain 89\n",
      "congress last session 82\n",
      "    next fiscal year 76\n",
      "report secretary war 76\n",
      " present fiscal year 75\n",
      "report secretary treasury 69\n",
      "    year ending 30th 68\n",
      " current fiscal year 67\n",
      "united states government 66\n",
      "report secretary navy 66\n",
      "       ended june 30 65\n",
      "     year ended june 64\n",
      "constitution united states 62\n",
      "    fiscal year 1947 62\n",
      "interstate commerce commission 60\n",
      "        world war ii 59\n",
      "  bank united states 59\n"
     ]
    }
   ],
   "source": [
    "from textblob import TextBlob\n",
    "from nltk.util import ngrams\n",
    "\n",
    "from collections import Counter\n",
    "from operator import itemgetter\n",
    "\n",
    "counter = Counter()\n",
    "\n",
    "from nltk.corpus import stopwords\n",
    "stop = stopwords.words('english')\n",
    "stop += ['.', ',', '(', ')', \"'\", '\"']\n",
    "stop = set(stop)\n",
    "\n",
    "n = 3\n",
    "for doc in speech_text:\n",
    "    words = TextBlob(doc.lower()).words  # tokenize words\n",
    "    words = [w for w in words if w not in stop]   \n",
    "    bigrams = ngrams(words, n)\n",
    "    counter += Counter(bigrams)\n",
    "\n",
    "for phrase, count in counter.most_common(30):\n",
    "    print('%20s %i' % (\" \".join(phrase), count))"
   ]
  },
  {
   "cell_type": "markdown",
   "metadata": {},
   "source": [
    "## TFIDF"
   ]
  },
  {
   "cell_type": "code",
   "execution_count": 10,
   "metadata": {},
   "outputs": [],
   "source": [
    "from sklearn.feature_extraction.text import TfidfVectorizer\n",
    "\n",
    "tfidf_vectorizer = TfidfVectorizer(max_df=0.9,\n",
    "                                 min_df=0.1, stop_words='english',\n",
    "                                 ngram_range=(1,3))\n",
    "\n",
    "tfidf_matrix = tfidf_vectorizer.fit_transform(speech_text)"
   ]
  },
  {
   "cell_type": "code",
   "execution_count": 12,
   "metadata": {},
   "outputs": [
    {
     "data": {
      "text/plain": [
       "(356, 3749)"
      ]
     },
     "execution_count": 12,
     "metadata": {},
     "output_type": "execute_result"
    }
   ],
   "source": [
    "tfidf_matrix.shape"
   ]
  },
  {
   "cell_type": "code",
   "execution_count": 17,
   "metadata": {
    "scrolled": true
   },
   "outputs": [],
   "source": [
    "terms = tfidf_vectorizer.get_feature_names()"
   ]
  },
  {
   "cell_type": "code",
   "execution_count": 14,
   "metadata": {},
   "outputs": [],
   "source": [
    "from sklearn.metrics.pairwise import cosine_similarity\n",
    "\n",
    "dist = 1 - cosine_similarity(tfidf_matrix)"
   ]
  },
  {
   "cell_type": "markdown",
   "metadata": {},
   "source": [
    "## Clustering"
   ]
  },
  {
   "cell_type": "code",
   "execution_count": 1,
   "metadata": {},
   "outputs": [],
   "source": [
    "from sklearn.cluster import KMeans"
   ]
  },
  {
   "cell_type": "code",
   "execution_count": 6,
   "metadata": {},
   "outputs": [],
   "source": [
    "def get_cluster_centers(X, labels, k_num):\n",
    "    CC_list = []\n",
    "    for k in range(k_num):\n",
    "        # get the mean coordinates of each cluster\n",
    "        CC_list.append(np.mean(X[labels == k], axis = 0))\n",
    "    return CC_list\n",
    "\n",
    "# for each cluster substract the mean from each data point to get the error\n",
    "# then get the magnitude of each error, square it, and sum it\n",
    "def get_SSE(X, labels):\n",
    "    k_num = len(np.unique(labels))\n",
    "    CC_list = get_cluster_centers(X, labels, k_num)\n",
    "    CSEs = []\n",
    "    for k in range(k_num):\n",
    "        # for each cluster of k we get the coordinates of how far off each point is to the cluster\n",
    "        error_cords = X[labels == k] - CC_list[k]\n",
    "        # square the coordinates and sum to get the magnitude squared\n",
    "        error_cords_sq = error_cords ** 2\n",
    "        error_mag_sq = np.sum(error_cords_sq, axis = 1)\n",
    "        # since we already have the magnitude of the error squared we can just take the sum for the cluster\n",
    "        CSE = np.sum(error_mag_sq)\n",
    "        CSEs.append(CSE)\n",
    "    # sum each cluster's sum of squared errors\n",
    "    return sum(CSEs)"
   ]
  },
  {
   "cell_type": "code",
   "execution_count": 8,
   "metadata": {},
   "outputs": [
    {
     "ename": "NameError",
     "evalue": "name 'X_digits' is not defined",
     "output_type": "error",
     "traceback": [
      "\u001b[0;31m---------------------------------------------------------------------------\u001b[0m",
      "\u001b[0;31mNameError\u001b[0m                                 Traceback (most recent call last)",
      "\u001b[0;32m<ipython-input-8-decb48856bc9>\u001b[0m in \u001b[0;36m<module>\u001b[0;34m()\u001b[0m\n\u001b[1;32m      3\u001b[0m \u001b[0;32mfor\u001b[0m \u001b[0mk\u001b[0m \u001b[0;32min\u001b[0m \u001b[0mrange\u001b[0m\u001b[0;34m(\u001b[0m\u001b[0;36m2\u001b[0m\u001b[0;34m,\u001b[0m\u001b[0;36m20\u001b[0m\u001b[0;34m)\u001b[0m\u001b[0;34m:\u001b[0m\u001b[0;34m\u001b[0m\u001b[0m\n\u001b[1;32m      4\u001b[0m     \u001b[0mkm\u001b[0m \u001b[0;34m=\u001b[0m \u001b[0mKMeans\u001b[0m\u001b[0;34m(\u001b[0m\u001b[0mn_clusters\u001b[0m\u001b[0;34m=\u001b[0m\u001b[0mk\u001b[0m\u001b[0;34m,\u001b[0m \u001b[0mrandom_state\u001b[0m\u001b[0;34m=\u001b[0m\u001b[0;36m1\u001b[0m\u001b[0;34m)\u001b[0m\u001b[0;34m\u001b[0m\u001b[0m\n\u001b[0;32m----> 5\u001b[0;31m     \u001b[0mkm\u001b[0m\u001b[0;34m.\u001b[0m\u001b[0mfit\u001b[0m\u001b[0;34m(\u001b[0m\u001b[0mX_digits\u001b[0m\u001b[0;34m)\u001b[0m\u001b[0;34m\u001b[0m\u001b[0m\n\u001b[0m\u001b[1;32m      6\u001b[0m     \u001b[0mlabels\u001b[0m \u001b[0;34m=\u001b[0m \u001b[0mkm\u001b[0m\u001b[0;34m.\u001b[0m\u001b[0mlabels_\u001b[0m\u001b[0;34m\u001b[0m\u001b[0m\n\u001b[1;32m      7\u001b[0m     \u001b[0mSil_coefs\u001b[0m\u001b[0;34m.\u001b[0m\u001b[0mappend\u001b[0m\u001b[0;34m(\u001b[0m\u001b[0mmetrics\u001b[0m\u001b[0;34m.\u001b[0m\u001b[0msilhouette_score\u001b[0m\u001b[0;34m(\u001b[0m\u001b[0mX_digits\u001b[0m\u001b[0;34m,\u001b[0m \u001b[0mlabels\u001b[0m\u001b[0;34m,\u001b[0m \u001b[0mmetric\u001b[0m\u001b[0;34m=\u001b[0m\u001b[0;34m'euclidean'\u001b[0m\u001b[0;34m)\u001b[0m\u001b[0;34m)\u001b[0m\u001b[0;34m\u001b[0m\u001b[0m\n",
      "\u001b[0;31mNameError\u001b[0m: name 'X_digits' is not defined"
     ]
    }
   ],
   "source": [
    "SSEs = []\n",
    "Sil_coefs = []\n",
    "for k in range(2,20):\n",
    "    km = KMeans(n_clusters=k, random_state=1)\n",
    "    km.fit(X_digits)\n",
    "    labels = km.labels_\n",
    "    Sil_coefs.append(metrics.silhouette_score(X_digits, labels, metric='euclidean'))\n",
    "    SSEs.append(get_SSE(X_digits, labels)) # The SSE is just inertia, we\n",
    "                                            # could have just said km.inertia_"
   ]
  },
  {
   "cell_type": "code",
   "execution_count": null,
   "metadata": {},
   "outputs": [],
   "source": [
    "fig, (ax1, ax2) = plt.subplots(1,2, figsize=(15,5), sharex=True)\n",
    "k_clusters = range(2,20)\n",
    "ax1.plot(k_clusters, Sil_coefs)\n",
    "ax1.set_xlabel('number of clusters')\n",
    "ax1.set_ylabel('silhouette coefficient')\n",
    "\n",
    "# plot here on ax2\n",
    "ax2.plot(k_clusters, SSEs)\n",
    "ax2.set_xlabel('number of clusters')\n",
    "ax2.set_ylabel('SSE');"
   ]
  }
 ],
 "metadata": {
  "kernelspec": {
   "display_name": "Python 3",
   "language": "python",
   "name": "python3"
  },
  "language_info": {
   "codemirror_mode": {
    "name": "ipython",
    "version": 3
   },
   "file_extension": ".py",
   "mimetype": "text/x-python",
   "name": "python",
   "nbconvert_exporter": "python",
   "pygments_lexer": "ipython3",
   "version": "3.6.4"
  }
 },
 "nbformat": 4,
 "nbformat_minor": 2
}
