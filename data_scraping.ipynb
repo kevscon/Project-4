{
 "cells": [
  {
   "cell_type": "code",
   "execution_count": 1,
   "metadata": {},
   "outputs": [],
   "source": [
    "import pandas as pd\n",
    "import json\n",
    "from selenium import webdriver\n",
    "import time"
   ]
  },
  {
   "cell_type": "code",
   "execution_count": 2,
   "metadata": {},
   "outputs": [],
   "source": [
    "# chromedriver path\n",
    "chromedriver = '/bin/chromedriver'\n",
    "# initialize driver\n",
    "driver = webdriver.Chrome(chromedriver)"
   ]
  },
  {
   "cell_type": "markdown",
   "metadata": {},
   "source": [
    "### Website"
   ]
  },
  {
   "cell_type": "code",
   "execution_count": 3,
   "metadata": {},
   "outputs": [],
   "source": [
    "test_url = 'https://millercenter.org/the-presidency/presidential-speeches'\n",
    "driver.get(test_url)"
   ]
  },
  {
   "cell_type": "markdown",
   "metadata": {},
   "source": [
    "### Select all Presidents"
   ]
  },
  {
   "cell_type": "code",
   "execution_count": 4,
   "metadata": {},
   "outputs": [
    {
     "data": {
      "text/plain": [
       "<bound method WebElement.click of <selenium.webdriver.remote.webelement.WebElement (session=\"3110dd8c28f889b532d4c00c3b7b4875\", element=\"e5ec28cd-d2d1-4e87-a4b4-3a5a662300b8\")>>"
      ]
     },
     "execution_count": 4,
     "metadata": {},
     "output_type": "execute_result"
    }
   ],
   "source": [
    "# click all president checkboxes\n",
    "x_path = '//input[@class=\"form-checkbox\"]'\n",
    "driver.find_element_by_xpath(x_path).click"
   ]
  },
  {
   "cell_type": "markdown",
   "metadata": {},
   "source": [
    "### Scroll Down to Load Speeches"
   ]
  },
  {
   "cell_type": "code",
   "execution_count": 6,
   "metadata": {},
   "outputs": [],
   "source": [
    "SCROLL_PAUSE_TIME = 3\n",
    "\n",
    "# Get scroll height\n",
    "last_height = driver.execute_script(\"return document.body.scrollHeight\")\n",
    "\n",
    "while True:\n",
    "    # Scroll down to bottom\n",
    "    driver.execute_script(\"window.scrollTo(0, document.body.scrollHeight);\")\n",
    "\n",
    "    # Wait to load page\n",
    "    time.sleep(SCROLL_PAUSE_TIME)\n",
    "\n",
    "    # Calculate new scroll height and compare with last scroll height\n",
    "    new_height = driver.execute_script(\"return document.body.scrollHeight\")\n",
    "    if new_height == last_height:\n",
    "        break\n",
    "    last_height = new_height"
   ]
  },
  {
   "cell_type": "markdown",
   "metadata": {},
   "source": [
    "### Retrieve List of Speech Links"
   ]
  },
  {
   "cell_type": "code",
   "execution_count": 10,
   "metadata": {},
   "outputs": [],
   "source": [
    "# retrieve all speech link elements\n",
    "x_path = '//div[@class=\"views-field views-field-title\"]/span/a'\n",
    "speeches = driver.find_elements_by_xpath(x_path)"
   ]
  },
  {
   "cell_type": "code",
   "execution_count": 14,
   "metadata": {},
   "outputs": [],
   "source": [
    "# create list of speech hyperlinks\n",
    "speech_list = []\n",
    "for speech in speeches:\n",
    "    speech_list.append(speech.get_attribute('href'))"
   ]
  },
  {
   "cell_type": "code",
   "execution_count": 63,
   "metadata": {},
   "outputs": [
    {
     "data": {
      "text/plain": [
       "989"
      ]
     },
     "execution_count": 63,
     "metadata": {},
     "output_type": "execute_result"
    }
   ],
   "source": [
    "len(speech_list)"
   ]
  },
  {
   "cell_type": "code",
   "execution_count": 101,
   "metadata": {},
   "outputs": [],
   "source": [
    "# save link list\n",
    "with open('data/speech_links.json', 'w') as outfile:\n",
    "    json.dump(speech_list, outfile)"
   ]
  },
  {
   "cell_type": "code",
   "execution_count": 3,
   "metadata": {},
   "outputs": [],
   "source": [
    "# load link list\n",
    "with open('data/speech_links.json', 'r') as infile:\n",
    "    speech_list = json.load(infile)"
   ]
  },
  {
   "cell_type": "markdown",
   "metadata": {},
   "source": [
    "### Retrieve Speech Data"
   ]
  },
  {
   "cell_type": "code",
   "execution_count": 4,
   "metadata": {},
   "outputs": [],
   "source": [
    "# create empty dataframe to store scraped data\n",
    "speech_df = pd.DataFrame(columns=['Title', 'Date', 'President', 'Transcript'])"
   ]
  },
  {
   "cell_type": "code",
   "execution_count": 6,
   "metadata": {},
   "outputs": [],
   "source": [
    "# list to log error pages\n",
    "speech_err = []"
   ]
  },
  {
   "cell_type": "code",
   "execution_count": 12,
   "metadata": {},
   "outputs": [],
   "source": [
    "# iterate through each speech\n",
    "for speech in speech_list[477:]:\n",
    "\n",
    "    try:\n",
    "    \n",
    "        # load speech page\n",
    "        driver.get(speech)\n",
    "        # maximize window\n",
    "        driver.maximize_window()\n",
    "\n",
    "        # title\n",
    "        title = driver.find_element_by_xpath('//h2[@class=\"presidential-speeches--title\"]').text\n",
    "        # president\n",
    "        pres = driver.find_element_by_xpath('//p[@class=\"president-name\"]').text\n",
    "        # date\n",
    "        date = driver.find_element_by_xpath('//p[@class=\"episode-date\"]').text\n",
    "        # transcript\n",
    "        try:\n",
    "            # click button if exists\n",
    "            driver.find_element_by_class_name('expandable-text-trigger').click()\n",
    "            # wait to load\n",
    "            time.sleep(1)\n",
    "            # retrieve transcript text\n",
    "            speech_text = driver.find_element_by_xpath('//div[@class=\"transcript-inner\"]').text\n",
    "        except:\n",
    "            # retrieve transcript text\n",
    "            speech_text = driver.find_element_by_xpath('//div[@class=\"view-transcript\"]').text\n",
    "\n",
    "        # add data to dataframe\n",
    "        speech_df = speech_df.append({\n",
    "            'Title': title, \n",
    "            'Date': date, \n",
    "            'President': pres, \n",
    "            'Transcript': speech_text\n",
    "        }, ignore_index=True)\n",
    "    \n",
    "    except:\n",
    "        \n",
    "        # log page for follow-up\n",
    "        speech_err.append(speech)"
   ]
  },
  {
   "cell_type": "code",
   "execution_count": 16,
   "metadata": {},
   "outputs": [
    {
     "data": {
      "text/html": [
       "<div>\n",
       "<style scoped>\n",
       "    .dataframe tbody tr th:only-of-type {\n",
       "        vertical-align: middle;\n",
       "    }\n",
       "\n",
       "    .dataframe tbody tr th {\n",
       "        vertical-align: top;\n",
       "    }\n",
       "\n",
       "    .dataframe thead th {\n",
       "        text-align: right;\n",
       "    }\n",
       "</style>\n",
       "<table border=\"1\" class=\"dataframe\">\n",
       "  <thead>\n",
       "    <tr style=\"text-align: right;\">\n",
       "      <th></th>\n",
       "      <th>Title</th>\n",
       "      <th>Date</th>\n",
       "      <th>President</th>\n",
       "      <th>Transcript</th>\n",
       "    </tr>\n",
       "  </thead>\n",
       "  <tbody>\n",
       "    <tr>\n",
       "      <th>0</th>\n",
       "      <td>February 5, 2019: State of the Union Address</td>\n",
       "      <td>February 05, 2019</td>\n",
       "      <td>Donald Trump</td>\n",
       "      <td>Transcript\\nMadam Speaker, Mr. Vice President,...</td>\n",
       "    </tr>\n",
       "    <tr>\n",
       "      <th>1</th>\n",
       "      <td>January 19, 2019: Remarks about the US Souther...</td>\n",
       "      <td>January 19, 2019</td>\n",
       "      <td>Donald Trump</td>\n",
       "      <td>Transcript\\nTHE PRESIDENT: Just a short time a...</td>\n",
       "    </tr>\n",
       "    <tr>\n",
       "      <th>2</th>\n",
       "      <td>September 25, 2018: Address at the 73rd Sessio...</td>\n",
       "      <td>September 25, 2018</td>\n",
       "      <td>Donald Trump</td>\n",
       "      <td>Transcript\\nTHE PRESIDENT: Madam President, Mr...</td>\n",
       "    </tr>\n",
       "    <tr>\n",
       "      <th>3</th>\n",
       "      <td>July 24, 2018: Speech at the Veterans of Forei...</td>\n",
       "      <td>July 24, 2018</td>\n",
       "      <td>Donald Trump</td>\n",
       "      <td>Transcript\\nTHE PRESIDENT: Thank you, Lee. Tha...</td>\n",
       "    </tr>\n",
       "    <tr>\n",
       "      <th>4</th>\n",
       "      <td>March 19, 2018: Remarks on Combating the Opioi...</td>\n",
       "      <td>March 19, 2018</td>\n",
       "      <td>Donald Trump</td>\n",
       "      <td>Transcript\\nTHE PRESIDENT: Thank you to our Fi...</td>\n",
       "    </tr>\n",
       "  </tbody>\n",
       "</table>\n",
       "</div>"
      ],
      "text/plain": [
       "                                               Title                Date  \\\n",
       "0       February 5, 2019: State of the Union Address   February 05, 2019   \n",
       "1  January 19, 2019: Remarks about the US Souther...    January 19, 2019   \n",
       "2  September 25, 2018: Address at the 73rd Sessio...  September 25, 2018   \n",
       "3  July 24, 2018: Speech at the Veterans of Forei...       July 24, 2018   \n",
       "4  March 19, 2018: Remarks on Combating the Opioi...      March 19, 2018   \n",
       "\n",
       "      President                                         Transcript  \n",
       "0  Donald Trump  Transcript\\nMadam Speaker, Mr. Vice President,...  \n",
       "1  Donald Trump  Transcript\\nTHE PRESIDENT: Just a short time a...  \n",
       "2  Donald Trump  Transcript\\nTHE PRESIDENT: Madam President, Mr...  \n",
       "3  Donald Trump  Transcript\\nTHE PRESIDENT: Thank you, Lee. Tha...  \n",
       "4  Donald Trump  Transcript\\nTHE PRESIDENT: Thank you to our Fi...  "
      ]
     },
     "execution_count": 16,
     "metadata": {},
     "output_type": "execute_result"
    }
   ],
   "source": [
    "speech_df.head()"
   ]
  },
  {
   "cell_type": "markdown",
   "metadata": {},
   "source": [
    "### Errors"
   ]
  },
  {
   "cell_type": "code",
   "execution_count": 18,
   "metadata": {},
   "outputs": [
    {
     "data": {
      "text/plain": [
       "['https://millercenter.org/the-presidency/presidential-speeches/october-28-1932-campaign-speech-indianapolis-indiana']"
      ]
     },
     "execution_count": 18,
     "metadata": {},
     "output_type": "execute_result"
    }
   ],
   "source": [
    "# list of pages with errors\n",
    "speech_err"
   ]
  },
  {
   "cell_type": "code",
   "execution_count": 22,
   "metadata": {},
   "outputs": [
    {
     "name": "stdout",
     "output_type": "stream",
     "text": [
      "477\n"
     ]
    }
   ],
   "source": [
    "# index of links with errors\n",
    "for err in speech_err:\n",
    "    print(speech_list.index(err))"
   ]
  },
  {
   "cell_type": "code",
   "execution_count": 32,
   "metadata": {},
   "outputs": [],
   "source": [
    "# load error page\n",
    "driver.get(speech_err[0])\n",
    "driver.maximize_window()"
   ]
  },
  {
   "cell_type": "code",
   "execution_count": 33,
   "metadata": {},
   "outputs": [],
   "source": [
    "# grab data\n",
    "# title\n",
    "title = driver.find_element_by_xpath('//h2[@class=\"presidential-speeches--title\"]').text\n",
    "# president\n",
    "pres = driver.find_element_by_xpath('//p[@class=\"president-name\"]').text\n",
    "# date\n",
    "date = driver.find_element_by_xpath('//p[@class=\"episode-date\"]').text\n",
    "# transcript\n",
    "speech_text = driver.find_element_by_xpath('//div[@class=\"about-sidebar--intro\"]/p').text"
   ]
  },
  {
   "cell_type": "code",
   "execution_count": 65,
   "metadata": {},
   "outputs": [
    {
     "data": {
      "text/html": [
       "<div>\n",
       "<style scoped>\n",
       "    .dataframe tbody tr th:only-of-type {\n",
       "        vertical-align: middle;\n",
       "    }\n",
       "\n",
       "    .dataframe tbody tr th {\n",
       "        vertical-align: top;\n",
       "    }\n",
       "\n",
       "    .dataframe thead th {\n",
       "        text-align: right;\n",
       "    }\n",
       "</style>\n",
       "<table border=\"1\" class=\"dataframe\">\n",
       "  <thead>\n",
       "    <tr style=\"text-align: right;\">\n",
       "      <th></th>\n",
       "      <th>Title</th>\n",
       "      <th>Date</th>\n",
       "      <th>President</th>\n",
       "      <th>Transcript</th>\n",
       "    </tr>\n",
       "  </thead>\n",
       "  <tbody>\n",
       "    <tr>\n",
       "      <th>476</th>\n",
       "      <td>November 5, 1932: Campaign speech in St Paul M...</td>\n",
       "      <td>November 05, 1932</td>\n",
       "      <td>Herbert Hoover</td>\n",
       "      <td>Transcript\\nIn these closing hours of the camp...</td>\n",
       "    </tr>\n",
       "    <tr>\n",
       "      <th>477</th>\n",
       "      <td>October 21, 1932: Campaign Speech in Madison S...</td>\n",
       "      <td>October 21, 1932</td>\n",
       "      <td>Herbert Hoover</td>\n",
       "      <td>Transcript\\nThis campaign is more than a conte...</td>\n",
       "    </tr>\n",
       "    <tr>\n",
       "      <th>478</th>\n",
       "      <td>August 11, 1932: Speech Accepting the Republic...</td>\n",
       "      <td>August 11, 1932</td>\n",
       "      <td>Herbert Hoover</td>\n",
       "      <td>Transcript\\nMr. Chairman and my fellow citizen...</td>\n",
       "    </tr>\n",
       "    <tr>\n",
       "      <th>479</th>\n",
       "      <td>May 31, 1932: Statement on the National Economy</td>\n",
       "      <td>May 31, 1932</td>\n",
       "      <td>Herbert Hoover</td>\n",
       "      <td>Transcript\\n\\nAN EMERGENCY has developed in th...</td>\n",
       "    </tr>\n",
       "  </tbody>\n",
       "</table>\n",
       "</div>"
      ],
      "text/plain": [
       "                                                 Title               Date  \\\n",
       "476  November 5, 1932: Campaign speech in St Paul M...  November 05, 1932   \n",
       "477  October 21, 1932: Campaign Speech in Madison S...   October 21, 1932   \n",
       "478  August 11, 1932: Speech Accepting the Republic...    August 11, 1932   \n",
       "479    May 31, 1932: Statement on the National Economy       May 31, 1932   \n",
       "\n",
       "          President                                         Transcript  \n",
       "476  Herbert Hoover  Transcript\\nIn these closing hours of the camp...  \n",
       "477  Herbert Hoover  Transcript\\nThis campaign is more than a conte...  \n",
       "478  Herbert Hoover  Transcript\\nMr. Chairman and my fellow citizen...  \n",
       "479  Herbert Hoover  Transcript\\n\\nAN EMERGENCY has developed in th...  "
      ]
     },
     "execution_count": 65,
     "metadata": {},
     "output_type": "execute_result"
    }
   ],
   "source": [
    "speech_df.loc[476:479, :]"
   ]
  },
  {
   "cell_type": "code",
   "execution_count": 56,
   "metadata": {},
   "outputs": [],
   "source": [
    "# Function to insert row in the dataframe \n",
    "def Insert_row_(row_number, df, row_value): \n",
    "    # Slice the upper half of the dataframe \n",
    "    df1 = df[0:row_number] \n",
    "   \n",
    "    # Store the result of lower half of the dataframe \n",
    "    df2 = df[row_number:] \n",
    "   \n",
    "    # Inser the row in the upper half dataframe \n",
    "    df1.loc[row_number]=row_value \n",
    "   \n",
    "    # Concat the two dataframes \n",
    "    df_result = pd.concat([df1, df2]) \n",
    "   \n",
    "    # Reassign the index labels \n",
    "    df_result.index = [*range(df_result.shape[0])] \n",
    "   \n",
    "    # Return the updated dataframe \n",
    "    return df_result "
   ]
  },
  {
   "cell_type": "code",
   "execution_count": 66,
   "metadata": {},
   "outputs": [
    {
     "name": "stderr",
     "output_type": "stream",
     "text": [
      "/home/kevcon/anaconda3/lib/python3.6/site-packages/ipykernel_launcher.py:10: SettingWithCopyWarning: \n",
      "A value is trying to be set on a copy of a slice from a DataFrame\n",
      "\n",
      "See the caveats in the documentation: http://pandas.pydata.org/pandas-docs/stable/indexing.html#indexing-view-versus-copy\n",
      "  # Remove the CWD from sys.path while we load stuff.\n"
     ]
    }
   ],
   "source": [
    "# insert into dataframe\n",
    "speech_df = Insert_row_(477, speech_df, [title, date, pres, speech_text])"
   ]
  },
  {
   "cell_type": "code",
   "execution_count": 67,
   "metadata": {},
   "outputs": [
    {
     "data": {
      "text/html": [
       "<div>\n",
       "<style scoped>\n",
       "    .dataframe tbody tr th:only-of-type {\n",
       "        vertical-align: middle;\n",
       "    }\n",
       "\n",
       "    .dataframe tbody tr th {\n",
       "        vertical-align: top;\n",
       "    }\n",
       "\n",
       "    .dataframe thead th {\n",
       "        text-align: right;\n",
       "    }\n",
       "</style>\n",
       "<table border=\"1\" class=\"dataframe\">\n",
       "  <thead>\n",
       "    <tr style=\"text-align: right;\">\n",
       "      <th></th>\n",
       "      <th>Title</th>\n",
       "      <th>Date</th>\n",
       "      <th>President</th>\n",
       "      <th>Transcript</th>\n",
       "    </tr>\n",
       "  </thead>\n",
       "  <tbody>\n",
       "    <tr>\n",
       "      <th>476</th>\n",
       "      <td>November 5, 1932: Campaign speech in St Paul M...</td>\n",
       "      <td>November 05, 1932</td>\n",
       "      <td>Herbert Hoover</td>\n",
       "      <td>Transcript\\nIn these closing hours of the camp...</td>\n",
       "    </tr>\n",
       "    <tr>\n",
       "      <th>477</th>\n",
       "      <td>October 28, 1932: Campaign speech in Indianapo...</td>\n",
       "      <td>October 28, 1932</td>\n",
       "      <td>Herbert Hoover</td>\n",
       "      <td>My fellow citizens, my friends in Indianapolis...</td>\n",
       "    </tr>\n",
       "    <tr>\n",
       "      <th>478</th>\n",
       "      <td>October 21, 1932: Campaign Speech in Madison S...</td>\n",
       "      <td>October 21, 1932</td>\n",
       "      <td>Herbert Hoover</td>\n",
       "      <td>Transcript\\nThis campaign is more than a conte...</td>\n",
       "    </tr>\n",
       "    <tr>\n",
       "      <th>479</th>\n",
       "      <td>August 11, 1932: Speech Accepting the Republic...</td>\n",
       "      <td>August 11, 1932</td>\n",
       "      <td>Herbert Hoover</td>\n",
       "      <td>Transcript\\nMr. Chairman and my fellow citizen...</td>\n",
       "    </tr>\n",
       "  </tbody>\n",
       "</table>\n",
       "</div>"
      ],
      "text/plain": [
       "                                                 Title               Date  \\\n",
       "476  November 5, 1932: Campaign speech in St Paul M...  November 05, 1932   \n",
       "477  October 28, 1932: Campaign speech in Indianapo...   October 28, 1932   \n",
       "478  October 21, 1932: Campaign Speech in Madison S...   October 21, 1932   \n",
       "479  August 11, 1932: Speech Accepting the Republic...    August 11, 1932   \n",
       "\n",
       "          President                                         Transcript  \n",
       "476  Herbert Hoover  Transcript\\nIn these closing hours of the camp...  \n",
       "477  Herbert Hoover  My fellow citizens, my friends in Indianapolis...  \n",
       "478  Herbert Hoover  Transcript\\nThis campaign is more than a conte...  \n",
       "479  Herbert Hoover  Transcript\\nMr. Chairman and my fellow citizen...  "
      ]
     },
     "execution_count": 67,
     "metadata": {},
     "output_type": "execute_result"
    }
   ],
   "source": [
    "speech_df.loc[476:479, :]"
   ]
  },
  {
   "cell_type": "code",
   "execution_count": 68,
   "metadata": {},
   "outputs": [],
   "source": [
    "# close driver object\n",
    "driver.close()"
   ]
  },
  {
   "cell_type": "markdown",
   "metadata": {},
   "source": [
    "### Save Dataframe"
   ]
  },
  {
   "cell_type": "code",
   "execution_count": 70,
   "metadata": {},
   "outputs": [],
   "source": [
    "# save speech dataframe to CSV file\n",
    "speech_df.to_csv('data/transcripts.csv')"
   ]
  },
  {
   "cell_type": "code",
   "execution_count": 64,
   "metadata": {},
   "outputs": [],
   "source": [
    "# load speech dataframe from CSV file\n",
    "speech_df = pd.read_csv('data/transcripts.csv', index_col=0)"
   ]
  },
  {
   "cell_type": "code",
   "execution_count": null,
   "metadata": {},
   "outputs": [],
   "source": []
  }
 ],
 "metadata": {
  "kernelspec": {
   "display_name": "Python 3",
   "language": "python",
   "name": "python3"
  },
  "language_info": {
   "codemirror_mode": {
    "name": "ipython",
    "version": 3
   },
   "file_extension": ".py",
   "mimetype": "text/x-python",
   "name": "python",
   "nbconvert_exporter": "python",
   "pygments_lexer": "ipython3",
   "version": "3.6.5"
  }
 },
 "nbformat": 4,
 "nbformat_minor": 2
}
